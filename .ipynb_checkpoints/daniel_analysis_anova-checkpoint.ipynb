{
 "cells": [
  {
   "cell_type": "code",
   "execution_count": null,
   "metadata": {},
   "outputs": [],
   "source": [
    "H0:\n",
    "\n",
    "HA: "
   ]
  },
  {
   "cell_type": "markdown",
   "metadata": {},
   "source": [
    "### Importing libraries"
   ]
  },
  {
   "cell_type": "code",
   "execution_count": null,
   "metadata": {},
   "outputs": [],
   "source": [
    "import pandas as pd\n",
    "import numpy as np\n",
    "import matplotlib.pyplot as plt\n",
    "from scipy.stats import stats\n",
    "\n",
    "import statsmodels.api as sm\n",
    "from statsmodels.formula.api import ols\n",
    "%matplotlib inline"
   ]
  },
  {
   "cell_type": "markdown",
   "metadata": {},
   "source": [
    "- Reading CSV file"
   ]
  },
  {
   "cell_type": "code",
   "execution_count": null,
   "metadata": {},
   "outputs": [],
   "source": [
    "#Creating artist_codes dataframe\n",
    "artists = pd.read_csv('Data/spotify_artists_cleaned.csv')"
   ]
  },
  {
   "cell_type": "code",
   "execution_count": null,
   "metadata": {},
   "outputs": [],
   "source": [
    "artists.head()"
   ]
  },
  {
   "cell_type": "code",
   "execution_count": null,
   "metadata": {},
   "outputs": [],
   "source": [
    "pop_artists = artists[(artists['pop']==True)]\n",
    "rock_artists = artists[(artists['rock']==True)]\n",
    "hiphop_artists = artists[(artists['hiphop']==True)]\n",
    "country_artists = artists[(artists['country']==True)]"
   ]
  },
  {
   "cell_type": "code",
   "execution_count": null,
   "metadata": {},
   "outputs": [],
   "source": [
    "type(pop_artists)"
   ]
  },
  {
   "cell_type": "code",
   "execution_count": null,
   "metadata": {},
   "outputs": [],
   "source": [
    "pop_artists.shape\n"
   ]
  },
  {
   "cell_type": "code",
   "execution_count": null,
   "metadata": {},
   "outputs": [],
   "source": [
    "stats.normaltest(pop_artists['artist_popularity'].values)"
   ]
  },
  {
   "cell_type": "code",
   "execution_count": null,
   "metadata": {},
   "outputs": [],
   "source": [
    "print(pop_artists.info())\n",
    "print(rock_artists.info())\n",
    "print(hiphop_artists.info())\n",
    "print(country_artists.info())"
   ]
  },
  {
   "cell_type": "markdown",
   "metadata": {},
   "source": [
    "- pop = 14003\n",
    "- rock = 6501\n",
    "- hiphop = 4446\n",
    "- country = 794"
   ]
  },
  {
   "cell_type": "code",
   "execution_count": null,
   "metadata": {
    "scrolled": true
   },
   "outputs": [],
   "source": [
    "print(hiphop_artists.info())\n",
    "rock_artists.head()"
   ]
  },
  {
   "cell_type": "markdown",
   "metadata": {},
   "source": [
    "- Artists in numpy array"
   ]
  },
  {
   "cell_type": "code",
   "execution_count": null,
   "metadata": {},
   "outputs": [],
   "source": [
    "pop_sample1 = np.array(pop_artists['artist_popularity'].sample(700))\n",
    "rock_sample1 = np.array(rock_artists['artist_popularity'].sample(300))\n",
    "hiphop_sample1 = np.array(hiphop_artists['artist_popularity'].sample(300))\n",
    "country_sample1 = np.array(country_artists['artist_popularity'].sample(200))"
   ]
  },
  {
   "cell_type": "code",
   "execution_count": null,
   "metadata": {},
   "outputs": [],
   "source": [
    "stats.normaltest(pop_sample1)"
   ]
  },
  {
   "cell_type": "code",
   "execution_count": null,
   "metadata": {},
   "outputs": [],
   "source": [
    "stats.normaltest(country_sample1)"
   ]
  },
  {
   "cell_type": "code",
   "execution_count": null,
   "metadata": {},
   "outputs": [],
   "source": [
    "sample_test_df = pd.DataFrame({'pop': pop_sample1, 'rock': rock_sample1, 'hiphop': hiphop_sample1, 'country': country_sample1})\n",
    "sample_test_df.head()"
   ]
  },
  {
   "cell_type": "code",
   "execution_count": null,
   "metadata": {
    "scrolled": true
   },
   "outputs": [],
   "source": [
    "sample_test_df.boxplot(showmeans=True)\n",
    "plt.tight_layout()"
   ]
  },
  {
   "cell_type": "code",
   "execution_count": null,
   "metadata": {},
   "outputs": [],
   "source": [
    "print('Means of the samples are: ', \n",
    "      pop_sample1.mean(), \n",
    "      rock_sample1.mean(),\n",
    "      hiphop_sample1.mean(), '\\n',\n",
    "      country_sample1.mean()\n",
    "     )"
   ]
  },
  {
   "cell_type": "code",
   "execution_count": null,
   "metadata": {},
   "outputs": [],
   "source": [
    "print('STD of the samples are: ', \n",
    "      np.std(pop_sample1), \n",
    "      np.std(rock_sample1),\n",
    "      np.std(hiphop_sample1), '\\n',\n",
    "      np.std(country_sample1)\n",
    "     )"
   ]
  },
  {
   "cell_type": "code",
   "execution_count": null,
   "metadata": {},
   "outputs": [],
   "source": [
    "## sample sizes for different groups\n",
    "n1 = 100\n",
    "n2 = 100\n",
    "n3 = 100\n",
    "n4 = 100\n",
    "\n",
    "## number of groups\n",
    "t = 4"
   ]
  },
  {
   "cell_type": "code",
   "execution_count": null,
   "metadata": {},
   "outputs": [],
   "source": [
    "## for the first group\n",
    "y1_bar = pop_sample1.mean()\n",
    "ss1 = pop_sample1.var(ddof = 1)\n",
    "\n",
    "## for the second group\n",
    "y2_bar = rock_sample1.mean()\n",
    "ss2 = rock_sample1.var(ddof = 1)\n",
    "\n",
    "## for the third group\n",
    "y3_bar = hiphop_sample1.mean()\n",
    "ss3 = hiphop_sample1.var(ddof = 1)\n",
    "\n",
    "## for the last group\n",
    "y4_bar = country_sample1.mean()\n",
    "ss4 = country_sample1.var(ddof = 1)"
   ]
  },
  {
   "cell_type": "code",
   "execution_count": null,
   "metadata": {},
   "outputs": [],
   "source": [
    "## pooled variance\n",
    "s_p = sum([ss1, ss2, ss3, ss4]) / (sum([n1, n2, n3, n4]) - 4)"
   ]
  },
  {
   "cell_type": "code",
   "execution_count": null,
   "metadata": {},
   "outputs": [],
   "source": [
    "y = np.sum([pop_sample1,rock_sample1,country_sample1,hiphop_sample1])\n",
    "\n",
    "y_bar = y/(n1 + n2 + n3 + n4)\n",
    "\n",
    "ns_means =(n1 + n2 + n3 + n4)*(np.sum([(y1_bar - y_bar)**2, \n",
    "                                       (y2_bar - y_bar)**2,\n",
    "                                       (y3_bar - y_bar)**2, \n",
    "                                       (y4_bar - y_bar)**2 ])) / (t-1)"
   ]
  },
  {
   "cell_type": "code",
   "execution_count": null,
   "metadata": {},
   "outputs": [],
   "source": [
    "mod = ols('weight ~ group', data=sample_test_df)"
   ]
  },
  {
   "cell_type": "markdown",
   "metadata": {},
   "source": [
    "### Notation"
   ]
  },
  {
   "cell_type": "markdown",
   "metadata": {},
   "source": [
    "- $K$: number of groups. \n",
    "    In this exercise, we have k = 4 (pop_sample1,rock_sample1, hiphop_sample1, country_sample1) \n",
    "    \n",
    "- $X_{ij}$: represents the $j$th observation in the $i$th group.\n",
    "    For example, we have 100 observations($j$th observations) for the group pop_sample1 (the $i$th group).\n",
    "    \n",
    "- $\\bar X_{i}$: represents the mean of the $i$th group.\n",
    "     For example, this is the mean of the $X_{ij}$ for pop_sample. Last, we will have K number of groups.\n",
    "     \n",
    "- $\\bar X$: represents the mean of all observations from the groups"
   ]
  },
  {
   "cell_type": "markdown",
   "metadata": {},
   "source": [
    "### Importing libraries"
   ]
  },
  {
   "cell_type": "code",
   "execution_count": 1,
   "metadata": {},
   "outputs": [],
   "source": [
    "import pandas as pd\n",
    "import numpy as np\n",
    "import matplotlib.pyplot as plt\n",
    "from scipy.stats import stats\n",
    "\n",
    "import statsmodels.api as sm\n",
    "from statsmodels.formula.api import ols\n",
    "%matplotlib inline"
   ]
  },
  {
   "cell_type": "markdown",
   "metadata": {},
   "source": [
    "- Reading CSV file"
   ]
  },
  {
   "cell_type": "code",
   "execution_count": 2,
   "metadata": {},
   "outputs": [],
   "source": [
    "#Creating artist_codes dataframe\n",
    "artists = pd.read_csv('Data/spotify_artists_cleaned.csv')"
   ]
  },
  {
   "cell_type": "markdown",
   "metadata": {},
   "source": [
    "- Setting variables for each parent genres"
   ]
  },
  {
   "cell_type": "code",
   "execution_count": 3,
   "metadata": {},
   "outputs": [],
   "source": [
    "pop_artists = artists[(artists['pop']==True)]\n",
    "rock_artists = artists[(artists['rock']==True)]\n",
    "hiphop_artists = artists[(artists['hiphop']==True)]\n",
    "country_artists = artists[(artists['country']==True)]"
   ]
  },
  {
   "cell_type": "markdown",
   "metadata": {},
   "source": [
    "- Tacking random sample per parent genres as NumPy Array"
   ]
  },
  {
   "cell_type": "code",
   "execution_count": 4,
   "metadata": {},
   "outputs": [],
   "source": [
    "pop_sample1 = np.array(pop_artists['artist_popularity'].sample(700))\n",
    "rock_sample1 = np.array(rock_artists['artist_popularity'].sample(300))\n",
    "hiphop_sample1 = np.array(hiphop_artists['artist_popularity'].sample(300))\n",
    "country_sample1 = np.array(country_artists['artist_popularity'].sample(200))"
   ]
  },
  {
   "cell_type": "markdown",
   "metadata": {},
   "source": [
    "### $K$ Groups\n",
    "\n",
    "Number of Groups: 4\n",
    " - Pop_sample1\n",
    " - Rock_sample1\n",
    " - hiphop_sample1\n",
    " - country_sample1\n"
   ]
  },
  {
   "cell_type": "code",
   "execution_count": 5,
   "metadata": {},
   "outputs": [],
   "source": [
    "genres_samples = [pop_sample1, rock_sample1, hiphop_sample1, country_sample1]\n",
    "k = len(genres_samples)\n"
   ]
  },
  {
   "cell_type": "markdown",
   "metadata": {},
   "source": [
    "### $X_{ij}$ Number of observations withing each group:"
   ]
  },
  {
   "cell_type": "code",
   "execution_count": 8,
   "metadata": {},
   "outputs": [],
   "source": [
    "pop_x1 = len(pop_sample1) \n",
    "rock_x2 = len(rock_sample1)\n",
    "hiphop_x3 = len(hiphop_sample1)\n",
    "country_x4 = len(country_sample1)"
   ]
  },
  {
   "cell_type": "markdown",
   "metadata": {},
   "source": [
    "### $\\bar X$ Mean from all observations from groups"
   ]
  },
  {
   "cell_type": "code",
   "execution_count": 9,
   "metadata": {},
   "outputs": [],
   "source": [
    "x_all  = np.concatenate([pop_sample1,\n",
    "                rock_sample1, \n",
    "                hiphop_sample1,\n",
    "                country_sample1], axis=0)\n",
    "\n",
    "x_bar = x_all.mean()\n",
    "\n",
    "ss_total = ((x_all - x_bar)**2).sum()"
   ]
  },
  {
   "cell_type": "markdown",
   "metadata": {},
   "source": [
    "## Sum of Squares \n",
    "\n",
    "- Sum of Squares for Treatments (SST)\n",
    "- Sum of Squares for Erro (SSE)"
   ]
  },
  {
   "cell_type": "markdown",
   "metadata": {},
   "source": [
    "#### For SST"
   ]
  },
  {
   "cell_type": "code",
   "execution_count": 10,
   "metadata": {},
   "outputs": [],
   "source": [
    "sample_list_t = [pop_sample1,\n",
    "               rock_sample1, hiphop_sample1, country_sample1]\n",
    "\n",
    "preview_sst = ([len(sample)*(sample.mean() - x_bar)**2 for sample in sample_list_t])"
   ]
  },
  {
   "cell_type": "markdown",
   "metadata": {},
   "source": [
    "- Final sum between groups "
   ]
  },
  {
   "cell_type": "code",
   "execution_count": 12,
   "metadata": {
    "scrolled": true
   },
   "outputs": [],
   "source": [
    "final_sst = np.sum(preview_sst)"
   ]
  },
  {
   "cell_type": "markdown",
   "metadata": {},
   "source": [
    "#### For SSE"
   ]
  },
  {
   "cell_type": "code",
   "execution_count": 39,
   "metadata": {},
   "outputs": [],
   "source": [
    "sample_list_e = [pop_sample1,\n",
    "               rock_sample1, hiphop_sample1, country_sample1]\n",
    "\n",
    "preview_sse = ([(x_all - sample.mean())**2 for sample in sample_list_e])"
   ]
  },
  {
   "cell_type": "markdown",
   "metadata": {},
   "source": [
    "- Final sum within groups"
   ]
  },
  {
   "cell_type": "code",
   "execution_count": 40,
   "metadata": {},
   "outputs": [],
   "source": [
    "final_sse = np.sum(preview_sse)"
   ]
  },
  {
   "cell_type": "markdown",
   "metadata": {},
   "source": [
    "## Degrees of Freedom\n",
    "\n",
    "- Degrees of Freedom for Treatments (k - 1)\n",
    "- Degrees of Freedom for Error (n - k)"
   ]
  },
  {
   "cell_type": "markdown",
   "metadata": {},
   "source": [
    "#### For (k -1)"
   ]
  },
  {
   "cell_type": "code",
   "execution_count": 41,
   "metadata": {},
   "outputs": [],
   "source": [
    "df_treatments = (k - 1) "
   ]
  },
  {
   "cell_type": "markdown",
   "metadata": {},
   "source": [
    "#### For (n - k)"
   ]
  },
  {
   "cell_type": "code",
   "execution_count": 42,
   "metadata": {},
   "outputs": [],
   "source": [
    "df_error = (pop_x1 + rock_x2 + hiphop_x3 + country_x4) - k"
   ]
  },
  {
   "cell_type": "markdown",
   "metadata": {},
   "source": [
    "### F Score"
   ]
  },
  {
   "cell_type": "markdown",
   "metadata": {},
   "source": [
    "- For MST"
   ]
  },
  {
   "cell_type": "code",
   "execution_count": 44,
   "metadata": {},
   "outputs": [],
   "source": [
    "mst = final_sst / df_treatments"
   ]
  },
  {
   "cell_type": "markdown",
   "metadata": {},
   "source": [
    "- For MSE"
   ]
  },
  {
   "cell_type": "code",
   "execution_count": 45,
   "metadata": {},
   "outputs": [],
   "source": [
    "mse = final_sse / df_error"
   ]
  },
  {
   "cell_type": "markdown",
   "metadata": {},
   "source": [
    "- F Score ratio"
   ]
  },
  {
   "cell_type": "code",
   "execution_count": 46,
   "metadata": {},
   "outputs": [],
   "source": [
    "f_score = mst / mse"
   ]
  },
  {
   "cell_type": "code",
   "execution_count": 47,
   "metadata": {},
   "outputs": [
    {
     "data": {
      "text/plain": [
       "4.1562791232047696"
      ]
     },
     "execution_count": 47,
     "metadata": {},
     "output_type": "execute_result"
    }
   ],
   "source": [
    "f_score"
   ]
  },
  {
   "cell_type": "markdown",
   "metadata": {},
   "source": [
    "### P-Value"
   ]
  },
  {
   "cell_type": "code",
   "execution_count": 52,
   "metadata": {},
   "outputs": [],
   "source": [
    "p_value = 1 - scipy.stats.f.cdf(f_score, df_treatments, df_error)"
   ]
  },
  {
   "cell_type": "code",
   "execution_count": 53,
   "metadata": {},
   "outputs": [
    {
     "data": {
      "text/plain": [
       "0.006070854437746909"
      ]
     },
     "execution_count": 53,
     "metadata": {},
     "output_type": "execute_result"
    }
   ],
   "source": [
    "p_value"
   ]
  },
  {
   "cell_type": "markdown",
   "metadata": {},
   "source": [
    "### Drafts"
   ]
  },
  {
   "cell_type": "code",
   "execution_count": null,
   "metadata": {},
   "outputs": [],
   "source": [
    "l = ['m', 'u', 'r', 'a', 't']"
   ]
  },
  {
   "cell_type": "code",
   "execution_count": null,
   "metadata": {},
   "outputs": [],
   "source": [
    "[print(index + 'o') for index in l if index != 'm']"
   ]
  },
  {
   "cell_type": "code",
   "execution_count": 29,
   "metadata": {},
   "outputs": [],
   "source": [
    "import scipy.stats "
   ]
  },
  {
   "cell_type": "code",
   "execution_count": 30,
   "metadata": {},
   "outputs": [
    {
     "data": {
      "text/plain": [
       "0.0005883705569387221"
      ]
     },
     "execution_count": 30,
     "metadata": {},
     "output_type": "execute_result"
    }
   ],
   "source": [
    "1- scipy.stats.f.cdf(19, dfn = 2, dfd= 9)"
   ]
  },
  {
   "cell_type": "code",
   "execution_count": null,
   "metadata": {},
   "outputs": [],
   "source": []
  }
 ],
 "metadata": {
  "kernelspec": {
   "display_name": "Python 3",
   "language": "python",
   "name": "python3"
  },
  "language_info": {
   "codemirror_mode": {
    "name": "ipython",
    "version": 3
   },
   "file_extension": ".py",
   "mimetype": "text/x-python",
   "name": "python",
   "nbconvert_exporter": "python",
   "pygments_lexer": "ipython3",
   "version": "3.7.3"
  },
  "varInspector": {
   "cols": {
    "lenName": 16,
    "lenType": 16,
    "lenVar": 40
   },
   "kernels_config": {
    "python": {
     "delete_cmd_postfix": "",
     "delete_cmd_prefix": "del ",
     "library": "var_list.py",
     "varRefreshCmd": "print(var_dic_list())"
    },
    "r": {
     "delete_cmd_postfix": ") ",
     "delete_cmd_prefix": "rm(",
     "library": "var_list.r",
     "varRefreshCmd": "cat(var_dic_list()) "
    }
   },
   "types_to_exclude": [
    "module",
    "function",
    "builtin_function_or_method",
    "instance",
    "_Feature"
   ],
   "window_display": false
  }
 },
 "nbformat": 4,
 "nbformat_minor": 2
}
