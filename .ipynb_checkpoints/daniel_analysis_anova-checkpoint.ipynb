{
 "cells": [
  {
   "cell_type": "code",
   "execution_count": null,
   "metadata": {},
   "outputs": [],
   "source": [
    "H0:\n",
    "\n",
    "HA: "
   ]
  },
  {
   "cell_type": "markdown",
   "metadata": {},
   "source": [
    "### Importing libraries"
   ]
  },
  {
   "cell_type": "code",
   "execution_count": null,
   "metadata": {},
   "outputs": [],
   "source": [
    "import pandas as pd\n",
    "import numpy as np\n",
    "import matplotlib.pyplot as plt\n",
    "from scipy.stats import stats\n",
    "\n",
    "import statsmodels.api as sm\n",
    "from statsmodels.formula.api import ols\n",
    "%matplotlib inline"
   ]
  },
  {
   "cell_type": "markdown",
   "metadata": {},
   "source": [
    "- Reading CSV file"
   ]
  },
  {
   "cell_type": "code",
   "execution_count": null,
   "metadata": {},
   "outputs": [],
   "source": [
    "#Creating artist_codes dataframe\n",
    "artists = pd.read_csv('Data/spotify_artists_cleaned.csv')"
   ]
  },
  {
   "cell_type": "code",
   "execution_count": null,
   "metadata": {},
   "outputs": [],
   "source": [
    "artists.head()"
   ]
  },
  {
   "cell_type": "code",
   "execution_count": null,
   "metadata": {},
   "outputs": [],
   "source": [
    "pop_artists = artists[(artists['pop']==True)]\n",
    "rock_artists = artists[(artists['rock']==True)]\n",
    "hiphop_artists = artists[(artists['hiphop']==True)]\n",
    "country_artists = artists[(artists['country']==True)]"
   ]
  },
  {
   "cell_type": "code",
   "execution_count": null,
   "metadata": {},
   "outputs": [],
   "source": [
    "type(pop_artists)"
   ]
  },
  {
   "cell_type": "code",
   "execution_count": null,
   "metadata": {},
   "outputs": [],
   "source": [
    "pop_artists.shape\n"
   ]
  },
  {
   "cell_type": "code",
   "execution_count": null,
   "metadata": {},
   "outputs": [],
   "source": [
    "stats.normaltest(pop_artists['artist_popularity'].values)"
   ]
  },
  {
   "cell_type": "code",
   "execution_count": null,
   "metadata": {},
   "outputs": [],
   "source": [
    "print(pop_artists.info())\n",
    "print(rock_artists.info())\n",
    "print(hiphop_artists.info())\n",
    "print(country_artists.info())"
   ]
  },
  {
   "cell_type": "markdown",
   "metadata": {},
   "source": [
    "- pop = 14003\n",
    "- rock = 6501\n",
    "- hiphop = 4446\n",
    "- country = 794"
   ]
  },
  {
   "cell_type": "code",
   "execution_count": null,
   "metadata": {
    "scrolled": true
   },
   "outputs": [],
   "source": [
    "print(hiphop_artists.info())\n",
    "rock_artists.head()"
   ]
  },
  {
   "cell_type": "markdown",
   "metadata": {},
   "source": [
    "- Artists in numpy array"
   ]
  },
  {
   "cell_type": "code",
   "execution_count": null,
   "metadata": {},
   "outputs": [],
   "source": [
    "pop_sample1 = np.array(pop_artists['artist_popularity'].sample(700))\n",
    "rock_sample1 = np.array(rock_artists['artist_popularity'].sample(300))\n",
    "hiphop_sample1 = np.array(hiphop_artists['artist_popularity'].sample(300))\n",
    "country_sample1 = np.array(country_artists['artist_popularity'].sample(200))"
   ]
  },
  {
   "cell_type": "code",
   "execution_count": null,
   "metadata": {},
   "outputs": [],
   "source": [
    "stats.normaltest(pop_sample1)"
   ]
  },
  {
   "cell_type": "code",
   "execution_count": null,
   "metadata": {},
   "outputs": [],
   "source": [
    "stats.normaltest(country_sample1)"
   ]
  },
  {
   "cell_type": "code",
   "execution_count": null,
   "metadata": {},
   "outputs": [],
   "source": [
    "sample_test_df = pd.DataFrame({'pop': pop_sample1, 'rock': rock_sample1, 'hiphop': hiphop_sample1, 'country': country_sample1})\n",
    "sample_test_df.head()"
   ]
  },
  {
   "cell_type": "code",
   "execution_count": null,
   "metadata": {
    "scrolled": true
   },
   "outputs": [],
   "source": [
    "sample_test_df.boxplot(showmeans=True)\n",
    "plt.tight_layout()"
   ]
  },
  {
   "cell_type": "code",
   "execution_count": null,
   "metadata": {},
   "outputs": [],
   "source": [
    "print('Means of the samples are: ', \n",
    "      pop_sample1.mean(), \n",
    "      rock_sample1.mean(),\n",
    "      hiphop_sample1.mean(), '\\n',\n",
    "      country_sample1.mean()\n",
    "     )"
   ]
  },
  {
   "cell_type": "code",
   "execution_count": null,
   "metadata": {},
   "outputs": [],
   "source": [
    "print('STD of the samples are: ', \n",
    "      np.std(pop_sample1), \n",
    "      np.std(rock_sample1),\n",
    "      np.std(hiphop_sample1), '\\n',\n",
    "      np.std(country_sample1)\n",
    "     )"
   ]
  },
  {
   "cell_type": "code",
   "execution_count": null,
   "metadata": {},
   "outputs": [],
   "source": [
    "## sample sizes for different groups\n",
    "n1 = 100\n",
    "n2 = 100\n",
    "n3 = 100\n",
    "n4 = 100\n",
    "\n",
    "## number of groups\n",
    "t = 4"
   ]
  },
  {
   "cell_type": "code",
   "execution_count": null,
   "metadata": {},
   "outputs": [],
   "source": [
    "## for the first group\n",
    "y1_bar = pop_sample1.mean()\n",
    "ss1 = pop_sample1.var(ddof = 1)\n",
    "\n",
    "## for the second group\n",
    "y2_bar = rock_sample1.mean()\n",
    "ss2 = rock_sample1.var(ddof = 1)\n",
    "\n",
    "## for the third group\n",
    "y3_bar = hiphop_sample1.mean()\n",
    "ss3 = hiphop_sample1.var(ddof = 1)\n",
    "\n",
    "## for the last group\n",
    "y4_bar = country_sample1.mean()\n",
    "ss4 = country_sample1.var(ddof = 1)"
   ]
  },
  {
   "cell_type": "code",
   "execution_count": null,
   "metadata": {},
   "outputs": [],
   "source": [
    "## pooled variance\n",
    "s_p = sum([ss1, ss2, ss3, ss4]) / (sum([n1, n2, n3, n4]) - 4)"
   ]
  },
  {
   "cell_type": "code",
   "execution_count": null,
   "metadata": {},
   "outputs": [],
   "source": [
    "y = np.sum([pop_sample1,rock_sample1,country_sample1,hiphop_sample1])\n",
    "\n",
    "y_bar = y/(n1 + n2 + n3 + n4)\n",
    "\n",
    "ns_means =(n1 + n2 + n3 + n4)*(np.sum([(y1_bar - y_bar)**2, \n",
    "                                       (y2_bar - y_bar)**2,\n",
    "                                       (y3_bar - y_bar)**2, \n",
    "                                       (y4_bar - y_bar)**2 ])) / (t-1)"
   ]
  },
  {
   "cell_type": "code",
   "execution_count": null,
   "metadata": {},
   "outputs": [],
   "source": [
    "mod = ols('weight ~ group', data=sample_test_df)"
   ]
  },
  {
   "cell_type": "markdown",
   "metadata": {},
   "source": [
    "### Notation"
   ]
  },
  {
   "cell_type": "markdown",
   "metadata": {},
   "source": [
    "- $K$: number of groups. \n",
    "    In this exercise, we have k = 4 (pop_sample1,rock_sample1, hiphop_sample1, country_sample1) \n",
    "    \n",
    "- $X_{ij}$: represents the $j$th observation in the $i$th group.\n",
    "    For example, we have 100 observations($j$th observations) for the group pop_sample1 (the $i$th group).\n",
    "    \n",
    "- $\\bar X_{i}$: represents the mean of the $i$th group.\n",
    "     For example, this is the mean of the $X_{ij}$ for pop_sample. Last, we will have K number of groups.\n",
    "     \n",
    "- $\\bar X$: represents the mean of all observations from the groups"
   ]
  },
  {
   "cell_type": "markdown",
   "metadata": {},
   "source": [
    "### Importing libraries"
   ]
  },
  {
   "cell_type": "code",
   "execution_count": 1,
   "metadata": {},
   "outputs": [],
   "source": [
    "import pandas as pd\n",
    "import numpy as np\n",
    "import matplotlib.pyplot as plt\n",
    "from scipy.stats import (f, stats)\n",
    "import math\n",
    "from statsmodels.stats.multicomp import (pairwise_tukeyhsd,\n",
    "                                         MultiComparison)\n",
    "\n",
    "\n",
    "import statsmodels.api as sm\n",
    "from statsmodels.formula.api import ols\n",
    "%matplotlib inline"
   ]
  },
  {
   "cell_type": "markdown",
   "metadata": {},
   "source": [
    "- Reading CSV file"
   ]
  },
  {
   "cell_type": "code",
   "execution_count": 2,
   "metadata": {},
   "outputs": [],
   "source": [
    "#Creating artist_codes dataframe\n",
    "artists = pd.read_csv('Data/spotify_artists_cleaned.csv')"
   ]
  },
  {
   "cell_type": "markdown",
   "metadata": {},
   "source": [
    "- Setting variables for each parent genres"
   ]
  },
  {
   "cell_type": "code",
   "execution_count": 3,
   "metadata": {},
   "outputs": [],
   "source": [
    "pop_artists = artists[(artists['pop']==True)]\n",
    "rock_artists = artists[(artists['rock']==True)]\n",
    "hiphop_artists = artists[(artists['hiphop']==True)]\n",
    "country_artists = artists[(artists['country']==True)]"
   ]
  },
  {
   "cell_type": "markdown",
   "metadata": {},
   "source": [
    "- Tacking random sample per parent genres as NumPy Array"
   ]
  },
  {
   "cell_type": "code",
   "execution_count": 4,
   "metadata": {},
   "outputs": [],
   "source": [
    "pop_sample1 = np.array(pop_artists['artist_popularity'].sample(700))\n",
    "rock_sample1 = np.array(rock_artists['artist_popularity'].sample(300))\n",
    "hiphop_sample1 = np.array(hiphop_artists['artist_popularity'].sample(300))\n",
    "country_sample1 = np.array(country_artists['artist_popularity'].sample(200))"
   ]
  },
  {
   "cell_type": "markdown",
   "metadata": {},
   "source": [
    "### $K$ Groups\n",
    "\n",
    "Number of Groups: 4\n",
    " - Pop_sample1\n",
    " - Rock_sample1\n",
    " - hiphop_sample1\n",
    " - country_sample1\n"
   ]
  },
  {
   "cell_type": "code",
   "execution_count": 5,
   "metadata": {},
   "outputs": [],
   "source": [
    "genres_samples = [pop_sample1, rock_sample1, hiphop_sample1, country_sample1]\n",
    "k = len(genres_samples)\n"
   ]
  },
  {
   "cell_type": "markdown",
   "metadata": {},
   "source": [
    "### $X_{ij}$ Number of observations withing each group:"
   ]
  },
  {
   "cell_type": "code",
   "execution_count": 6,
   "metadata": {},
   "outputs": [],
   "source": [
    "pop_x1 = len(pop_sample1) \n",
    "rock_x2 = len(rock_sample1)\n",
    "hiphop_x3 = len(hiphop_sample1)\n",
    "country_x4 = len(country_sample1)"
   ]
  },
  {
   "cell_type": "markdown",
   "metadata": {},
   "source": [
    "### $\\bar X$ Mean from all observations from groups"
   ]
  },
  {
   "cell_type": "code",
   "execution_count": 7,
   "metadata": {},
   "outputs": [],
   "source": [
    "x_all  = np.concatenate([pop_sample1,\n",
    "                rock_sample1, \n",
    "                hiphop_sample1,\n",
    "                country_sample1], axis=0)\n",
    "\n",
    "x_bar = x_all.mean()\n",
    "\n",
    "ss_total = ((x_all - x_bar)**2).sum()"
   ]
  },
  {
   "cell_type": "markdown",
   "metadata": {},
   "source": [
    "## Sum of Squares \n",
    "\n",
    "- Sum of Squares for Treatments (SST)\n",
    "- Sum of Squares for Erro (SSE)"
   ]
  },
  {
   "cell_type": "markdown",
   "metadata": {},
   "source": [
    "#### For SST"
   ]
  },
  {
   "cell_type": "code",
   "execution_count": 8,
   "metadata": {},
   "outputs": [],
   "source": [
    "group_list_t = [pop_sample1,\n",
    "               rock_sample1, hiphop_sample1, country_sample1]\n",
    "\n",
    "preview_sst = ([len(sample)*(sample.mean() - x_bar)**2 for sample in group_list_t])"
   ]
  },
  {
   "cell_type": "markdown",
   "metadata": {},
   "source": [
    "- Final sum between groups "
   ]
  },
  {
   "cell_type": "code",
   "execution_count": 9,
   "metadata": {
    "scrolled": true
   },
   "outputs": [],
   "source": [
    "final_sst = np.sum(preview_sst)"
   ]
  },
  {
   "cell_type": "markdown",
   "metadata": {},
   "source": [
    "#### For SSE"
   ]
  },
  {
   "cell_type": "code",
   "execution_count": 10,
   "metadata": {},
   "outputs": [],
   "source": [
    "sample_list_e = [pop_sample1,\n",
    "               rock_sample1, hiphop_sample1, country_sample1]\n",
    "\n",
    "preview_sse = ([((sample - sample.mean())**2).sum() for sample in sample_list_e])"
   ]
  },
  {
   "cell_type": "markdown",
   "metadata": {},
   "source": [
    "- Final sum within groups"
   ]
  },
  {
   "cell_type": "code",
   "execution_count": 11,
   "metadata": {},
   "outputs": [],
   "source": [
    "final_sse = np.sum(preview_sse)"
   ]
  },
  {
   "cell_type": "markdown",
   "metadata": {},
   "source": [
    "## Degrees of Freedom\n",
    "\n",
    "- Degrees of Freedom for Treatments (k - 1)\n",
    "- Degrees of Freedom for Error (n - k)"
   ]
  },
  {
   "cell_type": "markdown",
   "metadata": {},
   "source": [
    "#### For (k -1)"
   ]
  },
  {
   "cell_type": "code",
   "execution_count": 12,
   "metadata": {},
   "outputs": [],
   "source": [
    "df_treatments = (k - 1) "
   ]
  },
  {
   "cell_type": "markdown",
   "metadata": {},
   "source": [
    "#### For (n - k)"
   ]
  },
  {
   "cell_type": "code",
   "execution_count": 13,
   "metadata": {},
   "outputs": [],
   "source": [
    "df_error = (pop_x1 + rock_x2 + hiphop_x3 + country_x4) - k"
   ]
  },
  {
   "cell_type": "markdown",
   "metadata": {},
   "source": [
    "### F Score"
   ]
  },
  {
   "cell_type": "markdown",
   "metadata": {},
   "source": [
    "- For MST"
   ]
  },
  {
   "cell_type": "code",
   "execution_count": 14,
   "metadata": {},
   "outputs": [],
   "source": [
    "mst = final_sst / df_treatments"
   ]
  },
  {
   "cell_type": "markdown",
   "metadata": {},
   "source": [
    "- For MSE"
   ]
  },
  {
   "cell_type": "code",
   "execution_count": 15,
   "metadata": {},
   "outputs": [],
   "source": [
    "mse = final_sse / df_error"
   ]
  },
  {
   "cell_type": "markdown",
   "metadata": {},
   "source": [
    "- F Score ratio"
   ]
  },
  {
   "cell_type": "code",
   "execution_count": 16,
   "metadata": {},
   "outputs": [],
   "source": [
    "f_score = mst / mse"
   ]
  },
  {
   "cell_type": "code",
   "execution_count": 17,
   "metadata": {},
   "outputs": [
    {
     "data": {
      "text/plain": [
       "17.380675379045346"
      ]
     },
     "execution_count": 17,
     "metadata": {},
     "output_type": "execute_result"
    }
   ],
   "source": [
    "f_score"
   ]
  },
  {
   "cell_type": "markdown",
   "metadata": {},
   "source": [
    "### P-Value"
   ]
  },
  {
   "cell_type": "code",
   "execution_count": 18,
   "metadata": {},
   "outputs": [],
   "source": [
    "p_value = 1 - f.cdf(f_score, df_treatments, df_error)"
   ]
  },
  {
   "cell_type": "code",
   "execution_count": 19,
   "metadata": {},
   "outputs": [
    {
     "data": {
      "text/plain": [
       "4.2830849977804064e-11"
      ]
     },
     "execution_count": 19,
     "metadata": {},
     "output_type": "execute_result"
    }
   ],
   "source": [
    "p_value"
   ]
  },
  {
   "cell_type": "markdown",
   "metadata": {},
   "source": [
    "### One-Way Anova test "
   ]
  },
  {
   "cell_type": "code",
   "execution_count": 20,
   "metadata": {},
   "outputs": [
    {
     "name": "stdout",
     "output_type": "stream",
     "text": [
      "f-score: 17.380675379045353\n",
      "p-value: 4.283085799376247e-11\n"
     ]
    }
   ],
   "source": [
    "f_score_anova, p_value_anova = stats.f_oneway(pop_sample1,\n",
    "                                              rock_sample1, \n",
    "                                              hiphop_sample1, \n",
    "                                              country_sample1)\n",
    "print('f-score:', f_score_anova)\n",
    "print('p-value:', p_value_anova)"
   ]
  },
  {
   "cell_type": "markdown",
   "metadata": {},
   "source": [
    "### Tukey's Multi-Comparison Method"
   ]
  },
  {
   "cell_type": "markdown",
   "metadata": {},
   "source": [
    "#### Convert NumPy array to data frame"
   ]
  },
  {
   "cell_type": "code",
   "execution_count": 21,
   "metadata": {},
   "outputs": [],
   "source": [
    "pop_df = pd.DataFrame(pop_sample1)\n",
    "pop_df = pop_df.rename(columns={0: 'popularity'})\n",
    "pop_df['genre'] = 'pop'\n",
    "pop_df['id'] = 0\n",
    "\n",
    "rock_df = pd.DataFrame(rock_sample1)\n",
    "rock_df = rock_df.rename(columns={0: 'popularity'})\n",
    "rock_df['genre'] = 'rock'\n",
    "rock_df['id'] = 1\n",
    "\n",
    "hiphop_df = pd.DataFrame(hiphop_sample1)\n",
    "hiphop_df = hiphop_df.rename(columns={0: 'popularity'})\n",
    "hiphop_df['genre'] = 'hiphop'\n",
    "hiphop_df['id'] = 2\n",
    "\n",
    "country_df = pd.DataFrame(country_sample1)\n",
    "country_df = country_df.rename(columns={0: 'popularity'})\n",
    "country_df['genre'] = 'country'\n",
    "country_df['id'] = '3'\n",
    "\n",
    "combined_sample_df = pd.concat([pop_df, rock_df, hiphop_df, country_df], axis=0)"
   ]
  },
  {
   "cell_type": "markdown",
   "metadata": {},
   "source": [
    "#### Set up the data for comparison (creates a specialised object)"
   ]
  },
  {
   "cell_type": "code",
   "execution_count": 22,
   "metadata": {},
   "outputs": [
    {
     "name": "stdout",
     "output_type": "stream",
     "text": [
      " Multiple Comparison of Means - Tukey HSD, FWER=0.05  \n",
      "======================================================\n",
      " group1 group2 meandiff p-adj   lower    upper  reject\n",
      "------------------------------------------------------\n",
      "country hiphop  -0.6717    0.9  -4.6782  3.3349  False\n",
      "country    pop   2.1364 0.4025  -1.3826  5.6554  False\n",
      "country   rock  -6.3517  0.001 -10.3582 -2.3451   True\n",
      " hiphop    pop   2.8081 0.0806  -0.2206  5.8368  False\n",
      " hiphop   rock    -5.68  0.001  -9.2636 -2.0964   True\n",
      "    pop   rock  -8.4881  0.001 -11.5168 -5.4594   True\n",
      "------------------------------------------------------\n"
     ]
    }
   ],
   "source": [
    "MultiComp = MultiComparison(combined_sample_df['popularity'],\n",
    "                           combined_sample_df['genre'])\n",
    "\n",
    "print(MultiComp.tukeyhsd().summary())"
   ]
  },
  {
   "cell_type": "markdown",
   "metadata": {},
   "source": [
    "### LSD Confidence Intervals"
   ]
  },
  {
   "cell_type": "markdown",
   "metadata": {},
   "source": [
    "- $\\bar Xpop$ \n",
    "- $\\bar Xrock$ "
   ]
  },
  {
   "cell_type": "code",
   "execution_count": 27,
   "metadata": {},
   "outputs": [],
   "source": [
    "x_bar_pop = pop_sample1.mean()\n",
    "x_bar_rock = rock"
   ]
  },
  {
   "cell_type": "code",
   "execution_count": 23,
   "metadata": {},
   "outputs": [],
   "source": [
    "standard_error = math.sqrt(mse) * math.sqrt(1/pop_x1 + 1/rock_x2)"
   ]
  },
  {
   "cell_type": "code",
   "execution_count": 24,
   "metadata": {},
   "outputs": [
    {
     "data": {
      "text/plain": [
       "1.1775845731274324"
      ]
     },
     "execution_count": 24,
     "metadata": {},
     "output_type": "execute_result"
    }
   ],
   "source": [
    "standard_error"
   ]
  },
  {
   "cell_type": "markdown",
   "metadata": {},
   "source": [
    "### Drafts"
   ]
  },
  {
   "cell_type": "code",
   "execution_count": null,
   "metadata": {},
   "outputs": [],
   "source": [
    "l = ['m', 'u', 'r', 'a', 't']"
   ]
  },
  {
   "cell_type": "code",
   "execution_count": null,
   "metadata": {},
   "outputs": [],
   "source": [
    "[print(index + 'o') for index in l if index != 'm']"
   ]
  },
  {
   "cell_type": "code",
   "execution_count": null,
   "metadata": {},
   "outputs": [],
   "source": [
    "import scipy.stats "
   ]
  },
  {
   "cell_type": "code",
   "execution_count": null,
   "metadata": {},
   "outputs": [],
   "source": [
    "1- scipy.stats.f.cdf(19, dfn = 2, dfd= 9)"
   ]
  },
  {
   "cell_type": "code",
   "execution_count": null,
   "metadata": {},
   "outputs": [],
   "source": []
  }
 ],
 "metadata": {
  "kernelspec": {
   "display_name": "Python 3",
   "language": "python",
   "name": "python3"
  },
  "language_info": {
   "codemirror_mode": {
    "name": "ipython",
    "version": 3
   },
   "file_extension": ".py",
   "mimetype": "text/x-python",
   "name": "python",
   "nbconvert_exporter": "python",
   "pygments_lexer": "ipython3",
   "version": "3.7.3"
  },
  "varInspector": {
   "cols": {
    "lenName": 16,
    "lenType": 16,
    "lenVar": 40
   },
   "kernels_config": {
    "python": {
     "delete_cmd_postfix": "",
     "delete_cmd_prefix": "del ",
     "library": "var_list.py",
     "varRefreshCmd": "print(var_dic_list())"
    },
    "r": {
     "delete_cmd_postfix": ") ",
     "delete_cmd_prefix": "rm(",
     "library": "var_list.r",
     "varRefreshCmd": "cat(var_dic_list()) "
    }
   },
   "types_to_exclude": [
    "module",
    "function",
    "builtin_function_or_method",
    "instance",
    "_Feature"
   ],
   "window_display": false
  }
 },
 "nbformat": 4,
 "nbformat_minor": 2
}
