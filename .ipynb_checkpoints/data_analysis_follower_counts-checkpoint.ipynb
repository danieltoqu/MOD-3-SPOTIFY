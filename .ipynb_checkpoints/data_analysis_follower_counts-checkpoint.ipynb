{
 "cells": [
  {
   "cell_type": "markdown",
   "metadata": {},
   "source": [
    "# Data Analysis - Follower Counts"
   ]
  },
  {
   "cell_type": "markdown",
   "metadata": {},
   "source": [
    "## 1. Import Libraries & DataFrame"
   ]
  },
  {
   "cell_type": "code",
   "execution_count": 2,
   "metadata": {},
   "outputs": [],
   "source": [
    "import pandas as pd\n",
    "import numpy as np\n",
    "import matplotlib.pyplot as plt\n",
    "import seaborn as sns\n",
    "import scipy\n",
    "import scipy.stats\n",
    "from scipy.stats import stats\n",
    "import statsmodels\n",
    "import statsmodels.api as sm\n",
    "from statsmodels.stats.multicomp import (pairwise_tukeyhsd,\n",
    "                                         MultiComparison)\n",
    "%matplotlib inline"
   ]
  },
  {
   "cell_type": "code",
   "execution_count": 3,
   "metadata": {},
   "outputs": [],
   "source": [
    "#Creating artist_codes dataframe\n",
    "artists = pd.read_csv('Data/spotify_artists_cleaned.csv')"
   ]
  },
  {
   "cell_type": "code",
   "execution_count": 4,
   "metadata": {},
   "outputs": [],
   "source": [
    "#Limiting artist data to follower counts under 25,000\n",
    "#Decided on 25,000 after first examining outlier trends\n",
    "artists = artists[(artists['artist_followers']<25000)]"
   ]
  },
  {
   "cell_type": "code",
   "execution_count": 5,
   "metadata": {
    "scrolled": true
   },
   "outputs": [
    {
     "name": "stdout",
     "output_type": "stream",
     "text": [
      "<class 'pandas.core.frame.DataFrame'>\n",
      "Int64Index: 45322 entries, 0 to 53243\n",
      "Data columns (total 25 columns):\n",
      "artist_id            45322 non-null object\n",
      "artist_name          45322 non-null object\n",
      "artist_genres        45322 non-null object\n",
      "artist_followers     45322 non-null float64\n",
      "artist_popularity    45322 non-null int64\n",
      "blues                45322 non-null bool\n",
      "children             45322 non-null bool\n",
      "classical            45322 non-null bool\n",
      "country              45322 non-null bool\n",
      "edm                  45322 non-null bool\n",
      "electronic           45322 non-null bool\n",
      "folk                 45322 non-null bool\n",
      "funk                 45322 non-null bool\n",
      "hiphop               45322 non-null bool\n",
      "indie                45322 non-null bool\n",
      "jazz                 45322 non-null bool\n",
      "latin                45322 non-null bool\n",
      "pop                  45322 non-null bool\n",
      "r&b                  45322 non-null bool\n",
      "rap                  45322 non-null bool\n",
      "reggae               45322 non-null bool\n",
      "rock                 45322 non-null bool\n",
      "soul                 45322 non-null bool\n",
      "soundtrack           45322 non-null bool\n",
      "genre_count          45322 non-null int64\n",
      "dtypes: bool(19), float64(1), int64(2), object(3)\n",
      "memory usage: 3.2+ MB\n",
      "None\n"
     ]
    },
    {
     "data": {
      "text/html": [
       "<div>\n",
       "<style scoped>\n",
       "    .dataframe tbody tr th:only-of-type {\n",
       "        vertical-align: middle;\n",
       "    }\n",
       "\n",
       "    .dataframe tbody tr th {\n",
       "        vertical-align: top;\n",
       "    }\n",
       "\n",
       "    .dataframe thead th {\n",
       "        text-align: right;\n",
       "    }\n",
       "</style>\n",
       "<table border=\"1\" class=\"dataframe\">\n",
       "  <thead>\n",
       "    <tr style=\"text-align: right;\">\n",
       "      <th></th>\n",
       "      <th>artist_id</th>\n",
       "      <th>artist_name</th>\n",
       "      <th>artist_genres</th>\n",
       "      <th>artist_followers</th>\n",
       "      <th>artist_popularity</th>\n",
       "      <th>blues</th>\n",
       "      <th>children</th>\n",
       "      <th>classical</th>\n",
       "      <th>country</th>\n",
       "      <th>edm</th>\n",
       "      <th>...</th>\n",
       "      <th>jazz</th>\n",
       "      <th>latin</th>\n",
       "      <th>pop</th>\n",
       "      <th>r&amp;b</th>\n",
       "      <th>rap</th>\n",
       "      <th>reggae</th>\n",
       "      <th>rock</th>\n",
       "      <th>soul</th>\n",
       "      <th>soundtrack</th>\n",
       "      <th>genre_count</th>\n",
       "    </tr>\n",
       "  </thead>\n",
       "  <tbody>\n",
       "    <tr>\n",
       "      <th>0</th>\n",
       "      <td>4tN3rZ7cChj4Wns2Wt2Nj6</td>\n",
       "      <td>2 AM</td>\n",
       "      <td>antiviralpop,kpop,minecraft</td>\n",
       "      <td>2075.0</td>\n",
       "      <td>41</td>\n",
       "      <td>False</td>\n",
       "      <td>False</td>\n",
       "      <td>False</td>\n",
       "      <td>False</td>\n",
       "      <td>False</td>\n",
       "      <td>...</td>\n",
       "      <td>False</td>\n",
       "      <td>False</td>\n",
       "      <td>True</td>\n",
       "      <td>False</td>\n",
       "      <td>False</td>\n",
       "      <td>False</td>\n",
       "      <td>False</td>\n",
       "      <td>False</td>\n",
       "      <td>False</td>\n",
       "      <td>1</td>\n",
       "    </tr>\n",
       "    <tr>\n",
       "      <th>1</th>\n",
       "      <td>3LsQKoRgMc8VEkQn66jfAQ</td>\n",
       "      <td>2:54</td>\n",
       "      <td>metropopolis</td>\n",
       "      <td>10158.0</td>\n",
       "      <td>19</td>\n",
       "      <td>False</td>\n",
       "      <td>False</td>\n",
       "      <td>False</td>\n",
       "      <td>False</td>\n",
       "      <td>False</td>\n",
       "      <td>...</td>\n",
       "      <td>False</td>\n",
       "      <td>False</td>\n",
       "      <td>True</td>\n",
       "      <td>False</td>\n",
       "      <td>False</td>\n",
       "      <td>False</td>\n",
       "      <td>False</td>\n",
       "      <td>False</td>\n",
       "      <td>False</td>\n",
       "      <td>1</td>\n",
       "    </tr>\n",
       "    <tr>\n",
       "      <th>2</th>\n",
       "      <td>733SPLVnEyXs6GxUEnJ7bx</td>\n",
       "      <td>11/5</td>\n",
       "      <td>gfunk,hyphy</td>\n",
       "      <td>14489.0</td>\n",
       "      <td>29</td>\n",
       "      <td>False</td>\n",
       "      <td>False</td>\n",
       "      <td>False</td>\n",
       "      <td>False</td>\n",
       "      <td>False</td>\n",
       "      <td>...</td>\n",
       "      <td>False</td>\n",
       "      <td>False</td>\n",
       "      <td>False</td>\n",
       "      <td>False</td>\n",
       "      <td>False</td>\n",
       "      <td>False</td>\n",
       "      <td>False</td>\n",
       "      <td>False</td>\n",
       "      <td>False</td>\n",
       "      <td>1</td>\n",
       "    </tr>\n",
       "    <tr>\n",
       "      <th>4</th>\n",
       "      <td>1h2OVSKRdJHnVqyCKqCLkf</td>\n",
       "      <td>?uestlove</td>\n",
       "      <td>phillyrap</td>\n",
       "      <td>16178.0</td>\n",
       "      <td>34</td>\n",
       "      <td>False</td>\n",
       "      <td>False</td>\n",
       "      <td>False</td>\n",
       "      <td>False</td>\n",
       "      <td>False</td>\n",
       "      <td>...</td>\n",
       "      <td>False</td>\n",
       "      <td>False</td>\n",
       "      <td>False</td>\n",
       "      <td>False</td>\n",
       "      <td>True</td>\n",
       "      <td>False</td>\n",
       "      <td>False</td>\n",
       "      <td>False</td>\n",
       "      <td>False</td>\n",
       "      <td>1</td>\n",
       "    </tr>\n",
       "    <tr>\n",
       "      <th>6</th>\n",
       "      <td>2McJOiKebPtBGqyEYyZQFN</td>\n",
       "      <td>[:SITD:]</td>\n",
       "      <td>aggrotech,darkwave,ebm,electroindustrial,futur...</td>\n",
       "      <td>13580.0</td>\n",
       "      <td>36</td>\n",
       "      <td>False</td>\n",
       "      <td>False</td>\n",
       "      <td>False</td>\n",
       "      <td>False</td>\n",
       "      <td>False</td>\n",
       "      <td>...</td>\n",
       "      <td>False</td>\n",
       "      <td>False</td>\n",
       "      <td>True</td>\n",
       "      <td>False</td>\n",
       "      <td>False</td>\n",
       "      <td>False</td>\n",
       "      <td>False</td>\n",
       "      <td>False</td>\n",
       "      <td>False</td>\n",
       "      <td>1</td>\n",
       "    </tr>\n",
       "  </tbody>\n",
       "</table>\n",
       "<p>5 rows × 25 columns</p>\n",
       "</div>"
      ],
      "text/plain": [
       "                artist_id artist_name  \\\n",
       "0  4tN3rZ7cChj4Wns2Wt2Nj6        2 AM   \n",
       "1  3LsQKoRgMc8VEkQn66jfAQ        2:54   \n",
       "2  733SPLVnEyXs6GxUEnJ7bx        11/5   \n",
       "4  1h2OVSKRdJHnVqyCKqCLkf   ?uestlove   \n",
       "6  2McJOiKebPtBGqyEYyZQFN    [:SITD:]   \n",
       "\n",
       "                                       artist_genres  artist_followers  \\\n",
       "0                        antiviralpop,kpop,minecraft            2075.0   \n",
       "1                                       metropopolis           10158.0   \n",
       "2                                        gfunk,hyphy           14489.0   \n",
       "4                                          phillyrap           16178.0   \n",
       "6  aggrotech,darkwave,ebm,electroindustrial,futur...           13580.0   \n",
       "\n",
       "   artist_popularity  blues  children  classical  country    edm  ...   jazz  \\\n",
       "0                 41  False     False      False    False  False  ...  False   \n",
       "1                 19  False     False      False    False  False  ...  False   \n",
       "2                 29  False     False      False    False  False  ...  False   \n",
       "4                 34  False     False      False    False  False  ...  False   \n",
       "6                 36  False     False      False    False  False  ...  False   \n",
       "\n",
       "   latin    pop    r&b    rap  reggae   rock   soul  soundtrack  genre_count  \n",
       "0  False   True  False  False   False  False  False       False            1  \n",
       "1  False   True  False  False   False  False  False       False            1  \n",
       "2  False  False  False  False   False  False  False       False            1  \n",
       "4  False  False  False   True   False  False  False       False            1  \n",
       "6  False   True  False  False   False  False  False       False            1  \n",
       "\n",
       "[5 rows x 25 columns]"
      ]
     },
     "execution_count": 5,
     "metadata": {},
     "output_type": "execute_result"
    }
   ],
   "source": [
    "#Preview DataFrame\n",
    "print(artists.info())\n",
    "artists.head()"
   ]
  },
  {
   "cell_type": "markdown",
   "metadata": {},
   "source": [
    "## 2. Examine Follower Data"
   ]
  },
  {
   "cell_type": "code",
   "execution_count": 6,
   "metadata": {},
   "outputs": [
    {
     "name": "stdout",
     "output_type": "stream",
     "text": [
      "3659\n",
      "5331\n",
      "10542\n",
      "659\n"
     ]
    }
   ],
   "source": [
    "#Create dataframes filtered by pop, rock, hiphop, and country genres\n",
    "pop_artists = artists[(artists['pop']==True)]\n",
    "rock_artists = artists[(artists['rock']==True)]\n",
    "hiphop_artists = artists[(artists['hiphop']==True)]\n",
    "country_artists = artists[(artists['country']==True)]\n",
    "#Print row counts\n",
    "print(len(hiphop_artists))\n",
    "print(len(rock_artists))\n",
    "print(len(pop_artists))\n",
    "print(len(country_artists))"
   ]
  },
  {
   "cell_type": "code",
   "execution_count": 13,
   "metadata": {},
   "outputs": [
    {
     "data": {
      "image/png": "[encoded data removed]",
      "text/plain": [
       "<Figure size 1440x720 with 4 Axes>"
      ]
     },
     "metadata": {
      "needs_background": "light"
     },
     "output_type": "display_data"
    }
   ],
   "source": [
    "#Plot distributions of each subgenre dataset\n",
    "fig = plt.figure(figsize=(20,10))\n",
    "\n",
    "ax1 = fig.add_subplot(2,2,1)\n",
    "ax1 = sns.distplot(pop_artists.artist_followers, kde=True)\n",
    "ax1.set_title('Pop Followers')\n",
    "\n",
    "ax2 = fig.add_subplot(2,2,2)\n",
    "ax2 = sns.distplot(hiphop_artists.artist_followers, kde=True)\n",
    "ax2.set_title('Hip Hop Followers')\n",
    "\n",
    "ax3 = fig.add_subplot(2,2,3)\n",
    "ax3 = sns.distplot(rock_artists.artist_followers, kde=True)\n",
    "ax3.set_title('Rock Followers')\n",
    "\n",
    "ax4 = fig.add_subplot(2,2,4)\n",
    "ax4 = sns.distplot(country_artists.artist_followers, kde=True)\n",
    "ax4.set_title('Country Followers')\n",
    "\n",
    "plt.show()"
   ]
  },
  {
   "cell_type": "code",
   "execution_count": 8,
   "metadata": {},
   "outputs": [
    {
     "name": "stdout",
     "output_type": "stream",
     "text": [
      "NormaltestResult(statistic=2285.3626611252935, pvalue=0.0)\n",
      "NormaltestResult(statistic=943.4773777685168, pvalue=1.3381059976347523e-205)\n",
      "NormaltestResult(statistic=1303.0094956581415, pvalue=1.1352279732397582e-283)\n",
      "NormaltestResult(statistic=158.34917457954157, pvalue=4.1201557457803653e-35)\n"
     ]
    }
   ],
   "source": [
    "#Test if datasets are normal\n",
    "print(scipy.stats.normaltest(pop_artists.artist_followers))\n",
    "print(scipy.stats.normaltest(hiphop_artists.artist_followers))\n",
    "print(scipy.stats.normaltest(rock_artists.artist_followers))\n",
    "print(scipy.stats.normaltest(country_artists.artist_followers))"
   ]
  },
  {
   "cell_type": "code",
   "execution_count": 9,
   "metadata": {},
   "outputs": [],
   "source": [
    "#Create test sample array for each genre\n",
    "hiphop_test_sample = np.array(hiphop_artists['artist_followers'].sample(500))\n",
    "rock_test_sample = np.array(rock_artists['artist_followers'].sample(500))\n",
    "pop_test_sample = np.array(pop_artists['artist_followers'].sample(500))\n",
    "country_test_sample = np.array(country_artists['artist_followers'].sample(500))"
   ]
  },
  {
   "cell_type": "code",
   "execution_count": 10,
   "metadata": {},
   "outputs": [
    {
     "data": {
      "text/html": [
       "<div>\n",
       "<style scoped>\n",
       "    .dataframe tbody tr th:only-of-type {\n",
       "        vertical-align: middle;\n",
       "    }\n",
       "\n",
       "    .dataframe tbody tr th {\n",
       "        vertical-align: top;\n",
       "    }\n",
       "\n",
       "    .dataframe thead th {\n",
       "        text-align: right;\n",
       "    }\n",
       "</style>\n",
       "<table border=\"1\" class=\"dataframe\">\n",
       "  <thead>\n",
       "    <tr style=\"text-align: right;\">\n",
       "      <th></th>\n",
       "      <th>Hiphop</th>\n",
       "      <th>Rock</th>\n",
       "      <th>Pop</th>\n",
       "      <th>Country</th>\n",
       "    </tr>\n",
       "  </thead>\n",
       "  <tbody>\n",
       "    <tr>\n",
       "      <th>0</th>\n",
       "      <td>21137.0</td>\n",
       "      <td>6592.0</td>\n",
       "      <td>109.0</td>\n",
       "      <td>5016.0</td>\n",
       "    </tr>\n",
       "    <tr>\n",
       "      <th>1</th>\n",
       "      <td>8095.0</td>\n",
       "      <td>539.0</td>\n",
       "      <td>936.0</td>\n",
       "      <td>949.0</td>\n",
       "    </tr>\n",
       "    <tr>\n",
       "      <th>2</th>\n",
       "      <td>881.0</td>\n",
       "      <td>6496.0</td>\n",
       "      <td>15938.0</td>\n",
       "      <td>2431.0</td>\n",
       "    </tr>\n",
       "    <tr>\n",
       "      <th>3</th>\n",
       "      <td>166.0</td>\n",
       "      <td>14211.0</td>\n",
       "      <td>169.0</td>\n",
       "      <td>5868.0</td>\n",
       "    </tr>\n",
       "    <tr>\n",
       "      <th>4</th>\n",
       "      <td>9122.0</td>\n",
       "      <td>18702.0</td>\n",
       "      <td>3177.0</td>\n",
       "      <td>2418.0</td>\n",
       "    </tr>\n",
       "  </tbody>\n",
       "</table>\n",
       "</div>"
      ],
      "text/plain": [
       "    Hiphop     Rock      Pop  Country\n",
       "0  21137.0   6592.0    109.0   5016.0\n",
       "1   8095.0    539.0    936.0    949.0\n",
       "2    881.0   6496.0  15938.0   2431.0\n",
       "3    166.0  14211.0    169.0   5868.0\n",
       "4   9122.0  18702.0   3177.0   2418.0"
      ]
     },
     "execution_count": 10,
     "metadata": {},
     "output_type": "execute_result"
    }
   ],
   "source": [
    "#Create dataframe of test sample arrays\n",
    "followers_test_sample_df = pd.DataFrame({\"Hiphop\": hiphop_test_sample,\n",
    "                                         'Rock': rock_test_sample,\n",
    "                                         'Pop': pop_test_sample,\n",
    "                                         'Country': country_test_sample,\n",
    "                                        })\n",
    "followers_test_sample_df.head()"
   ]
  },
  {
   "cell_type": "code",
   "execution_count": 16,
   "metadata": {},
   "outputs": [
    {
     "data": {
      "image/png": "[encoded data removed]",
      "text/plain": [
       "<Figure size 720x576 with 1 Axes>"
      ]
     },
     "metadata": {
      "needs_background": "light"
     },
     "output_type": "display_data"
    }
   ],
   "source": [
    "#Boxplot\n",
    "fig1 = plt.figure(figsize=(10,8))\n",
    "followers_test_sample_df.boxplot(showmeans=True)\n",
    "plt.title('Boxplot of Follower Count Samples by Genre (<25,000)')\n",
    "plt.ylabel('Followers (in millions)')\n",
    "plt.tight_layout();"
   ]
  },
  {
   "cell_type": "code",
   "execution_count": 11,
   "metadata": {},
   "outputs": [
    {
     "name": "stdout",
     "output_type": "stream",
     "text": [
      "Means of the samples are:  4903.264 5273.756 5315.064 4925.898\n"
     ]
    }
   ],
   "source": [
    "#Print means\n",
    "print('Means of the samples are: ', \n",
    "      hiphop_test_sample.mean(), \n",
    "      rock_test_sample.mean(),\n",
    "      pop_test_sample.mean(),\n",
    "      country_test_sample.mean()\n",
    "     )"
   ]
  },
  {
   "cell_type": "code",
   "execution_count": 12,
   "metadata": {},
   "outputs": [
    {
     "name": "stdout",
     "output_type": "stream",
     "text": [
      "STD of the samples are:  5769.067887822434 6006.233429068837 5949.746550896434 5585.7170608254055\n"
     ]
    }
   ],
   "source": [
    "#Print standard deviation\n",
    "print('STD of the samples are: ', \n",
    "      np.std(hiphop_test_sample), \n",
    "      np.std(rock_test_sample),\n",
    "      np.std(pop_test_sample),\n",
    "      np.std(country_test_sample)\n",
    "     )"
   ]
  },
  {
   "cell_type": "markdown",
   "metadata": {},
   "source": [
    "## 3. ANOVA Test"
   ]
  },
  {
   "cell_type": "markdown",
   "metadata": {},
   "source": [
    "$H_{0}$: $\\mu_{pop} = \\mu_{rock} = \\mu_{hiphop} = \\mu_{country}$ \n",
    "\n",
    "All mean followers count of Pop, Rock, HipHop, and Country genres are equal.\n",
    "\n",
    "$H_{a}$: not all means are equal.\n",
    "\n",
    "$\\alpha = 0.05$"
   ]
  },
  {
   "cell_type": "code",
   "execution_count": 57,
   "metadata": {},
   "outputs": [
    {
     "name": "stdout",
     "output_type": "stream",
     "text": [
      "731.8000000000001\n",
      "1066.2\n",
      "2108.4\n",
      "131.8\n"
     ]
    }
   ],
   "source": [
    "#Taking a sample of 20% of the size of each genre dataframe\n",
    "print(len(hiphop_artists)*.2)\n",
    "print(len(rock_artists)*.2)\n",
    "print(len(pop_artists)*.2)\n",
    "print(len(country_artists)*.2)"
   ]
  },
  {
   "cell_type": "code",
   "execution_count": 58,
   "metadata": {},
   "outputs": [],
   "source": [
    "#Create test sample array for each genre\n",
    "hiphop_sample = np.array(hiphop_artists['artist_followers'].sample(732))\n",
    "rock_sample = np.array(rock_artists['artist_followers'].sample(1066))\n",
    "pop_sample = np.array(pop_artists['artist_followers'].sample(2108))\n",
    "country_sample = np.array(country_artists['artist_followers'].sample(132))"
   ]
  },
  {
   "cell_type": "code",
   "execution_count": 15,
   "metadata": {},
   "outputs": [
    {
     "name": "stdout",
     "output_type": "stream",
     "text": [
      "Means of the samples are:  4683.502732240438 5063.941838649156 5348.297438330171 4919.825757575758\n"
     ]
    }
   ],
   "source": [
    "#Print means\n",
    "print('Means of the samples are: ', \n",
    "      hiphop_sample.mean(), \n",
    "      rock_sample.mean(),\n",
    "      pop_sample.mean(),\n",
    "      country_sample.mean()\n",
    "     )"
   ]
  },
  {
   "cell_type": "code",
   "execution_count": 16,
   "metadata": {},
   "outputs": [
    {
     "name": "stdout",
     "output_type": "stream",
     "text": [
      "STD of the samples are:  5903.6459218653645 5848.111399446156 6197.776186482969 5660.696920762538\n"
     ]
    }
   ],
   "source": [
    "#Print standard deviation\n",
    "print('STD of the samples are: ', \n",
    "      np.std(hiphop_sample), \n",
    "      np.std(rock_sample),\n",
    "      np.std(pop_sample),\n",
    "      np.std(country_sample)\n",
    "     )"
   ]
  },
  {
   "cell_type": "code",
   "execution_count": 78,
   "metadata": {},
   "outputs": [
    {
     "data": {
      "image/png": "[encoded data removed]",
      "text/plain": [
       "<Figure size 1440x720 with 4 Axes>"
      ]
     },
     "metadata": {
      "needs_background": "light"
     },
     "output_type": "display_data"
    }
   ],
   "source": [
    "#Plot distributions of each sample\n",
    "fig = plt.figure(figsize=(20,10))\n",
    "\n",
    "ax1 = fig.add_subplot(2,2,1)\n",
    "ax1 = sns.distplot(pop_sample, kde=True)\n",
    "ax1.set_title('Pop Sample Followers')\n",
    "ax1.set_xlabel('Follower Count')\n",
    "ax1.set_ylabel('Portion of Sample')\n",
    "\n",
    "ax2 = fig.add_subplot(2,2,2)\n",
    "ax2 = sns.distplot(hiphop_sample, kde=True)\n",
    "ax2.set_title('Hip Hop Sample Followers')\n",
    "ax2.set_xlabel('Follower Count')\n",
    "ax2.set_ylabel('Portion of Sample')\n",
    "\n",
    "ax3 = fig.add_subplot(2,2,3)\n",
    "ax3 = sns.distplot(rock_sample, kde=True)\n",
    "ax3.set_title('Rock Sample Followers')\n",
    "ax3.set_xlabel('Follower Count')\n",
    "ax3.set_ylabel('Portion of Sample')\n",
    "\n",
    "ax4 = fig.add_subplot(2,2,4)\n",
    "ax4 = sns.distplot(country_sample, kde=True)\n",
    "ax4.set_title('Country Sample Followers')\n",
    "ax4.set_xlabel('Follower Count')\n",
    "ax4.set_ylabel('Portion of Sample')\n",
    "\n",
    "plt.show()"
   ]
  },
  {
   "cell_type": "code",
   "execution_count": 18,
   "metadata": {},
   "outputs": [],
   "source": [
    "#Calculate ANOVA - defining variables\n",
    "\n",
    "#List of samples\n",
    "sample_list = [hiphop_sample,\n",
    "               rock_sample, \n",
    "               pop_sample, \n",
    "               country_sample]\n",
    "\n",
    "#Number of groups\n",
    "k = len(sample_list)\n",
    "\n",
    "#Sample size of each group\n",
    "n1 = len(hiphop_sample)\n",
    "n2 = len(rock_sample)\n",
    "n3 = len(pop_sample)\n",
    "n4 = len(country_sample)\n",
    "\n",
    "#Total sample size\n",
    "n = n1 + n2 + n3 + n4\n",
    "\n",
    "#Concatenate all samples to an array\n",
    "x_all = np.concatenate([hiphop_sample, \n",
    "                        rock_sample, \n",
    "                        pop_sample, \n",
    "                        country_sample])\n",
    "\n",
    "#Mean for all groups combined\n",
    "x_bar = x_all.mean()\n"
   ]
  },
  {
   "cell_type": "code",
   "execution_count": 19,
   "metadata": {},
   "outputs": [],
   "source": [
    "#Calculate ANOVA - Sums of Squares\n",
    "ss_between = np.sum([len(sample)*(sample.mean() - x_bar)**2 for sample in sample_list])\n",
    "df_between = k - 1\n",
    "\n",
    "ss_within = np.sum([((sample - sample.mean())**2).sum() for sample in sample_list])\n",
    "df_within = n - k\n",
    "\n",
    "ss_total = np.sum([((sample - x_bar)**2).sum() for sample in sample_list])\n",
    "df_total = n - 1\n"
   ]
  },
  {
   "cell_type": "code",
   "execution_count": 20,
   "metadata": {},
   "outputs": [
    {
     "name": "stdout",
     "output_type": "stream",
     "text": [
      "F-Score: 2.3441085316498613\n"
     ]
    }
   ],
   "source": [
    "#Calculate ANOVA - F-Score\n",
    "ms_between = ss_between / df_between\n",
    "ms_within = ss_within / df_within\n",
    "\n",
    "f_score = ms_between / ms_within\n",
    "print('F-Score:', f_score)"
   ]
  },
  {
   "cell_type": "code",
   "execution_count": 21,
   "metadata": {},
   "outputs": [
    {
     "name": "stdout",
     "output_type": "stream",
     "text": [
      "P-Value: 0.07103982755724314\n"
     ]
    }
   ],
   "source": [
    "#Calculate ANOVA - P-Value\n",
    "p_value = 1 - scipy.stats.f.cdf(f_score, df_between, df_within)\n",
    "print('P-Value:', p_value)"
   ]
  },
  {
   "cell_type": "code",
   "execution_count": 22,
   "metadata": {},
   "outputs": [
    {
     "name": "stdout",
     "output_type": "stream",
     "text": [
      "F-Score: 2.3441085316498635\n",
      "P-Value: 0.07103982755724335\n"
     ]
    }
   ],
   "source": [
    "#Checking ANOVA results with a stats package\n",
    "F_statistic, pVal = stats.f_oneway(hiphop_sample,\n",
    "                                   rock_sample, \n",
    "                                   pop_sample, \n",
    "                                   country_sample)\n",
    "print('F-Score:', F_statistic)\n",
    "print('P-Value:', pVal)"
   ]
  },
  {
   "cell_type": "markdown",
   "metadata": {},
   "source": [
    "## 4. Tukey's Test"
   ]
  },
  {
   "cell_type": "markdown",
   "metadata": {},
   "source": [
    "$H_{0}$: $\\mu_{1} = \\mu_{2}$ \n",
    "\n",
    "Mean followers count of each pairwise combination of Pop, Rock, HipHop, and Country genres are equal.\n",
    "\n",
    "$H_{a}$: $\\mu_{1} ≠ \\mu_{2}$\n",
    "\n",
    "$\\alpha = 0.05$\n",
    "\n",
    "\n",
    "This method tests at P<0.05 (correcting for the fact that multiple comparisons are being made which would normally increase the probability of a significant difference being identified). A results of ’reject = True’ means that a significant difference has been observed."
   ]
  },
  {
   "cell_type": "code",
   "execution_count": 23,
   "metadata": {},
   "outputs": [],
   "source": [
    "#Create DataFrame that concatenates each sample array\n",
    "hiphop_df = pd.DataFrame(hiphop_sample)\n",
    "hiphop_df = hiphop_df.rename(columns={0: 'followers'})\n",
    "hiphop_df['genre'] = 'hiphop'\n",
    "hiphop_df['id'] = 0\n",
    "\n",
    "rock_df = pd.DataFrame(rock_sample)\n",
    "rock_df = rock_df.rename(columns={0: 'followers'})\n",
    "rock_df['genre'] = 'rock'\n",
    "rock_df['id'] = 1\n",
    "\n",
    "pop_df = pd.DataFrame(pop_sample)\n",
    "pop_df = pop_df.rename(columns={0: 'followers'})\n",
    "pop_df['genre'] = 'pop'\n",
    "pop_df['id'] = 2\n",
    "\n",
    "country_df = pd.DataFrame(country_sample)\n",
    "country_df = country_df.rename(columns={0: 'followers'})\n",
    "country_df['genre'] = 'country'\n",
    "country_df['id'] = 3\n",
    "\n",
    "combined_sample_df = pd.concat([hiphop_df, \n",
    "                                rock_df, \n",
    "                                pop_df, \n",
    "                                country_df], axis=0)"
   ]
  },
  {
   "cell_type": "code",
   "execution_count": 24,
   "metadata": {},
   "outputs": [
    {
     "name": "stdout",
     "output_type": "stream",
     "text": [
      "    Multiple Comparison of Means - Tukey HSD, FWER=0.05    \n",
      "===========================================================\n",
      " group1 group2  meandiff p-adj    lower      upper   reject\n",
      "-----------------------------------------------------------\n",
      "country hiphop  -236.323    0.9 -1704.2696 1231.6236  False\n",
      "country    pop  428.4717 0.8414  -964.3568 1821.3001  False\n",
      "country   rock  144.1161    0.9 -1288.2655 1576.4977  False\n",
      " hiphop    pop  664.7947 0.0506    -1.1899 1330.7793  False\n",
      " hiphop   rock  380.4391 0.5487   -364.733 1125.6112  False\n",
      "    pop   rock -284.3556 0.5821  -867.7811  299.0699  False\n",
      "-----------------------------------------------------------\n"
     ]
    }
   ],
   "source": [
    "#Perform Tukey Test\n",
    "MultiComp = MultiComparison(combined_sample_df['followers'],\n",
    "                            combined_sample_df['genre'])\n",
    "print(MultiComp.tukeyhsd().summary())"
   ]
  },
  {
   "cell_type": "markdown",
   "metadata": {},
   "source": [
    "The Tukey test results indicate that a significant difference has been observed between the hiphop and pop genres' follower count means."
   ]
  },
  {
   "cell_type": "markdown",
   "metadata": {},
   "source": [
    "## 5. Levene Test"
   ]
  },
  {
   "cell_type": "markdown",
   "metadata": {},
   "source": [
    "Perform Levene test for equal variances. The Levene test tests the null hypothesis that all input samples are from populations with equal variances. Levene’s test is an alternative to Bartlett’s test bartlett in the case where there are significant deviations from normality.\n",
    "\n",
    "$H_{0}$: $s_{genre 1} = s_{genre2}$ \n",
    "\n",
    "Genre1 sample variance is equal to genre2 sample variance.\n",
    "\n",
    "$H_{a}$: $s_{genre 1} ≠ s_{genre2}$\n",
    "\n",
    "Genre1 sample variance is not equal to genre2 sample variance.\n",
    "\n",
    "$\\alpha = 0.05$\n",
    "\n",
    "Performed test for each pairwise combination of the four selected genres."
   ]
  },
  {
   "cell_type": "code",
   "execution_count": 69,
   "metadata": {
    "scrolled": true
   },
   "outputs": [
    {
     "name": "stdout",
     "output_type": "stream",
     "text": [
      "Hiphop-Pop: LeveneResult(statistic=5.995707814785892, pvalue=0.014400843123880454)\n",
      "Rock-Pop: LeveneResult(statistic=5.47455792287926, pvalue=0.019356952189196714)\n",
      "Country-Pop: LeveneResult(statistic=2.4182195498337515, pvalue=0.12007256418043154)\n",
      "Hiphop-Country: LeveneResult(statistic=0.1286938406685831, pvalue=0.7198780161627283)\n",
      "Hiphop-Rock: LeveneResult(statistic=0.153138745534484, pvalue=0.6956001468977933)\n",
      "Country-Rock: LeveneResult(statistic=0.34819128141384115, pvalue=0.5552502570088169)\n"
     ]
    }
   ],
   "source": [
    "#Levene test for each pairwise combination of 2 genres\n",
    "print('Hiphop-Pop:', scipy.stats.levene(hiphop_sample, pop_sample, center='mean'))\n",
    "print('Rock-Pop:', scipy.stats.levene(rock_sample, pop_sample, center='mean'))\n",
    "print('Country-Pop:', scipy.stats.levene(country_sample, pop_sample, center='mean'))\n",
    "print('Hiphop-Country:', scipy.stats.levene(hiphop_sample, country_sample, center='mean'))\n",
    "print('Hiphop-Rock:', scipy.stats.levene(hiphop_sample, rock_sample, center='mean'))\n",
    "print('Country-Rock:', scipy.stats.levene(country_sample, rock_sample, center='mean'))"
   ]
  },
  {
   "cell_type": "markdown",
   "metadata": {},
   "source": [
    "## 6. Welch's T-Test"
   ]
  },
  {
   "cell_type": "markdown",
   "metadata": {},
   "source": [
    "$H_{0}$: $\\mu_{genre1} <= \\mu_{genre2}$ \n",
    "\n",
    "Mean followers count of genre1 are less than or equal to mean follower count of genre2.\n",
    "\n",
    "$H_{a}$: $\\mu_{genre1} > \\mu_{genre2}$\n",
    "\n",
    "Mean follower count of genre 1 is greater than mean follower count of genre2.\n",
    "\n",
    "$\\alpha = 0.05$\n",
    "\n",
    "Performed test for each pairwise combination of the four selected genres."
   ]
  },
  {
   "cell_type": "code",
   "execution_count": 62,
   "metadata": {},
   "outputs": [
    {
     "name": "stdout",
     "output_type": "stream",
     "text": [
      "Pop Sample Mean: 5348.297438330171\n",
      "Hip-Hop Sample Mean: 4683.502732240438\n",
      "Rock Sample Mean: 5063.941838649156\n",
      "Country Sample Mean: 4919.825757575758\n"
     ]
    }
   ],
   "source": [
    "#Print sample means for each genre\n",
    "print('Pop Sample Mean:', pop_sample.mean())\n",
    "print('Hip-Hop Sample Mean:', hiphop_sample.mean())\n",
    "print('Rock Sample Mean:', rock_sample.mean())\n",
    "print('Country Sample Mean:', country_sample.mean())"
   ]
  },
  {
   "cell_type": "code",
   "execution_count": 72,
   "metadata": {},
   "outputs": [
    {
     "name": "stdout",
     "output_type": "stream",
     "text": [
      "Pop-Hiphop: Ttest_indResult(statistic=2.5894871505262214, pvalue=0.009716884375528388)\n",
      "Pop-Rock: Ttest_indResult(statistic=1.2673257613967972, pvalue=0.2051699353654967)\n",
      "Pop-Country: Ttest_indResult(statistic=0.8357537452424814, pvalue=0.4046121912229924)\n",
      "Hiphop-Rock: Ttest_indResult(statistic=-1.3468104813080806, pvalue=0.17823674930397115)\n",
      "Hiphop-Country: Ttest_indResult(statistic=-0.43712183916800496, pvalue=0.6625306632339363)\n",
      "Rock-Country: Ttest_indResult(statistic=0.27396323622436314, pvalue=0.7844508335081797)\n"
     ]
    }
   ],
   "source": [
    "#T-test comparing pop and hiphop follower count means\n",
    "phh_ttest = scipy.stats.ttest_ind(pop_sample, hiphop_sample, equal_var=False)\n",
    "print('Pop-Hiphop:', phh_ttest)\n",
    "\n",
    "#T-test comparing pop and rock follower count means\n",
    "pr_ttest = scipy.stats.ttest_ind(pop_sample, rock_sample, equal_var=False)\n",
    "print('Pop-Rock:', pr_ttest)\n",
    "\n",
    "#T-test comparing pop and country follower count means\n",
    "pc_ttest = scipy.stats.ttest_ind(pop_sample, country_sample, equal_var=False)\n",
    "print('Pop-Country:', pc_ttest)\n",
    "\n",
    "#T-test comparing hiphop and rock follower count means\n",
    "hhr_ttest = scipy.stats.ttest_ind(hiphop_sample, rock_sample, equal_var=False)\n",
    "print('Hiphop-Rock:', hhr_ttest)\n",
    "\n",
    "#T-test comparing hiphop and country follower count means\n",
    "hhc_ttest = scipy.stats.ttest_ind(hiphop_sample, country_sample, equal_var=False)\n",
    "print('Hiphop-Country:', hhc_ttest)\n",
    "\n",
    "#T-test comparing rock and country follower count means\n",
    "rc_ttest = scipy.stats.ttest_ind(rock_sample, country_sample, equal_var=False)\n",
    "print('Rock-Country:', rc_ttest)"
   ]
  },
  {
   "cell_type": "markdown",
   "metadata": {},
   "source": [
    "According to the documentation for stats.ttest_ind() the output returned is for a two-tailed t-test. Therefore we must divide the p-value by 2 for a one-tailed test. "
   ]
  },
  {
   "cell_type": "code",
   "execution_count": 66,
   "metadata": {},
   "outputs": [
    {
     "name": "stdout",
     "output_type": "stream",
     "text": [
      "Pop_Hiphop One-Tail P-Value: 0.004858442187764194\n",
      "Pop_Rock One-Tail P-Value: 0.10258496768274834\n",
      "Pop_Country One-Tail P-Value: 0.2023060956114962\n",
      "Hiphop_Rock One-Tail P-Value: 0.08911837465198558\n",
      "Hiphop_Country One-Tail P-Value: 0.33126533161696814\n",
      "Rock_Country One-Tail P-Value: 0.39222541675408984\n"
     ]
    }
   ],
   "source": [
    "#T-test result p-values divided by 2 for one-tailed test\n",
    "print('Pop_Hiphop One-Tail P-Value:', phh_ttest.pvalue/2)\n",
    "print('Pop_Rock One-Tail P-Value:',pr_ttest.pvalue/2)\n",
    "print('Pop_Country One-Tail P-Value:',pc_ttest.pvalue/2)\n",
    "print('Hiphop_Rock One-Tail P-Value:',hhr_ttest.pvalue/2)\n",
    "print('Hiphop_Country One-Tail P-Value:',hhc_ttest.pvalue/2)\n",
    "print('Rock_Country One-Tail P-Value:',rc_ttest.pvalue/2)"
   ]
  }
 ],
 "metadata": {
  "kernelspec": {
   "display_name": "Python 3",
   "language": "python",
   "name": "python3"
  },
  "language_info": {
   "codemirror_mode": {
    "name": "ipython",
    "version": 3
   },
   "file_extension": ".py",
   "mimetype": "text/x-python",
   "name": "python",
   "nbconvert_exporter": "python",
   "pygments_lexer": "ipython3",
   "version": "3.7.3"
  },
  "varInspector": {
   "cols": {
    "lenName": 16,
    "lenType": 16,
    "lenVar": 40
   },
   "kernels_config": {
    "python": {
     "delete_cmd_postfix": "",
     "delete_cmd_prefix": "del ",
     "library": "var_list.py",
     "varRefreshCmd": "print(var_dic_list())"
    },
    "r": {
     "delete_cmd_postfix": ") ",
     "delete_cmd_prefix": "rm(",
     "library": "var_list.r",
     "varRefreshCmd": "cat(var_dic_list()) "
    }
   },
   "types_to_exclude": [
    "module",
    "function",
    "builtin_function_or_method",
    "instance",
    "_Feature"
   ],
   "window_display": false
  }
 },
 "nbformat": 4,
 "nbformat_minor": 2
}
