{
 "cells": [
  {
   "cell_type": "markdown",
   "metadata": {},
   "source": [
    "## Data Cleaning"
   ]
  },
  {
   "cell_type": "code",
   "execution_count": 1,
   "metadata": {},
   "outputs": [],
   "source": [
    "import pandas as pd\n",
    "import numpy as np"
   ]
  },
  {
   "cell_type": "code",
   "execution_count": 2,
   "metadata": {},
   "outputs": [],
   "source": [
    "#Creating artist_codes dataframe\n",
    "artists = pd.read_csv('Data/spotify_artists.csv')\n",
    "artists = artists.drop([\"Unnamed: 0\", \"artist_uri\"], axis=1)"
   ]
  },
  {
   "cell_type": "code",
   "execution_count": 3,
   "metadata": {},
   "outputs": [],
   "source": [
    "#Set index column\n",
    "artists = artists.set_index('artist_id')"
   ]
  },
  {
   "cell_type": "code",
   "execution_count": 4,
   "metadata": {},
   "outputs": [],
   "source": [
    "#Take brackets out of artist_genres column string data\n",
    "artists['artist_genres'] = artists['artist_genres'].str[1:-1]"
   ]
  },
  {
   "cell_type": "code",
   "execution_count": 5,
   "metadata": {},
   "outputs": [],
   "source": [
    "#Take quotes out of artist_genres column string data\n",
    "artists['artist_genres'] = artists['artist_genres'].str.replace(\"'\", \"\")"
   ]
  },
  {
   "cell_type": "code",
   "execution_count": 6,
   "metadata": {},
   "outputs": [],
   "source": [
    "#Take spaces out of artist_genres column string data\n",
    "artists['artist_genres'] = artists['artist_genres'].str.replace(\" \", \"\")"
   ]
  },
  {
   "cell_type": "code",
   "execution_count": 7,
   "metadata": {},
   "outputs": [],
   "source": [
    "#Take dashes out of artist_genres column string data\n",
    "artists['artist_genres'] = artists['artist_genres'].str.replace(\"-\", \"\")"
   ]
  },
  {
   "cell_type": "code",
   "execution_count": 8,
   "metadata": {},
   "outputs": [],
   "source": [
    "#Replace empty genre data points with NaNs\n",
    "artists['artist_genres'] = artists['artist_genres'].apply(lambda y: np.nan if y=='' else y)"
   ]
  },
  {
   "cell_type": "code",
   "execution_count": 9,
   "metadata": {},
   "outputs": [],
   "source": [
    "#Make artist_genres column string data a list\n",
    "artists['artist_genres'] = artists['artist_genres'].str.split(\",\")"
   ]
  },
  {
   "cell_type": "code",
   "execution_count": 10,
   "metadata": {},
   "outputs": [],
   "source": [
    "#Drop rows with NaN genre data\n",
    "artists = artists.dropna(subset=['artist_genres'])"
   ]
  },
  {
   "cell_type": "code",
   "execution_count": 11,
   "metadata": {},
   "outputs": [],
   "source": [
    "#Drop rows with NaN artist_name data\n",
    "artists = artists.dropna(subset=['artist_name'])"
   ]
  },
  {
   "cell_type": "code",
   "execution_count": 12,
   "metadata": {},
   "outputs": [],
   "source": [
    "#Drop rows with NaN artist_followers data\n",
    "artists = artists.dropna(subset=['artist_followers'])"
   ]
  },
  {
   "cell_type": "code",
   "execution_count": 13,
   "metadata": {},
   "outputs": [],
   "source": [
    "print(artists.info())\n",
    "artists.head(10)"
   ]
  },
  {
   "cell_type": "code",
   "execution_count": 14,
   "metadata": {},
   "outputs": [],
   "source": [
    "#Creating list of genres\n",
    "genres_list = []\n",
    "for genres in artists.artist_genres:\n",
    "    for genre in genres:\n",
    "        genres_list.append(genre)\n",
    "\n",
    "len(genres_list)    "
   ]
  },
  {
   "cell_type": "code",
   "execution_count": 15,
   "metadata": {},
   "outputs": [],
   "source": [
    "genres_list_df = pd.DataFrame(genres_list)\n",
    "genres_list_df = genres_list_df.rename(columns={0: \"genre\"})\n",
    "genres_list_df['count'] = 1\n",
    "genres_list_df.head()"
   ]
  },
  {
   "cell_type": "code",
   "execution_count": 16,
   "metadata": {},
   "outputs": [],
   "source": [
    "#Create list of unique genres\n",
    "unique_genres_list = list(set(genres_list))\n",
    "len(unique_genres_list)"
   ]
  },
  {
   "cell_type": "code",
   "execution_count": 17,
   "metadata": {},
   "outputs": [],
   "source": [
    "unique_genre_df = genres_list_df.groupby(['genre']).count()\n",
    "unique_genre_df = unique_genre_df.sort_values('count', ascending=False)\n",
    "unique_genre_df.head(10)"
   ]
  },
  {
   "cell_type": "code",
   "execution_count": 18,
   "metadata": {},
   "outputs": [],
   "source": [
    "#Creating list of parent genres\n",
    "#Referencing: https://www.blisshq.com/music-library-management-blog/2011/01/25/fundamental-music-genre-list/\n",
    "\n",
    "parent_genres = ['blues', 'children', 'classical', 'country',\n",
    "                 'edm', 'electronic', 'folk', 'funk', 'hiphop', \n",
    "                 'indie', 'jazz', 'latin', 'pop', 'r&b', 'rap', \n",
    "                 'reggae', 'rock', 'soul', 'soundtrack'\n",
    "                ]\n",
    "\n",
    "len(parent_genres)"
   ]
  },
  {
   "cell_type": "code",
   "execution_count": 19,
   "metadata": {},
   "outputs": [],
   "source": [
    "#Create substrings of parent genre names\n",
    "blues_substr = 'blues'\n",
    "children_substr = 'children'\n",
    "classical_substr = 'classical'\n",
    "country_substr = 'country'\n",
    "edm_substr = 'edm'\n",
    "electronic_substr = 'electronic'\n",
    "folk_substr = 'folk'\n",
    "funk_substr = 'funk'\n",
    "hiphop_substr = 'hop'\n",
    "indie_substr = 'indie'\n",
    "jazz_substr = 'jazz'\n",
    "latin_substr = 'latin'\n",
    "pop_substr = 'pop'\n",
    "rnb_substr = 'r&b'\n",
    "rap_substr = 'rap'\n",
    "reggae_substr = 'reggae'\n",
    "rock_substr = 'rock'\n",
    "soul_substr = 'soul'\n",
    "soundtrack_substr = 'soundtrack'"
   ]
  },
  {
   "cell_type": "code",
   "execution_count": 20,
   "metadata": {},
   "outputs": [],
   "source": [
    "#Create dictionary of subgenres per parent genre based on substring search\n",
    "subgenre_dict = {'blues': [i for i in unique_genres_list if blues_substr in i], \n",
    "                 'children': [i for i in unique_genres_list if children_substr in i],\n",
    "                 'classical': [i for i in unique_genres_list if classical_substr in i],\n",
    "                 'country': [i for i in unique_genres_list if country_substr in i],\n",
    "                 'edm': [i for i in unique_genres_list if edm_substr in i],\n",
    "                 'electronic': [i for i in unique_genres_list if electronic_substr in i],\n",
    "                 'folk': [i for i in unique_genres_list if folk_substr in i],\n",
    "                 'funk': [i for i in unique_genres_list if funk_substr in i],\n",
    "                 'hiphop': [i for i in unique_genres_list if hiphop_substr in i],\n",
    "                 'indie': [i for i in unique_genres_list if indie_substr in i],\n",
    "                 'jazz': [i for i in unique_genres_list if jazz_substr in i],\n",
    "                 'latin': [i for i in unique_genres_list if latin_substr in i],\n",
    "                 'pop': [i for i in unique_genres_list if pop_substr in i],\n",
    "                 'r&b': [i for i in unique_genres_list if rnb_substr in i],\n",
    "                 'rap': [i for i in unique_genres_list if rap_substr in i],\n",
    "                 'reggae': [i for i in unique_genres_list if reggae_substr in i],\n",
    "                 'rock': [i for i in unique_genres_list if rock_substr in i],\n",
    "                 'soul': [i for i in unique_genres_list if soul_substr in i],\n",
    "                 'soundtrack': [i for i in unique_genres_list if soundtrack_substr in i]\n",
    "                }"
   ]
  },
  {
   "cell_type": "code",
   "execution_count": 21,
   "metadata": {},
   "outputs": [],
   "source": [
    "#MIGHT NOT NEED\n",
    "#Create lists of subgenres per parent genre based on substring search\n",
    "blues_subgenres = [i for i in unique_genres_list if blues_substr in i]\n",
    "children_subgenres = [i for i in unique_genres_list if children_substr in i]\n",
    "classical_subgenres = [i for i in unique_genres_list if classical_substr in i]\n",
    "country_subgenres = [i for i in unique_genres_list if country_substr in i]\n",
    "edm_subgenres = [i for i in unique_genres_list if edm_substr in i]\n",
    "electronic_subgenres = [i for i in unique_genres_list if electronic_substr in i]\n",
    "folk_subgenres = [i for i in unique_genres_list if folk_substr in i]\n",
    "funk_subgenres = [i for i in unique_genres_list if funk_substr in i]\n",
    "hiphop_subgenres = [i for i in unique_genres_list if hiphop_substr in i]\n",
    "indie_subgenres = [i for i in unique_genres_list if indie_substr in i]\n",
    "jazz_subgenres = [i for i in unique_genres_list if jazz_substr in i]\n",
    "latin_subgenres = [i for i in unique_genres_list if latin_substr in i]\n",
    "pop_subgenres = [i for i in unique_genres_list if pop_substr in i]\n",
    "rnb_subgenres = [i for i in unique_genres_list if rnb_substr in i]\n",
    "rap_subgenres = [i for i in unique_genres_list if rap_substr in i]\n",
    "reggae_subgenres = [i for i in unique_genres_list if reggae_substr in i]\n",
    "rock_subgenres = [i for i in unique_genres_list if rock_substr in i]\n",
    "soul_subgenres = [i for i in unique_genres_list if soul_substr in i]\n",
    "soundtrack_subgenres = [i for i in unique_genres_list if soundtrack_substr in i]"
   ]
  },
  {
   "cell_type": "code",
   "execution_count": 22,
   "metadata": {},
   "outputs": [],
   "source": [
    "#MIGHT NOT NEED\n",
    "#List of subgenre lists\n",
    "subgenre_lists = [blues_subgenres, \n",
    "                  children_subgenres, \n",
    "                  classical_subgenres, \n",
    "                  country_subgenres, \n",
    "                  edm_subgenres, \n",
    "                  electronic_subgenres, \n",
    "                  folk_subgenres, \n",
    "                  funk_subgenres,\n",
    "                  hiphop_subgenres, \n",
    "                  indie_subgenres,\n",
    "                  jazz_subgenres, \n",
    "                  latin_subgenres, \n",
    "                  pop_subgenres, \n",
    "                  rnb_subgenres, \n",
    "                  rap_subgenres, \n",
    "                  reggae_subgenres, \n",
    "                  rock_subgenres, \n",
    "                  soul_subgenres, \n",
    "                  soundtrack_subgenres\n",
    "                 ]\n",
    "len(subgenre_lists)"
   ]
  },
  {
   "cell_type": "code",
   "execution_count": 23,
   "metadata": {},
   "outputs": [],
   "source": [
    "# Creating new columns for each unique genre and assign NaN values\n",
    "for genre in parent_genres:\n",
    "    artists[genre] = np.nan"
   ]
  },
  {
   "cell_type": "code",
   "execution_count": 24,
   "metadata": {},
   "outputs": [],
   "source": [
    "# Assigning True Boolean value to parent genre columns \n",
    "# If subgenre appears in artist_genres column\n",
    "\n",
    "for genre in parent_genres:\n",
    "    artists[genre] = artists.artist_genres.apply(lambda x: genre in x)"
   ]
  },
  {
   "cell_type": "code",
   "execution_count": 25,
   "metadata": {},
   "outputs": [],
   "source": [
    "artists.info()"
   ]
  },
  {
   "cell_type": "code",
   "execution_count": 26,
   "metadata": {},
   "outputs": [],
   "source": [
    "artists[100:200]"
   ]
  },
  {
   "cell_type": "code",
   "execution_count": 27,
   "metadata": {},
   "outputs": [],
   "source": [
    "type(artists.artist_genres)"
   ]
  },
  {
   "cell_type": "code",
   "execution_count": null,
   "metadata": {},
   "outputs": [],
   "source": []
  },
  {
   "cell_type": "code",
   "execution_count": null,
   "metadata": {},
   "outputs": [],
   "source": []
  },
  {
   "cell_type": "code",
   "execution_count": 28,
   "metadata": {},
   "outputs": [],
   "source": [
    "\n",
    "\n",
    "\n",
    "pop_subgenres\n",
    "\n",
    "\n",
    "artists.pop\n",
    "\n",
    "artist_genres\n",
    "\n",
    "for subgenre in subgenre_lists\n",
    "\n",
    "for artist in artists.pop:\n",
    "\n",
    "for genre in pop_subgenres\n",
    "\n",
    "for genre in parent_genres:\n",
    "    artists['pop'] = artists.artist_genres.apply(lambda x: genre in x)\n"
   ]
  },
  {
   "cell_type": "code",
   "execution_count": null,
   "metadata": {},
   "outputs": [],
   "source": [
    "for genre in parent_genres:\n",
    "    artists[genre] = artists.artist_genres.apply(lambda x: genre in x)"
   ]
  },
  {
   "cell_type": "code",
   "execution_count": null,
   "metadata": {},
   "outputs": [],
   "source": [
    "for sub_genre in pop_genres:\n",
    "    if sub_genre in artists.artist_genres:\n",
    "        artists.pop.apply(True)\n",
    "    else:\n",
    "        artists.pop = False"
   ]
  },
  {
   "cell_type": "code",
   "execution_count": null,
   "metadata": {},
   "outputs": [],
   "source": [
    "for genre in parent_genres:\n",
    "    for sub_genre in pop_genres:\n",
    "        artists.pop = artists.artist_genres.apply(lambda x: sub_genre in x)\n",
    "        if sub_genre in artists.artist_genres:\n",
    "            artists.genre = True\n",
    "        else:\n",
    "            artists.genre = False"
   ]
  },
  {
   "cell_type": "code",
   "execution_count": null,
   "metadata": {},
   "outputs": [],
   "source": [
    "\n",
    "if x == i in a_list"
   ]
  },
  {
   "cell_type": "code",
   "execution_count": null,
   "metadata": {},
   "outputs": [],
   "source": []
  },
  {
   "cell_type": "code",
   "execution_count": null,
   "metadata": {},
   "outputs": [],
   "source": [
    "for genre in parent_genres:\n",
    "    for sub_genre in pop_genres:\n",
    "            artists[genre] = artists.artist_genres.apply(lambda x: sub_genre in x)\n",
    "            \n",
    "    "
   ]
  },
  {
   "cell_type": "code",
   "execution_count": null,
   "metadata": {},
   "outputs": [],
   "source": [
    "for sub_genre in pop_genres:\n",
    "    artists.pop = artists.artist_genres.apply(lambda x: sub_genre in x)"
   ]
  },
  {
   "cell_type": "code",
   "execution_count": null,
   "metadata": {},
   "outputs": [],
   "source": []
  },
  {
   "cell_type": "code",
   "execution_count": null,
   "metadata": {},
   "outputs": [],
   "source": []
  },
  {
   "cell_type": "code",
   "execution_count": null,
   "metadata": {},
   "outputs": [],
   "source": []
  },
  {
   "cell_type": "code",
   "execution_count": null,
   "metadata": {},
   "outputs": [],
   "source": []
  },
  {
   "cell_type": "code",
   "execution_count": null,
   "metadata": {},
   "outputs": [],
   "source": [
    "# Exporting DataFrame\n",
    "artists.to_csv('Data/spotify_artists_cleaned.csv', index=False)"
   ]
  },
  {
   "cell_type": "code",
   "execution_count": null,
   "metadata": {},
   "outputs": [],
   "source": [
    "# pop2 = ['acousticpop',\n",
    "#  'afropop',\n",
    "#  'alternativepop',\n",
    "#  'alternativepoprock',\n",
    "#  'antiviralpop',\n",
    "#  'baroquepop',\n",
    "#  'bedroompop',\n",
    "#  'bubblegumpop',\n",
    "#  'chamberpop',\n",
    "#  'channelpop',\n",
    "#  'christianpop',\n",
    "#  'countrypop',\n",
    "#  'cpop',\n",
    "#  'dancepop',\n",
    "#  'desipop',\n",
    "#  'dreampop',\n",
    "#  'electropop',\n",
    "#  'europop',\n",
    "#  'experimentalpop',\n",
    "#  'folkpop',\n",
    "#  'futurepop',\n",
    "#  'garagepop',\n",
    "#  'grungepop',\n",
    "#  'hyperpop',\n",
    "#  'indiepop',\n",
    "#  'jpop',\n",
    "#  'kpop',\n",
    "#  'latinpop',\n",
    "#  'neosynthpop',\n",
    "#  'newwavepop',\n",
    "#  'noisepop',\n",
    "#  'pop',\n",
    "#  'popedm',\n",
    "#  'popemo',\n",
    "#  'popfolk',\n",
    "#  'pophouse',\n",
    "#  'poppunk',\n",
    "#  'poprap',\n",
    "#  'popreggaeton',\n",
    "#  'poprock',\n",
    "#  'postteenpop',\n",
    "#  'powerpop',\n",
    "#  'powerpoppunk',\n",
    "#  'spaceagepop',\n",
    "#  'synthpop',\n",
    "#  'teenpop',\n",
    "#  'undergroundpowerpop',\n",
    "#  'viralpop',\n",
    "#  'vpop',]"
   ]
  }
 ],
 "metadata": {
  "kernelspec": {
   "display_name": "Python 3",
   "language": "python",
   "name": "python3"
  },
  "language_info": {
   "codemirror_mode": {
    "name": "ipython",
    "version": 3
   },
   "file_extension": ".py",
   "mimetype": "text/x-python",
   "name": "python",
   "nbconvert_exporter": "python",
   "pygments_lexer": "ipython3",
   "version": "3.7.3"
  },
  "varInspector": {
   "cols": {
    "lenName": 16,
    "lenType": 16,
    "lenVar": 40
   },
   "kernels_config": {
    "python": {
     "delete_cmd_postfix": "",
     "delete_cmd_prefix": "del ",
     "library": "var_list.py",
     "varRefreshCmd": "print(var_dic_list())"
    },
    "r": {
     "delete_cmd_postfix": ") ",
     "delete_cmd_prefix": "rm(",
     "library": "var_list.r",
     "varRefreshCmd": "cat(var_dic_list()) "
    }
   },
   "types_to_exclude": [
    "module",
    "function",
    "builtin_function_or_method",
    "instance",
    "_Feature"
   ],
   "window_display": false
  }
 },
 "nbformat": 4,
 "nbformat_minor": 2
}
