{
 "cells": [
  {
   "cell_type": "markdown",
   "metadata": {},
   "source": [
    "# Data Analysis - Popularity Score"
   ]
  },
  {
   "cell_type": "markdown",
   "metadata": {},
   "source": [
    "## 1. Importing Libraries & DataFrame"
   ]
  },
  {
   "cell_type": "code",
   "execution_count": 1,
   "metadata": {},
   "outputs": [],
   "source": [
    "#Importing libraries\n",
    "import pandas as pd\n",
    "import numpy as np\n",
    "import matplotlib.pyplot as plt\n",
    "import seaborn as sns\n",
    "import scipy\n",
    "import scipy.stats\n",
    "from scipy.stats import stats\n",
    "import statsmodels\n",
    "import statsmodels.api as sm\n",
    "from statsmodels.formula.api import ols\n",
    "from statsmodels.stats.multicomp import (pairwise_tukeyhsd,\n",
    "                                         MultiComparison)\n",
    "%matplotlib inline"
   ]
  },
  {
   "cell_type": "code",
   "execution_count": 2,
   "metadata": {},
   "outputs": [],
   "source": [
    "#Creating artist_codes dataframe\n",
    "artists = pd.read_csv('Data/spotify_artists_cleaned.csv')"
   ]
  },
  {
   "cell_type": "code",
   "execution_count": 57,
   "metadata": {},
   "outputs": [
    {
     "name": "stdout",
     "output_type": "stream",
     "text": [
      "<class 'pandas.core.frame.DataFrame'>\n",
      "RangeIndex: 53244 entries, 0 to 53243\n",
      "Data columns (total 25 columns):\n",
      "artist_id            53244 non-null object\n",
      "artist_name          53244 non-null object\n",
      "artist_genres        53244 non-null object\n",
      "artist_followers     53244 non-null float64\n",
      "artist_popularity    53244 non-null int64\n",
      "blues                53244 non-null bool\n",
      "children             53244 non-null bool\n",
      "classical            53244 non-null bool\n",
      "country              53244 non-null bool\n",
      "edm                  53244 non-null bool\n",
      "electronic           53244 non-null bool\n",
      "folk                 53244 non-null bool\n",
      "funk                 53244 non-null bool\n",
      "hiphop               53244 non-null bool\n",
      "indie                53244 non-null bool\n",
      "jazz                 53244 non-null bool\n",
      "latin                53244 non-null bool\n",
      "pop                  53244 non-null bool\n",
      "r&b                  53244 non-null bool\n",
      "rap                  53244 non-null bool\n",
      "reggae               53244 non-null bool\n",
      "rock                 53244 non-null bool\n",
      "soul                 53244 non-null bool\n",
      "soundtrack           53244 non-null bool\n",
      "genre_count          53244 non-null int64\n",
      "dtypes: bool(19), float64(1), int64(2), object(3)\n",
      "memory usage: 3.4+ MB\n",
      "None\n"
     ]
    },
    {
     "data": {
      "text/html": [
       "<div>\n",
       "<style scoped>\n",
       "    .dataframe tbody tr th:only-of-type {\n",
       "        vertical-align: middle;\n",
       "    }\n",
       "\n",
       "    .dataframe tbody tr th {\n",
       "        vertical-align: top;\n",
       "    }\n",
       "\n",
       "    .dataframe thead th {\n",
       "        text-align: right;\n",
       "    }\n",
       "</style>\n",
       "<table border=\"1\" class=\"dataframe\">\n",
       "  <thead>\n",
       "    <tr style=\"text-align: right;\">\n",
       "      <th></th>\n",
       "      <th>artist_id</th>\n",
       "      <th>artist_name</th>\n",
       "      <th>artist_genres</th>\n",
       "      <th>artist_followers</th>\n",
       "      <th>artist_popularity</th>\n",
       "      <th>blues</th>\n",
       "      <th>children</th>\n",
       "      <th>classical</th>\n",
       "      <th>country</th>\n",
       "      <th>edm</th>\n",
       "      <th>...</th>\n",
       "      <th>jazz</th>\n",
       "      <th>latin</th>\n",
       "      <th>pop</th>\n",
       "      <th>r&amp;b</th>\n",
       "      <th>rap</th>\n",
       "      <th>reggae</th>\n",
       "      <th>rock</th>\n",
       "      <th>soul</th>\n",
       "      <th>soundtrack</th>\n",
       "      <th>genre_count</th>\n",
       "    </tr>\n",
       "  </thead>\n",
       "  <tbody>\n",
       "    <tr>\n",
       "      <th>0</th>\n",
       "      <td>4tN3rZ7cChj4Wns2Wt2Nj6</td>\n",
       "      <td>2 AM</td>\n",
       "      <td>antiviralpop,kpop,minecraft</td>\n",
       "      <td>2075.0</td>\n",
       "      <td>41</td>\n",
       "      <td>False</td>\n",
       "      <td>False</td>\n",
       "      <td>False</td>\n",
       "      <td>False</td>\n",
       "      <td>False</td>\n",
       "      <td>...</td>\n",
       "      <td>False</td>\n",
       "      <td>False</td>\n",
       "      <td>True</td>\n",
       "      <td>False</td>\n",
       "      <td>False</td>\n",
       "      <td>False</td>\n",
       "      <td>False</td>\n",
       "      <td>False</td>\n",
       "      <td>False</td>\n",
       "      <td>1</td>\n",
       "    </tr>\n",
       "    <tr>\n",
       "      <th>1</th>\n",
       "      <td>3LsQKoRgMc8VEkQn66jfAQ</td>\n",
       "      <td>2:54</td>\n",
       "      <td>metropopolis</td>\n",
       "      <td>10158.0</td>\n",
       "      <td>19</td>\n",
       "      <td>False</td>\n",
       "      <td>False</td>\n",
       "      <td>False</td>\n",
       "      <td>False</td>\n",
       "      <td>False</td>\n",
       "      <td>...</td>\n",
       "      <td>False</td>\n",
       "      <td>False</td>\n",
       "      <td>True</td>\n",
       "      <td>False</td>\n",
       "      <td>False</td>\n",
       "      <td>False</td>\n",
       "      <td>False</td>\n",
       "      <td>False</td>\n",
       "      <td>False</td>\n",
       "      <td>1</td>\n",
       "    </tr>\n",
       "    <tr>\n",
       "      <th>2</th>\n",
       "      <td>733SPLVnEyXs6GxUEnJ7bx</td>\n",
       "      <td>11/5</td>\n",
       "      <td>gfunk,hyphy</td>\n",
       "      <td>14489.0</td>\n",
       "      <td>29</td>\n",
       "      <td>False</td>\n",
       "      <td>False</td>\n",
       "      <td>False</td>\n",
       "      <td>False</td>\n",
       "      <td>False</td>\n",
       "      <td>...</td>\n",
       "      <td>False</td>\n",
       "      <td>False</td>\n",
       "      <td>False</td>\n",
       "      <td>False</td>\n",
       "      <td>False</td>\n",
       "      <td>False</td>\n",
       "      <td>False</td>\n",
       "      <td>False</td>\n",
       "      <td>False</td>\n",
       "      <td>1</td>\n",
       "    </tr>\n",
       "    <tr>\n",
       "      <th>3</th>\n",
       "      <td>3TTbkikkCAbUg2j5i9UrTV</td>\n",
       "      <td>:Wumpscut:</td>\n",
       "      <td>aggrotech,darkwave,ebm,electroindustrial,indus...</td>\n",
       "      <td>29931.0</td>\n",
       "      <td>36</td>\n",
       "      <td>False</td>\n",
       "      <td>False</td>\n",
       "      <td>False</td>\n",
       "      <td>False</td>\n",
       "      <td>False</td>\n",
       "      <td>...</td>\n",
       "      <td>False</td>\n",
       "      <td>False</td>\n",
       "      <td>False</td>\n",
       "      <td>False</td>\n",
       "      <td>False</td>\n",
       "      <td>False</td>\n",
       "      <td>True</td>\n",
       "      <td>False</td>\n",
       "      <td>False</td>\n",
       "      <td>1</td>\n",
       "    </tr>\n",
       "    <tr>\n",
       "      <th>4</th>\n",
       "      <td>1h2OVSKRdJHnVqyCKqCLkf</td>\n",
       "      <td>?uestlove</td>\n",
       "      <td>phillyrap</td>\n",
       "      <td>16178.0</td>\n",
       "      <td>34</td>\n",
       "      <td>False</td>\n",
       "      <td>False</td>\n",
       "      <td>False</td>\n",
       "      <td>False</td>\n",
       "      <td>False</td>\n",
       "      <td>...</td>\n",
       "      <td>False</td>\n",
       "      <td>False</td>\n",
       "      <td>False</td>\n",
       "      <td>False</td>\n",
       "      <td>True</td>\n",
       "      <td>False</td>\n",
       "      <td>False</td>\n",
       "      <td>False</td>\n",
       "      <td>False</td>\n",
       "      <td>1</td>\n",
       "    </tr>\n",
       "  </tbody>\n",
       "</table>\n",
       "<p>5 rows × 25 columns</p>\n",
       "</div>"
      ],
      "text/plain": [
       "                artist_id artist_name  \\\n",
       "0  4tN3rZ7cChj4Wns2Wt2Nj6        2 AM   \n",
       "1  3LsQKoRgMc8VEkQn66jfAQ        2:54   \n",
       "2  733SPLVnEyXs6GxUEnJ7bx        11/5   \n",
       "3  3TTbkikkCAbUg2j5i9UrTV  :Wumpscut:   \n",
       "4  1h2OVSKRdJHnVqyCKqCLkf   ?uestlove   \n",
       "\n",
       "                                       artist_genres  artist_followers  \\\n",
       "0                        antiviralpop,kpop,minecraft            2075.0   \n",
       "1                                       metropopolis           10158.0   \n",
       "2                                        gfunk,hyphy           14489.0   \n",
       "3  aggrotech,darkwave,ebm,electroindustrial,indus...           29931.0   \n",
       "4                                          phillyrap           16178.0   \n",
       "\n",
       "   artist_popularity  blues  children  classical  country    edm  ...   jazz  \\\n",
       "0                 41  False     False      False    False  False  ...  False   \n",
       "1                 19  False     False      False    False  False  ...  False   \n",
       "2                 29  False     False      False    False  False  ...  False   \n",
       "3                 36  False     False      False    False  False  ...  False   \n",
       "4                 34  False     False      False    False  False  ...  False   \n",
       "\n",
       "   latin    pop    r&b    rap  reggae   rock   soul  soundtrack  genre_count  \n",
       "0  False   True  False  False   False  False  False       False            1  \n",
       "1  False   True  False  False   False  False  False       False            1  \n",
       "2  False  False  False  False   False  False  False       False            1  \n",
       "3  False  False  False  False   False   True  False       False            1  \n",
       "4  False  False  False   True   False  False  False       False            1  \n",
       "\n",
       "[5 rows x 25 columns]"
      ]
     },
     "execution_count": 57,
     "metadata": {},
     "output_type": "execute_result"
    }
   ],
   "source": [
    "#Preview DataFrame\n",
    "print(artists.info())\n",
    "artists.head()"
   ]
  },
  {
   "cell_type": "markdown",
   "metadata": {},
   "source": [
    "## 2. Examine Follower Data"
   ]
  },
  {
   "cell_type": "code",
   "execution_count": 59,
   "metadata": {},
   "outputs": [
    {
     "name": "stdout",
     "output_type": "stream",
     "text": [
      "Pop Row Count: 14003\n",
      "Rock Row Count: 6501\n",
      "Hip-Hop Row Count: 4446\n",
      "Country Row Count: 794\n"
     ]
    }
   ],
   "source": [
    "#Create dataframes filtered by pop, rock, hiphop, and country genres\n",
    "pop_artists = artists[(artists['pop']==True)]\n",
    "rock_artists = artists[(artists['rock']==True)]\n",
    "hiphop_artists = artists[(artists['hiphop']==True)]\n",
    "country_artists = artists[(artists['country']==True)]\n",
    "#Print row counts\n",
    "print('Pop Row Count:', len(pop_artists))\n",
    "print('Rock Row Count:', len(rock_artists))\n",
    "print('Hip-Hop Row Count:', len(hiphop_artists))\n",
    "print('Country Row Count:', len(country_artists))"
   ]
  },
  {
   "cell_type": "code",
   "execution_count": 55,
   "metadata": {},
   "outputs": [
    {
     "data": {
      "image/png": "[encoded data removed]",
      "text/plain": [
       "<Figure size 1440x720 with 4 Axes>"
      ]
     },
     "metadata": {
      "needs_background": "light"
     },
     "output_type": "display_data"
    }
   ],
   "source": [
    "#Plot distributions of each genre \n",
    "fig = plt.figure(figsize=(20,10))\n",
    "\n",
    "ax1 = fig.add_subplot(2,2,1)\n",
    "ax1 = sns.distplot(pop_artists.artist_popularity, kde=True)\n",
    "ax1.set_title('Pop Artist Popularity Scores Distribution')\n",
    "ax1.set_xlabel('Popularity Score')\n",
    "ax1.set_ylabel('Portion of Population')\n",
    "\n",
    "ax2 = fig.add_subplot(2,2,2)\n",
    "ax2 = sns.distplot(hiphop_artists.artist_popularity, kde=True)\n",
    "ax2.set_title('Hip-Hop Artist Popularity Scores Distribution')\n",
    "ax2.set_xlabel('Popularity Score')\n",
    "ax2.set_ylabel('Portion of Population')\n",
    "\n",
    "ax3 = fig.add_subplot(2,2,3)\n",
    "ax3 = sns.distplot(rock_artists.artist_popularity, kde=True)\n",
    "ax3.set_title('Rock Artist Popularity Scores Distribution')\n",
    "ax3.set_xlabel('Popularity Score')\n",
    "ax3.set_ylabel('Portion of Population')\n",
    "\n",
    "ax4 = fig.add_subplot(2,2,4)\n",
    "ax4 = sns.distplot(country_artists.artist_popularity, kde=True)\n",
    "ax4.set_title('Country Artist Popularity Scores Distribution')\n",
    "ax4.set_xlabel('Popularity Score')\n",
    "ax4.set_ylabel('Portion of Population')\n",
    "\n",
    "plt.show()"
   ]
  },
  {
   "cell_type": "code",
   "execution_count": 60,
   "metadata": {},
   "outputs": [
    {
     "name": "stdout",
     "output_type": "stream",
     "text": [
      "NormaltestResult(statistic=108.18748182912157, pvalue=3.2165241412978243e-24)\n",
      "NormaltestResult(statistic=107.28961118640981, pvalue=5.03914607745516e-24)\n",
      "NormaltestResult(statistic=257.31204532416393, pvalue=1.3347480475110286e-56)\n",
      "NormaltestResult(statistic=46.14711281997919, pvalue=9.53414545336062e-11)\n"
     ]
    }
   ],
   "source": [
    "#Test if datasets are normal\n",
    "print(scipy.stats.normaltest(pop_artists.artist_popularity))\n",
    "print(scipy.stats.normaltest(hiphop_artists.artist_popularity))\n",
    "print(scipy.stats.normaltest(rock_artists.artist_popularity))\n",
    "print(scipy.stats.normaltest(country_artists.artist_popularity))"
   ]
  },
  {
   "cell_type": "code",
   "execution_count": 11,
   "metadata": {},
   "outputs": [],
   "source": [
    "#Create test sample array for each genre\n",
    "hiphop_test_sample = np.array(hiphop_artists['artist_popularity'].sample(500))\n",
    "rock_test_sample = np.array(rock_artists['artist_popularity'].sample(500))\n",
    "pop_test_sample = np.array(pop_artists['artist_popularity'].sample(500))\n",
    "country_test_sample = np.array(country_artists['artist_popularity'].sample(500))"
   ]
  },
  {
   "cell_type": "code",
   "execution_count": 12,
   "metadata": {},
   "outputs": [
    {
     "data": {
      "text/html": [
       "<div>\n",
       "<style scoped>\n",
       "    .dataframe tbody tr th:only-of-type {\n",
       "        vertical-align: middle;\n",
       "    }\n",
       "\n",
       "    .dataframe tbody tr th {\n",
       "        vertical-align: top;\n",
       "    }\n",
       "\n",
       "    .dataframe thead th {\n",
       "        text-align: right;\n",
       "    }\n",
       "</style>\n",
       "<table border=\"1\" class=\"dataframe\">\n",
       "  <thead>\n",
       "    <tr style=\"text-align: right;\">\n",
       "      <th></th>\n",
       "      <th>Hiphop</th>\n",
       "      <th>Rock</th>\n",
       "      <th>Pop</th>\n",
       "      <th>Country</th>\n",
       "    </tr>\n",
       "  </thead>\n",
       "  <tbody>\n",
       "    <tr>\n",
       "      <th>0</th>\n",
       "      <td>0</td>\n",
       "      <td>46</td>\n",
       "      <td>79</td>\n",
       "      <td>72</td>\n",
       "    </tr>\n",
       "    <tr>\n",
       "      <th>1</th>\n",
       "      <td>63</td>\n",
       "      <td>37</td>\n",
       "      <td>0</td>\n",
       "      <td>34</td>\n",
       "    </tr>\n",
       "    <tr>\n",
       "      <th>2</th>\n",
       "      <td>41</td>\n",
       "      <td>24</td>\n",
       "      <td>62</td>\n",
       "      <td>37</td>\n",
       "    </tr>\n",
       "    <tr>\n",
       "      <th>3</th>\n",
       "      <td>28</td>\n",
       "      <td>34</td>\n",
       "      <td>1</td>\n",
       "      <td>47</td>\n",
       "    </tr>\n",
       "    <tr>\n",
       "      <th>4</th>\n",
       "      <td>38</td>\n",
       "      <td>11</td>\n",
       "      <td>51</td>\n",
       "      <td>21</td>\n",
       "    </tr>\n",
       "  </tbody>\n",
       "</table>\n",
       "</div>"
      ],
      "text/plain": [
       "   Hiphop  Rock  Pop  Country\n",
       "0       0    46   79       72\n",
       "1      63    37    0       34\n",
       "2      41    24   62       37\n",
       "3      28    34    1       47\n",
       "4      38    11   51       21"
      ]
     },
     "execution_count": 12,
     "metadata": {},
     "output_type": "execute_result"
    }
   ],
   "source": [
    "#Create dataframe of test sample arrays\n",
    "popularity_test_sample_df = pd.DataFrame({\"Hiphop\": hiphop_test_sample,\n",
    "                                         'Rock': rock_test_sample,\n",
    "                                         'Pop': pop_test_sample,\n",
    "                                         'Country': country_test_sample,\n",
    "                                        })\n",
    "popularity_test_sample_df.head()"
   ]
  },
  {
   "cell_type": "code",
   "execution_count": 19,
   "metadata": {},
   "outputs": [
    {
     "data": {
      "image/png": "[encoded data removed]",
      "text/plain": [
       "<Figure size 720x576 with 1 Axes>"
      ]
     },
     "metadata": {
      "needs_background": "light"
     },
     "output_type": "display_data"
    }
   ],
   "source": [
    "#Boxplot\n",
    "fig1 = plt.figure(figsize=(10,8))\n",
    "popularity_test_sample_df.boxplot(showmeans=True)\n",
    "plt.title('Boxplot of Popularity Scores by Each Genre Sample')\n",
    "plt.ylabel('Popularity Score (out of 100)')\n",
    "plt.tight_layout();"
   ]
  },
  {
   "cell_type": "code",
   "execution_count": 61,
   "metadata": {},
   "outputs": [
    {
     "name": "stdout",
     "output_type": "stream",
     "text": [
      "Means of the samples are:  28.24 24.382 30.274 28.83\n"
     ]
    }
   ],
   "source": [
    "#Print means\n",
    "print('Means of the samples are: ', \n",
    "      hiphop_test_sample.mean(), \n",
    "      rock_test_sample.mean(),\n",
    "      pop_test_sample.mean(),\n",
    "      country_test_sample.mean()\n",
    "     )"
   ]
  },
  {
   "cell_type": "code",
   "execution_count": 62,
   "metadata": {},
   "outputs": [
    {
     "name": "stdout",
     "output_type": "stream",
     "text": [
      "STD of the samples are:  17.41936853046057 15.997752217108502 17.49465415491258 16.550561923995208\n"
     ]
    }
   ],
   "source": [
    "#Print standard deviation\n",
    "print('STD of the samples are: ', \n",
    "      np.std(hiphop_test_sample), \n",
    "      np.std(rock_test_sample),\n",
    "      np.std(pop_test_sample),\n",
    "      np.std(country_test_sample)\n",
    "     )"
   ]
  },
  {
   "cell_type": "markdown",
   "metadata": {},
   "source": [
    "## 3. ANOVA"
   ]
  },
  {
   "cell_type": "markdown",
   "metadata": {},
   "source": [
    "$H_{0}$: $\\mu_{pop} = \\mu_{rock} = \\mu_{hiphop} = \\mu_{country}$ \n",
    "\n",
    "All mean popularity scores of Pop, Rock, HipHop, and Country genres are equal.\n",
    "\n",
    "$H_{a}$: not all means are equal.\n",
    "\n",
    "$\\alpha = 0.05$"
   ]
  },
  {
   "cell_type": "code",
   "execution_count": 63,
   "metadata": {},
   "outputs": [
    {
     "name": "stdout",
     "output_type": "stream",
     "text": [
      "Pop Sample Size: 7001.5\n",
      "Rock Sample Size: 3250.5\n",
      "Hip-Hop Sample Size: 2223.0\n",
      "Country Sample Size: 397.0\n"
     ]
    }
   ],
   "source": [
    "#Taking a sample of 50% of the size of each genre dataframe\n",
    "print('Pop Sample Size:', len(pop_artists)*.5)\n",
    "print('Rock Sample Size:', len(rock_artists)*.5)\n",
    "print('Hip-Hop Sample Size:', len(hiphop_artists)*.5)\n",
    "print('Country Sample Size:', len(country_artists)*.5)"
   ]
  },
  {
   "cell_type": "code",
   "execution_count": 42,
   "metadata": {},
   "outputs": [],
   "source": [
    "pop_sample1 = np.array(pop_artists['artist_popularity'].sample(7002))\n",
    "rock_sample1 = np.array(rock_artists['artist_popularity'].sample(3251))\n",
    "hiphop_sample1 = np.array(hiphop_artists['artist_popularity'].sample(2223))\n",
    "country_sample1 = np.array(country_artists['artist_popularity'].sample(397))"
   ]
  },
  {
   "cell_type": "code",
   "execution_count": 64,
   "metadata": {},
   "outputs": [
    {
     "name": "stdout",
     "output_type": "stream",
     "text": [
      "Means of the samples are:  29.069725596041387 24.627806828668103 31.748500428449013 27.84130982367758\n"
     ]
    }
   ],
   "source": [
    "#Print means\n",
    "print('Means of the samples are: ', \n",
    "      hiphop_sample1.mean(), \n",
    "      rock_sample1.mean(),\n",
    "      pop_sample1.mean(),\n",
    "      country_sample1.mean()\n",
    "     )"
   ]
  },
  {
   "cell_type": "code",
   "execution_count": 65,
   "metadata": {},
   "outputs": [
    {
     "name": "stdout",
     "output_type": "stream",
     "text": [
      "STD of the samples are:  17.36369955734851 16.351958336929798 16.68449821281193 16.685187213207335\n"
     ]
    }
   ],
   "source": [
    "#Print standard deviation\n",
    "print('STD of the samples are: ', \n",
    "      np.std(hiphop_sample1), \n",
    "      np.std(rock_sample1),\n",
    "      np.std(pop_sample1),\n",
    "      np.std(country_sample1)\n",
    "     )"
   ]
  },
  {
   "cell_type": "code",
   "execution_count": 68,
   "metadata": {},
   "outputs": [
    {
     "data": {
      "image/png": "[encoded data removed]",
      "text/plain": [
       "<Figure size 1440x720 with 4 Axes>"
      ]
     },
     "metadata": {
      "needs_background": "light"
     },
     "output_type": "display_data"
    }
   ],
   "source": [
    "#Plot distributions of each sample\n",
    "fig2 = plt.figure(figsize=(20,10))\n",
    "\n",
    "ax1 = fig2.add_subplot(2,2,1)\n",
    "ax1 = sns.distplot(pop_sample1, kde=True)\n",
    "ax1.set_title('Pop Sample Popularity')\n",
    "ax1.set_xlabel('Popularity Score (out of 100)')\n",
    "ax1.set_ylabel('Portion of Sample')\n",
    "\n",
    "ax2 = fig2.add_subplot(2,2,2)\n",
    "ax2 = sns.distplot(hiphop_sample1, kde=True)\n",
    "ax2.set_title('Hip Hop Sample Popularity')\n",
    "ax2.set_xlabel('Popularity Score (out of 100)')\n",
    "ax2.set_ylabel('Portion of Sample')\n",
    "\n",
    "ax3 = fig2.add_subplot(2,2,3)\n",
    "ax3 = sns.distplot(rock_sample1, kde=True)\n",
    "ax3.set_title('Rock Sample Popularity')\n",
    "ax3.set_xlabel('Popularity Score (out of 100)')\n",
    "ax3.set_ylabel('Portion of Sample')\n",
    "\n",
    "ax4 = fig2.add_subplot(2,2,4)\n",
    "ax4 = sns.distplot(country_sample1, kde=True)\n",
    "ax4.set_title('Country Sample Popularity')\n",
    "ax4.set_xlabel('Popularity Score (out of 100)')\n",
    "ax4.set_ylabel('Portion of Sample')\n",
    "\n",
    "plt.show()"
   ]
  },
  {
   "cell_type": "markdown",
   "metadata": {
    "heading_collapsed": true
   },
   "source": [
    "### Calculating ANOVA\n",
    "\n",
    "#### Notation\n",
    "\n",
    "- $K$: number of groups. \n",
    "    In this exercise, we have k = 4 (pop_sample1,rock_sample1, hiphop_sample1, country_sample1) \n",
    "    \n",
    "- $X_{ij}$: represents the $j$th observation in the $i$th group.\n",
    "    For example, we have 100 observations($j$th observations) for the group pop_sample1 (the $i$th group).\n",
    "    \n",
    "- $\\bar X_{i}$: represents the mean of the $i$th group.\n",
    "     For example, this is the mean of the $X_{ij}$ for pop_sample. Last, we will have K number of groups.\n",
    "     \n",
    "- $\\bar X$: represents the mean of all observations from the groups"
   ]
  },
  {
   "cell_type": "markdown",
   "metadata": {
    "hidden": true
   },
   "source": [
    "#### $K$ Groups\n",
    "\n",
    "Number of Groups: 4\n",
    " - Pop_sample1\n",
    " - Rock_sample1\n",
    " - hiphop_sample1\n",
    " - country_sample1\n"
   ]
  },
  {
   "cell_type": "code",
   "execution_count": 5,
   "metadata": {
    "hidden": true
   },
   "outputs": [],
   "source": [
    "genres_samples = [pop_sample1, rock_sample1, hiphop_sample1, country_sample1]\n",
    "k = len(genres_samples)"
   ]
  },
  {
   "cell_type": "markdown",
   "metadata": {
    "hidden": true
   },
   "source": [
    "#### $X_{ij}$ Number of observations withing each group:"
   ]
  },
  {
   "cell_type": "code",
   "execution_count": 6,
   "metadata": {
    "hidden": true
   },
   "outputs": [],
   "source": [
    "pop_x1 = len(pop_sample1) \n",
    "rock_x2 = len(rock_sample1)\n",
    "hiphop_x3 = len(hiphop_sample1)\n",
    "country_x4 = len(country_sample1)"
   ]
  },
  {
   "cell_type": "markdown",
   "metadata": {
    "hidden": true
   },
   "source": [
    "#### $\\bar X$ Mean from all observations from groups"
   ]
  },
  {
   "cell_type": "code",
   "execution_count": 7,
   "metadata": {
    "hidden": true
   },
   "outputs": [],
   "source": [
    "x_all  = np.concatenate([pop_sample1,\n",
    "                rock_sample1, \n",
    "                hiphop_sample1,\n",
    "                country_sample1], axis=0)\n",
    "\n",
    "x_bar = x_all.mean()\n",
    "\n",
    "ss_total = ((x_all - x_bar)**2).sum()"
   ]
  },
  {
   "cell_type": "markdown",
   "metadata": {
    "hidden": true
   },
   "source": [
    "#### Sum of Squares \n",
    "\n",
    "- Sum of Squares for Treatments (SST)\n",
    "- Sum of Squares for Erro (SSE)"
   ]
  },
  {
   "cell_type": "markdown",
   "metadata": {
    "hidden": true
   },
   "source": [
    "##### For SST"
   ]
  },
  {
   "cell_type": "code",
   "execution_count": 8,
   "metadata": {
    "hidden": true
   },
   "outputs": [],
   "source": [
    "group_list_t = [pop_sample1,\n",
    "               rock_sample1, hiphop_sample1, country_sample1]\n",
    "\n",
    "preview_sst = ([len(sample)*(sample.mean() - x_bar)**2 for sample in group_list_t])"
   ]
  },
  {
   "cell_type": "markdown",
   "metadata": {
    "hidden": true
   },
   "source": [
    "- Final sum between groups "
   ]
  },
  {
   "cell_type": "code",
   "execution_count": 9,
   "metadata": {
    "hidden": true,
    "scrolled": true
   },
   "outputs": [],
   "source": [
    "final_sst = np.sum(preview_sst)"
   ]
  },
  {
   "cell_type": "markdown",
   "metadata": {
    "hidden": true
   },
   "source": [
    "##### For SSE"
   ]
  },
  {
   "cell_type": "code",
   "execution_count": 10,
   "metadata": {
    "hidden": true
   },
   "outputs": [],
   "source": [
    "sample_list_e = [pop_sample1,\n",
    "               rock_sample1, hiphop_sample1, country_sample1]\n",
    "\n",
    "preview_sse = ([((sample - sample.mean())**2).sum() for sample in sample_list_e])"
   ]
  },
  {
   "cell_type": "markdown",
   "metadata": {
    "hidden": true
   },
   "source": [
    "- Final sum within groups"
   ]
  },
  {
   "cell_type": "code",
   "execution_count": 11,
   "metadata": {
    "hidden": true
   },
   "outputs": [],
   "source": [
    "final_sse = np.sum(preview_sse)"
   ]
  },
  {
   "cell_type": "markdown",
   "metadata": {
    "hidden": true
   },
   "source": [
    "#### Degrees of Freedom\n",
    "\n",
    "- Degrees of Freedom for Treatments (k - 1)\n",
    "- Degrees of Freedom for Error (n - k)"
   ]
  },
  {
   "cell_type": "markdown",
   "metadata": {
    "hidden": true
   },
   "source": [
    "##### For (k -1)"
   ]
  },
  {
   "cell_type": "code",
   "execution_count": 12,
   "metadata": {
    "hidden": true
   },
   "outputs": [],
   "source": [
    "df_treatments = (k - 1) "
   ]
  },
  {
   "cell_type": "markdown",
   "metadata": {
    "hidden": true
   },
   "source": [
    "##### For (n - k)"
   ]
  },
  {
   "cell_type": "code",
   "execution_count": 13,
   "metadata": {
    "hidden": true
   },
   "outputs": [],
   "source": [
    "df_error = (pop_x1 + rock_x2 + hiphop_x3 + country_x4) - k"
   ]
  },
  {
   "cell_type": "markdown",
   "metadata": {
    "hidden": true
   },
   "source": [
    "#### F Score"
   ]
  },
  {
   "cell_type": "markdown",
   "metadata": {
    "hidden": true
   },
   "source": [
    "- For MST"
   ]
  },
  {
   "cell_type": "code",
   "execution_count": 14,
   "metadata": {
    "hidden": true
   },
   "outputs": [],
   "source": [
    "mst = final_sst / df_treatments"
   ]
  },
  {
   "cell_type": "markdown",
   "metadata": {
    "hidden": true
   },
   "source": [
    "- For MSE"
   ]
  },
  {
   "cell_type": "code",
   "execution_count": 15,
   "metadata": {
    "hidden": true
   },
   "outputs": [],
   "source": [
    "mse = final_sse / df_error"
   ]
  },
  {
   "cell_type": "markdown",
   "metadata": {
    "hidden": true
   },
   "source": [
    "- F Score ratio"
   ]
  },
  {
   "cell_type": "code",
   "execution_count": 16,
   "metadata": {
    "hidden": true
   },
   "outputs": [],
   "source": [
    "f_score = mst / mse"
   ]
  },
  {
   "cell_type": "code",
   "execution_count": 17,
   "metadata": {
    "hidden": true
   },
   "outputs": [
    {
     "data": {
      "text/plain": [
       "9.686736916394066"
      ]
     },
     "execution_count": 17,
     "metadata": {},
     "output_type": "execute_result"
    }
   ],
   "source": [
    "f_score"
   ]
  },
  {
   "cell_type": "markdown",
   "metadata": {
    "hidden": true
   },
   "source": [
    "#### P-Value"
   ]
  },
  {
   "cell_type": "code",
   "execution_count": 18,
   "metadata": {
    "hidden": true
   },
   "outputs": [],
   "source": [
    "p_value = 1 - f.cdf(f_score, df_treatments, df_error)"
   ]
  },
  {
   "cell_type": "code",
   "execution_count": 19,
   "metadata": {
    "hidden": true
   },
   "outputs": [
    {
     "data": {
      "text/plain": [
       "2.47750709503336e-06"
      ]
     },
     "execution_count": 19,
     "metadata": {},
     "output_type": "execute_result"
    }
   ],
   "source": [
    "p_value"
   ]
  },
  {
   "cell_type": "markdown",
   "metadata": {},
   "source": [
    "### One-Way Anova Test "
   ]
  },
  {
   "cell_type": "markdown",
   "metadata": {},
   "source": [
    "$H_{0}$: $\\mu_{pop} = \\mu_{rock} = \\mu_{hiphop} = \\mu_{country}$ \n",
    "\n",
    "All mean popularity scores of Pop, Rock, HipHop, and Country genres are equal.\n",
    "\n",
    "$H_{a}$: not all means are equal.\n",
    "\n",
    "$\\alpha = 0.05$"
   ]
  },
  {
   "cell_type": "code",
   "execution_count": 73,
   "metadata": {},
   "outputs": [
    {
     "name": "stdout",
     "output_type": "stream",
     "text": [
      "f-score: 135.6912229613542\n",
      "p-value: 1.4977424728167292e-86\n"
     ]
    }
   ],
   "source": [
    "f_score_anova, p_value_anova = stats.f_oneway(pop_sample1,\n",
    "                                              rock_sample1, \n",
    "                                              hiphop_sample1, \n",
    "                                              country_sample1)\n",
    "print('f-score:', f_score_anova)\n",
    "print('p-value:', p_value_anova)"
   ]
  },
  {
   "cell_type": "markdown",
   "metadata": {},
   "source": [
    "## 4. Tukey's Multi-Comparison Method"
   ]
  },
  {
   "cell_type": "markdown",
   "metadata": {},
   "source": [
    "$H_{0}$: $\\mu_{1} = \\mu_{2}$ \n",
    "\n",
    "Mean popularity score of each pairwise combination of Pop, Rock, HipHop, and Country genres are equal.\n",
    "\n",
    "$H_{a}$: $\\mu_{1} ≠ \\mu_{2}$\n",
    "\n",
    "$\\alpha = 0.05$\n",
    "\n",
    "\n",
    "This method tests at P<0.05 (correcting for the fact that multiple comparisons are being made which would normally increase the probability of a significant difference being identified). A results of ’reject = True’ means that a significant difference has been observed."
   ]
  },
  {
   "cell_type": "code",
   "execution_count": 44,
   "metadata": {},
   "outputs": [],
   "source": [
    "#Create DataFrame that concatenates each sample array\n",
    "pop_df = pd.DataFrame(pop_sample1)\n",
    "pop_df = pop_df.rename(columns={0: 'popularity'})\n",
    "pop_df['genre'] = 'pop'\n",
    "pop_df['id'] = 0\n",
    "\n",
    "rock_df = pd.DataFrame(rock_sample1)\n",
    "rock_df = rock_df.rename(columns={0: 'popularity'})\n",
    "rock_df['genre'] = 'rock'\n",
    "rock_df['id'] = 1\n",
    "\n",
    "hiphop_df = pd.DataFrame(hiphop_sample1)\n",
    "hiphop_df = hiphop_df.rename(columns={0: 'popularity'})\n",
    "hiphop_df['genre'] = 'hiphop'\n",
    "hiphop_df['id'] = 2\n",
    "\n",
    "country_df = pd.DataFrame(country_sample1)\n",
    "country_df = country_df.rename(columns={0: 'popularity'})\n",
    "country_df['genre'] = 'country'\n",
    "country_df['id'] = '3'\n",
    "\n",
    "combined_sample_df = pd.concat([pop_df, \n",
    "                                rock_df, \n",
    "                                hiphop_df, \n",
    "                                country_df], axis=0)"
   ]
  },
  {
   "cell_type": "code",
   "execution_count": 45,
   "metadata": {},
   "outputs": [
    {
     "name": "stdout",
     "output_type": "stream",
     "text": [
      " Multiple Comparison of Means - Tukey HSD, FWER=0.05 \n",
      "=====================================================\n",
      " group1 group2 meandiff p-adj   lower   upper  reject\n",
      "-----------------------------------------------------\n",
      "country hiphop   1.2284 0.5285 -1.1128  3.5696  False\n",
      "country    pop   3.9072  0.001  1.6904   6.124   True\n",
      "country   rock  -3.2135 0.0017 -5.4979 -0.9291   True\n",
      " hiphop    pop   2.6788  0.001  1.6327  3.7248   True\n",
      " hiphop   rock  -4.4419  0.001 -5.6245 -3.2593   True\n",
      "    pop   rock  -7.1207  0.001 -8.0326 -6.2088   True\n",
      "-----------------------------------------------------\n"
     ]
    }
   ],
   "source": [
    "#Perform Tukey Test\n",
    "MultiComp = MultiComparison(combined_sample_df['popularity'],\n",
    "                           combined_sample_df['genre'])\n",
    "\n",
    "print(MultiComp.tukeyhsd().summary())"
   ]
  },
  {
   "cell_type": "markdown",
   "metadata": {},
   "source": [
    "## 5. Welch's t-test"
   ]
  },
  {
   "cell_type": "markdown",
   "metadata": {},
   "source": [
    "$H_{0}$: $\\mu_{genre1} <= \\mu_{genre2}$ \n",
    "\n",
    "Mean popularity score of genre 1 are less than or equal to mean popularity score of genre 2.\n",
    "\n",
    "$H_{a}$: $\\mu_{genre1} > \\mu_{genre2}$\n",
    "\n",
    "Mean popularity scores of genre 1 is greater than mean popularity score of genre 2.\n",
    "\n",
    "$\\alpha = 0.05$\n",
    "\n",
    "Performed test for each pairwise combination of the four selected genres."
   ]
  },
  {
   "cell_type": "code",
   "execution_count": 69,
   "metadata": {},
   "outputs": [
    {
     "name": "stdout",
     "output_type": "stream",
     "text": [
      "Pop Sample Mean: 31.748500428449013\n",
      "Hip-Hop Sample Mean: 29.069725596041387\n",
      "Rock Sample Mean: 24.627806828668103\n",
      "Country Sample Mean: 27.84130982367758\n"
     ]
    }
   ],
   "source": [
    "#Print sample means for each genre\n",
    "print('Pop Sample Mean:', pop_sample1.mean())\n",
    "print('Hip-Hop Sample Mean:', hiphop_sample1.mean())\n",
    "print('Rock Sample Mean:', rock_sample1.mean())\n",
    "print('Country Sample Mean:', country_sample1.mean())"
   ]
  },
  {
   "cell_type": "code",
   "execution_count": 71,
   "metadata": {},
   "outputs": [
    {
     "name": "stdout",
     "output_type": "stream",
     "text": [
      "Pop-Rock: Ttest_indResult(statistic=20.3835963032654, pvalue=1.4753411543632071e-89)\n",
      "Hiphop-Rock: Ttest_indResult(statistic=9.514407219029076, pvalue=2.8691433680796806e-21)\n",
      "Pop-Hiphop: Ttest_indResult(statistic=6.39528827381213, pvalue=1.807361716452934e-10)\n",
      "Country-Rock: Ttest_indResult(statistic=3.626295731572461, pvalue=0.0003174228282228806)\n",
      "Pop-Country: Ttest_indResult(statistic=4.533507061453238, pvalue=7.4794940845053266e-06)\n",
      "Hiphop-Country: Ttest_indResult(statistic=1.341344591247047, pvalue=0.18035242021689998)\n"
     ]
    }
   ],
   "source": [
    "#T-test comparing pop and rock follower count means\n",
    "pr_ttest = stats.ttest_ind(pop_sample1, rock_sample1, equal_var=False)\n",
    "print('Pop-Rock:', pr_ttest)\n",
    "\n",
    "#T-test comparing hiphop and rock follower count means\n",
    "hhr_ttest = stats.ttest_ind(hiphop_sample1, rock_sample1, equal_var=False)\n",
    "print('Hiphop-Rock:', hhr_ttest)\n",
    "\n",
    "#T-test comparing pop and hiphop follower count means\n",
    "phh_ttest = stats.ttest_ind(pop_sample1, hiphop_sample1, equal_var=False)\n",
    "print('Pop-Hiphop:', phh_ttest)\n",
    "\n",
    "#T-test comparing country and rock follower count means\n",
    "cr_ttest = stats.ttest_ind(country_sample1, rock_sample1, equal_var=False)\n",
    "print('Country-Rock:', cr_ttest)\n",
    "\n",
    "#T-test comparing pop and country follower count means\n",
    "pc_ttest = stats.ttest_ind(pop_sample1, country_sample1, equal_var=False)\n",
    "print('Pop-Country:', pc_ttest)\n",
    "\n",
    "#T-test comparing hiphop and country follower count means\n",
    "hhc_ttest = stats.ttest_ind(hiphop_sample1, country_sample1, equal_var=False)\n",
    "print('Hiphop-Country:', hhc_ttest)\n"
   ]
  },
  {
   "cell_type": "markdown",
   "metadata": {},
   "source": [
    "According to the documentation for stats.ttest_ind() the output returned is for a two-tailed t-test. Therefore we must divide the p-value by 2 for a one-tailed test."
   ]
  },
  {
   "cell_type": "code",
   "execution_count": 72,
   "metadata": {},
   "outputs": [
    {
     "name": "stdout",
     "output_type": "stream",
     "text": [
      "Pop_Rock One-Tail P-Value: 7.376705771816036e-90\n",
      "Hiphop_Rock One-Tail P-Value: 1.4345716840398403e-21\n",
      "Pop_Hiphop One-Tail P-Value: 9.03680858226467e-11\n",
      "Country_Rock One-Tail P-Value: 0.0001587114141114403\n",
      "Pop_Country One-Tail P-Value: 3.7397470422526633e-06\n",
      "Hiphop_Country One-Tail P-Value: 0.09017621010844999\n"
     ]
    }
   ],
   "source": [
    "#T-test result p-values divided by 2 for one-tailed test\n",
    "print('Pop_Rock One-Tail P-Value:',pr_ttest.pvalue/2)\n",
    "print('Hiphop_Rock One-Tail P-Value:',hhr_ttest.pvalue/2)\n",
    "print('Pop_Hiphop One-Tail P-Value:', phh_ttest.pvalue/2)\n",
    "print('Country_Rock One-Tail P-Value:',cr_ttest.pvalue/2)\n",
    "print('Pop_Country One-Tail P-Value:',pc_ttest.pvalue/2)\n",
    "print('Hiphop_Country One-Tail P-Value:',hhc_ttest.pvalue/2)"
   ]
  },
  {
   "cell_type": "code",
   "execution_count": null,
   "metadata": {},
   "outputs": [],
   "source": []
  }
 ],
 "metadata": {
  "kernelspec": {
   "display_name": "Python 3",
   "language": "python",
   "name": "python3"
  },
  "language_info": {
   "codemirror_mode": {
    "name": "ipython",
    "version": 3
   },
   "file_extension": ".py",
   "mimetype": "text/x-python",
   "name": "python",
   "nbconvert_exporter": "python",
   "pygments_lexer": "ipython3",
   "version": "3.7.3"
  },
  "varInspector": {
   "cols": {
    "lenName": 16,
    "lenType": 16,
    "lenVar": 40
   },
   "kernels_config": {
    "python": {
     "delete_cmd_postfix": "",
     "delete_cmd_prefix": "del ",
     "library": "var_list.py",
     "varRefreshCmd": "print(var_dic_list())"
    },
    "r": {
     "delete_cmd_postfix": ") ",
     "delete_cmd_prefix": "rm(",
     "library": "var_list.r",
     "varRefreshCmd": "cat(var_dic_list()) "
    }
   },
   "types_to_exclude": [
    "module",
    "function",
    "builtin_function_or_method",
    "instance",
    "_Feature"
   ],
   "window_display": false
  }
 },
 "nbformat": 4,
 "nbformat_minor": 2
}
