{
 "cells": [
  {
   "cell_type": "markdown",
   "metadata": {},
   "source": [
    "### Data Analysis - Popularity Score"
   ]
  },
  {
   "cell_type": "markdown",
   "metadata": {},
   "source": [
    "### Notation"
   ]
  },
  {
   "cell_type": "markdown",
   "metadata": {},
   "source": [
    "- $K$: number of groups. \n",
    "    In this exercise, we have k = 4 (pop_sample1,rock_sample1, hiphop_sample1, country_sample1) \n",
    "    \n",
    "- $X_{ij}$: represents the $j$th observation in the $i$th group.\n",
    "    For example, we have 100 observations($j$th observations) for the group pop_sample1 (the $i$th group).\n",
    "    \n",
    "- $\\bar X_{i}$: represents the mean of the $i$th group.\n",
    "     For example, this is the mean of the $X_{ij}$ for pop_sample. Last, we will have K number of groups.\n",
    "     \n",
    "- $\\bar X$: represents the mean of all observations from the groups"
   ]
  },
  {
   "cell_type": "markdown",
   "metadata": {},
   "source": [
    "### Importing libraries"
   ]
  },
  {
   "cell_type": "code",
   "execution_count": 1,
   "metadata": {},
   "outputs": [],
   "source": [
    "import pandas as pd\n",
    "import numpy as np\n",
    "import matplotlib.pyplot as plt\n",
    "from scipy.stats import (f, stats)\n",
    "import math\n",
    "from statsmodels.stats.multicomp import (pairwise_tukeyhsd,\n",
    "                                         MultiComparison)\n",
    "\n",
    "\n",
    "import statsmodels.api as sm\n",
    "from statsmodels.formula.api import ols\n",
    "%matplotlib inline"
   ]
  },
  {
   "cell_type": "markdown",
   "metadata": {},
   "source": [
    "- Reading CSV file"
   ]
  },
  {
   "cell_type": "code",
   "execution_count": 2,
   "metadata": {},
   "outputs": [],
   "source": [
    "#Creating artist_codes dataframe\n",
    "artists = pd.read_csv('Data/spotify_artists_cleaned.csv')"
   ]
  },
  {
   "cell_type": "markdown",
   "metadata": {},
   "source": [
    "- Setting variables for each parent genres"
   ]
  },
  {
   "cell_type": "code",
   "execution_count": 3,
   "metadata": {},
   "outputs": [],
   "source": [
    "pop_artists = artists[(artists['pop']==True)]\n",
    "rock_artists = artists[(artists['rock']==True)]\n",
    "hiphop_artists = artists[(artists['hiphop']==True)]\n",
    "country_artists = artists[(artists['country']==True)]"
   ]
  },
  {
   "cell_type": "markdown",
   "metadata": {},
   "source": [
    "- Tacking random sample per parent genres as NumPy Array"
   ]
  },
  {
   "cell_type": "code",
   "execution_count": 4,
   "metadata": {},
   "outputs": [],
   "source": [
    "pop_sample1 = np.array(pop_artists['artist_popularity'].sample(700))\n",
    "rock_sample1 = np.array(rock_artists['artist_popularity'].sample(300))\n",
    "hiphop_sample1 = np.array(hiphop_artists['artist_popularity'].sample(300))\n",
    "country_sample1 = np.array(country_artists['artist_popularity'].sample(200))"
   ]
  },
  {
   "cell_type": "markdown",
   "metadata": {},
   "source": [
    "### $K$ Groups\n",
    "\n",
    "Number of Groups: 4\n",
    " - Pop_sample1\n",
    " - Rock_sample1\n",
    " - hiphop_sample1\n",
    " - country_sample1\n"
   ]
  },
  {
   "cell_type": "code",
   "execution_count": 5,
   "metadata": {},
   "outputs": [],
   "source": [
    "genres_samples = [pop_sample1, rock_sample1, hiphop_sample1, country_sample1]\n",
    "k = len(genres_samples)\n"
   ]
  },
  {
   "cell_type": "markdown",
   "metadata": {},
   "source": [
    "### $X_{ij}$ Number of observations withing each group:"
   ]
  },
  {
   "cell_type": "code",
   "execution_count": 6,
   "metadata": {},
   "outputs": [],
   "source": [
    "pop_x1 = len(pop_sample1) \n",
    "rock_x2 = len(rock_sample1)\n",
    "hiphop_x3 = len(hiphop_sample1)\n",
    "country_x4 = len(country_sample1)"
   ]
  },
  {
   "cell_type": "markdown",
   "metadata": {},
   "source": [
    "### $\\bar X$ Mean from all observations from groups"
   ]
  },
  {
   "cell_type": "code",
   "execution_count": 7,
   "metadata": {},
   "outputs": [],
   "source": [
    "x_all  = np.concatenate([pop_sample1,\n",
    "                rock_sample1, \n",
    "                hiphop_sample1,\n",
    "                country_sample1], axis=0)\n",
    "\n",
    "x_bar = x_all.mean()\n",
    "\n",
    "ss_total = ((x_all - x_bar)**2).sum()"
   ]
  },
  {
   "cell_type": "markdown",
   "metadata": {},
   "source": [
    "## Sum of Squares \n",
    "\n",
    "- Sum of Squares for Treatments (SST)\n",
    "- Sum of Squares for Erro (SSE)"
   ]
  },
  {
   "cell_type": "markdown",
   "metadata": {},
   "source": [
    "#### For SST"
   ]
  },
  {
   "cell_type": "code",
   "execution_count": 8,
   "metadata": {},
   "outputs": [],
   "source": [
    "group_list_t = [pop_sample1,\n",
    "               rock_sample1, hiphop_sample1, country_sample1]\n",
    "\n",
    "preview_sst = ([len(sample)*(sample.mean() - x_bar)**2 for sample in group_list_t])"
   ]
  },
  {
   "cell_type": "markdown",
   "metadata": {},
   "source": [
    "- Final sum between groups "
   ]
  },
  {
   "cell_type": "code",
   "execution_count": 9,
   "metadata": {
    "scrolled": true
   },
   "outputs": [],
   "source": [
    "final_sst = np.sum(preview_sst)"
   ]
  },
  {
   "cell_type": "markdown",
   "metadata": {},
   "source": [
    "#### For SSE"
   ]
  },
  {
   "cell_type": "code",
   "execution_count": 10,
   "metadata": {},
   "outputs": [],
   "source": [
    "sample_list_e = [pop_sample1,\n",
    "               rock_sample1, hiphop_sample1, country_sample1]\n",
    "\n",
    "preview_sse = ([((sample - sample.mean())**2).sum() for sample in sample_list_e])"
   ]
  },
  {
   "cell_type": "markdown",
   "metadata": {},
   "source": [
    "- Final sum within groups"
   ]
  },
  {
   "cell_type": "code",
   "execution_count": 11,
   "metadata": {},
   "outputs": [],
   "source": [
    "final_sse = np.sum(preview_sse)"
   ]
  },
  {
   "cell_type": "markdown",
   "metadata": {},
   "source": [
    "## Degrees of Freedom\n",
    "\n",
    "- Degrees of Freedom for Treatments (k - 1)\n",
    "- Degrees of Freedom for Error (n - k)"
   ]
  },
  {
   "cell_type": "markdown",
   "metadata": {},
   "source": [
    "#### For (k -1)"
   ]
  },
  {
   "cell_type": "code",
   "execution_count": 12,
   "metadata": {},
   "outputs": [],
   "source": [
    "df_treatments = (k - 1) "
   ]
  },
  {
   "cell_type": "markdown",
   "metadata": {},
   "source": [
    "#### For (n - k)"
   ]
  },
  {
   "cell_type": "code",
   "execution_count": 13,
   "metadata": {},
   "outputs": [],
   "source": [
    "df_error = (pop_x1 + rock_x2 + hiphop_x3 + country_x4) - k"
   ]
  },
  {
   "cell_type": "markdown",
   "metadata": {},
   "source": [
    "### F Score"
   ]
  },
  {
   "cell_type": "markdown",
   "metadata": {},
   "source": [
    "- For MST"
   ]
  },
  {
   "cell_type": "code",
   "execution_count": 14,
   "metadata": {},
   "outputs": [],
   "source": [
    "mst = final_sst / df_treatments"
   ]
  },
  {
   "cell_type": "markdown",
   "metadata": {},
   "source": [
    "- For MSE"
   ]
  },
  {
   "cell_type": "code",
   "execution_count": 15,
   "metadata": {},
   "outputs": [],
   "source": [
    "mse = final_sse / df_error"
   ]
  },
  {
   "cell_type": "markdown",
   "metadata": {},
   "source": [
    "- F Score ratio"
   ]
  },
  {
   "cell_type": "code",
   "execution_count": 16,
   "metadata": {},
   "outputs": [],
   "source": [
    "f_score = mst / mse"
   ]
  },
  {
   "cell_type": "code",
   "execution_count": 17,
   "metadata": {},
   "outputs": [
    {
     "data": {
      "text/plain": [
       "9.686736916394066"
      ]
     },
     "execution_count": 17,
     "metadata": {},
     "output_type": "execute_result"
    }
   ],
   "source": [
    "f_score"
   ]
  },
  {
   "cell_type": "markdown",
   "metadata": {},
   "source": [
    "### P-Value"
   ]
  },
  {
   "cell_type": "code",
   "execution_count": 18,
   "metadata": {},
   "outputs": [],
   "source": [
    "p_value = 1 - f.cdf(f_score, df_treatments, df_error)"
   ]
  },
  {
   "cell_type": "code",
   "execution_count": 19,
   "metadata": {},
   "outputs": [
    {
     "data": {
      "text/plain": [
       "2.47750709503336e-06"
      ]
     },
     "execution_count": 19,
     "metadata": {},
     "output_type": "execute_result"
    }
   ],
   "source": [
    "p_value"
   ]
  },
  {
   "cell_type": "markdown",
   "metadata": {},
   "source": [
    "### One-Way Anova test "
   ]
  },
  {
   "cell_type": "code",
   "execution_count": 20,
   "metadata": {},
   "outputs": [
    {
     "name": "stdout",
     "output_type": "stream",
     "text": [
      "f-score: 9.686736916394063\n",
      "p-value: 2.477507095034371e-06\n"
     ]
    }
   ],
   "source": [
    "f_score_anova, p_value_anova = stats.f_oneway(pop_sample1,\n",
    "                                              rock_sample1, \n",
    "                                              hiphop_sample1, \n",
    "                                              country_sample1)\n",
    "print('f-score:', f_score_anova)\n",
    "print('p-value:', p_value_anova)"
   ]
  },
  {
   "cell_type": "markdown",
   "metadata": {},
   "source": [
    "### Tukey's Multi-Comparison Method"
   ]
  },
  {
   "cell_type": "markdown",
   "metadata": {},
   "source": [
    "#### Convert NumPy array to data frame"
   ]
  },
  {
   "cell_type": "code",
   "execution_count": 21,
   "metadata": {},
   "outputs": [],
   "source": [
    "pop_df = pd.DataFrame(pop_sample1)\n",
    "pop_df = pop_df.rename(columns={0: 'popularity'})\n",
    "pop_df['genre'] = 'pop'\n",
    "pop_df['id'] = 0\n",
    "\n",
    "rock_df = pd.DataFrame(rock_sample1)\n",
    "rock_df = rock_df.rename(columns={0: 'popularity'})\n",
    "rock_df['genre'] = 'rock'\n",
    "rock_df['id'] = 1\n",
    "\n",
    "hiphop_df = pd.DataFrame(hiphop_sample1)\n",
    "hiphop_df = hiphop_df.rename(columns={0: 'popularity'})\n",
    "hiphop_df['genre'] = 'hiphop'\n",
    "hiphop_df['id'] = 2\n",
    "\n",
    "country_df = pd.DataFrame(country_sample1)\n",
    "country_df = country_df.rename(columns={0: 'popularity'})\n",
    "country_df['genre'] = 'country'\n",
    "country_df['id'] = '3'\n",
    "\n",
    "combined_sample_df = pd.concat([pop_df, rock_df, hiphop_df, country_df], axis=0)"
   ]
  },
  {
   "cell_type": "markdown",
   "metadata": {},
   "source": [
    "#### Set up the data for comparison (creates a specialised object)"
   ]
  },
  {
   "cell_type": "code",
   "execution_count": 22,
   "metadata": {},
   "outputs": [
    {
     "name": "stdout",
     "output_type": "stream",
     "text": [
      " Multiple Comparison of Means - Tukey HSD, FWER=0.05 \n",
      "=====================================================\n",
      " group1 group2 meandiff p-adj   lower   upper  reject\n",
      "-----------------------------------------------------\n",
      "country hiphop   0.6967    0.9 -3.3006  4.6939  False\n",
      "country    pop   1.4414 0.6925 -2.0694  4.9523  False\n",
      "country   rock    -4.78 0.0115 -8.7773 -0.7827   True\n",
      " hiphop    pop   0.7448    0.9 -2.2769  3.7664  False\n",
      " hiphop   rock  -5.4767  0.001 -9.0519 -1.9014   True\n",
      "    pop   rock  -6.2214  0.001 -9.2431 -3.1998   True\n",
      "-----------------------------------------------------\n"
     ]
    }
   ],
   "source": [
    "MultiComp = MultiComparison(combined_sample_df['popularity'],\n",
    "                           combined_sample_df['genre'])\n",
    "\n",
    "print(MultiComp.tukeyhsd().summary())"
   ]
  },
  {
   "cell_type": "markdown",
   "metadata": {},
   "source": [
    "### Welch's t-test"
   ]
  },
  {
   "cell_type": "markdown",
   "metadata": {},
   "source": [
    "- T test Pop and Rock"
   ]
  },
  {
   "cell_type": "code",
   "execution_count": 23,
   "metadata": {},
   "outputs": [
    {
     "data": {
      "text/plain": [
       "Ttest_indResult(statistic=5.214768050226803, pvalue=2.6075424174950963e-07)"
      ]
     },
     "execution_count": 23,
     "metadata": {},
     "output_type": "execute_result"
    }
   ],
   "source": [
    "stats.ttest_ind(pop_sample1, rock_sample1, equal_var=False)"
   ]
  },
  {
   "cell_type": "markdown",
   "metadata": {},
   "source": [
    "- T test Pop and Hip Hop"
   ]
  },
  {
   "cell_type": "code",
   "execution_count": 24,
   "metadata": {},
   "outputs": [
    {
     "data": {
      "text/plain": [
       "Ttest_indResult(statistic=0.6293714321041988, pvalue=0.5293639253531013)"
      ]
     },
     "execution_count": 24,
     "metadata": {},
     "output_type": "execute_result"
    }
   ],
   "source": [
    "stats.ttest_ind(pop_sample1, hiphop_sample1, equal_var=False)"
   ]
  },
  {
   "cell_type": "markdown",
   "metadata": {},
   "source": [
    "- T test Pop and Country"
   ]
  },
  {
   "cell_type": "code",
   "execution_count": 25,
   "metadata": {},
   "outputs": [
    {
     "data": {
      "text/plain": [
       "Ttest_indResult(statistic=1.090149052951046, pvalue=0.2764409106951442)"
      ]
     },
     "execution_count": 25,
     "metadata": {},
     "output_type": "execute_result"
    }
   ],
   "source": [
    "stats.ttest_ind(pop_sample1, country_sample1, equal_var=False)"
   ]
  },
  {
   "cell_type": "markdown",
   "metadata": {},
   "source": [
    "- T test Rock and Hip Hop "
   ]
  },
  {
   "cell_type": "code",
   "execution_count": 26,
   "metadata": {},
   "outputs": [
    {
     "data": {
      "text/plain": [
       "Ttest_indResult(statistic=-3.869264708301612, pvalue=0.00012116192528670297)"
      ]
     },
     "execution_count": 26,
     "metadata": {},
     "output_type": "execute_result"
    }
   ],
   "source": [
    "stats.ttest_ind(rock_sample1, hiphop_sample1, equal_var=False)"
   ]
  },
  {
   "cell_type": "markdown",
   "metadata": {},
   "source": [
    "- T test Rock and Country"
   ]
  },
  {
   "cell_type": "code",
   "execution_count": 27,
   "metadata": {},
   "outputs": [
    {
     "data": {
      "text/plain": [
       "Ttest_indResult(statistic=-3.869264708301612, pvalue=0.00012116192528670297)"
      ]
     },
     "execution_count": 27,
     "metadata": {},
     "output_type": "execute_result"
    }
   ],
   "source": [
    "stats.ttest_ind(rock_sample1, hiphop_sample1, equal_var=False)"
   ]
  },
  {
   "cell_type": "markdown",
   "metadata": {},
   "source": [
    "- T test Hip Hop and Country"
   ]
  },
  {
   "cell_type": "code",
   "execution_count": 28,
   "metadata": {},
   "outputs": [
    {
     "data": {
      "text/plain": [
       "Ttest_indResult(statistic=0.45655965930289033, pvalue=0.6482120780306619)"
      ]
     },
     "execution_count": 28,
     "metadata": {},
     "output_type": "execute_result"
    }
   ],
   "source": [
    "stats.ttest_ind(hiphop_sample1, country_sample1, equal_var=False)"
   ]
  }
 ],
 "metadata": {
  "kernelspec": {
   "display_name": "Python 3",
   "language": "python",
   "name": "python3"
  },
  "language_info": {
   "codemirror_mode": {
    "name": "ipython",
    "version": 3
   },
   "file_extension": ".py",
   "mimetype": "text/x-python",
   "name": "python",
   "nbconvert_exporter": "python",
   "pygments_lexer": "ipython3",
   "version": "3.7.3"
  },
  "varInspector": {
   "cols": {
    "lenName": 16,
    "lenType": 16,
    "lenVar": 40
   },
   "kernels_config": {
    "python": {
     "delete_cmd_postfix": "",
     "delete_cmd_prefix": "del ",
     "library": "var_list.py",
     "varRefreshCmd": "print(var_dic_list())"
    },
    "r": {
     "delete_cmd_postfix": ") ",
     "delete_cmd_prefix": "rm(",
     "library": "var_list.r",
     "varRefreshCmd": "cat(var_dic_list()) "
    }
   },
   "types_to_exclude": [
    "module",
    "function",
    "builtin_function_or_method",
    "instance",
    "_Feature"
   ],
   "window_display": false
  }
 },
 "nbformat": 4,
 "nbformat_minor": 2
}
