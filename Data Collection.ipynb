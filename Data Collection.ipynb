{
 "cells": [
  {
   "cell_type": "markdown",
   "metadata": {},
   "source": [
    "# Data Collection"
   ]
  },
  {
   "cell_type": "code",
   "execution_count": null,
   "metadata": {},
   "outputs": [],
   "source": [
    "import pandas as pd\n",
    "import spotipy\n",
    "from spotipy.oauth2 import SpotifyClientCredentials\n",
    "import time\n",
    "import timeit"
   ]
  },
  {
   "cell_type": "markdown",
   "metadata": {
    "heading_collapsed": true
   },
   "source": [
    "### 1. Clean Kaggle Dataset for Spotify Artist IDs List 1"
   ]
  },
  {
   "cell_type": "code",
   "execution_count": null,
   "metadata": {
    "hidden": true
   },
   "outputs": [],
   "source": [
    "#Create dataframe from Spotify artist codes csv\n",
    "df = pd.read_csv('data/spotify-artist-codes.csv')"
   ]
  },
  {
   "cell_type": "code",
   "execution_count": null,
   "metadata": {
    "hidden": true
   },
   "outputs": [],
   "source": [
    "#Re-name columns to \"ArtistName\" and \"SpotifyID\"\n",
    "df = df.rename(columns={'1:43': 'artist_name', \n",
    "                        'spotify:artist:39EHxSQAIaWusRqSI9xoyF':'id_string'})"
   ]
  },
  {
   "cell_type": "code",
   "execution_count": null,
   "metadata": {
    "hidden": true
   },
   "outputs": [],
   "source": [
    "#Create second dataframe of artist name and ID that was deleted by column rename\n",
    "df2 = pd.DataFrame({\"artist_name\":[\"1:43\"], \n",
    "                    \"id_string\":[\"spotify:artist:39EHxSQAIaWusRqSI9xoyF\"]}) "
   ]
  },
  {
   "cell_type": "code",
   "execution_count": null,
   "metadata": {
    "hidden": true
   },
   "outputs": [],
   "source": [
    "#Append second dataframe to re-add the lost artist and corresponding ID\n",
    "df = df.append(df2, ignore_index=True)"
   ]
  },
  {
   "cell_type": "code",
   "execution_count": null,
   "metadata": {
    "hidden": true
   },
   "outputs": [],
   "source": [
    "#Split id_string and expand into three new columns\n",
    "df['spotify'] = df.id_string.str.split(':', n=2, expand = True)[0]\n",
    "df['artist'] = df.id_string.str.split(':', n=2, expand = True)[1]\n",
    "df['artist_id'] = df.id_string.str.split(':', n=2, expand = True)[2]"
   ]
  },
  {
   "cell_type": "code",
   "execution_count": null,
   "metadata": {
    "hidden": true
   },
   "outputs": [],
   "source": [
    "#Drop columns\n",
    "df = df.drop([\"spotify\", \"artist\"], axis=1)"
   ]
  },
  {
   "cell_type": "code",
   "execution_count": null,
   "metadata": {
    "hidden": true
   },
   "outputs": [],
   "source": [
    "#Save to CSV\n",
    "df.to_csv(\"data/spotify-artist-codes-cleaned.csv\")"
   ]
  },
  {
   "cell_type": "markdown",
   "metadata": {
    "heading_collapsed": true
   },
   "source": [
    "### 2. Retrieving Artist Info from Spotify API (Kaggle Artist IDs)"
   ]
  },
  {
   "cell_type": "code",
   "execution_count": null,
   "metadata": {
    "hidden": true
   },
   "outputs": [],
   "source": [
    "#Creating artist_codes dataframe\n",
    "artist_codes = pd.read_csv('data/spotify-artist-codes-cleaned.csv')\n",
    "artist_codes = artist_codes.drop([\"Unnamed: 0\"], axis=1)"
   ]
  },
  {
   "cell_type": "code",
   "execution_count": null,
   "metadata": {
    "hidden": true
   },
   "outputs": [],
   "source": [
    "#Create lists of artists codes\n",
    "#Limiting list size to better manage retrieving Spotify data\n",
    "artist_ids_0_20k = artist_codes['artist_id'][0:20000].tolist()\n",
    "artist_ids_20k_40k = artist_codes['artist_id'][20000:40000].tolist()\n",
    "artist_ids_40k_60k = artist_codes['artist_id'][40000:60000].tolist()\n",
    "artist_ids_60k_82k = artist_codes['artist_id'][60000:].tolist()"
   ]
  },
  {
   "cell_type": "code",
   "execution_count": null,
   "metadata": {
    "hidden": true
   },
   "outputs": [],
   "source": [
    "#Setup Spotipy\n",
    "cid = '<Client ID>'\n",
    "secret = '<Secret ID>'\n",
    "\n",
    "client_credentials_manager = SpotifyClientCredentials(client_id=cid, client_secret=secret)\n",
    "sp = spotipy.Spotify(client_credentials_manager=client_credentials_manager)"
   ]
  },
  {
   "cell_type": "code",
   "execution_count": null,
   "metadata": {
    "code_folding": [],
    "hidden": true
   },
   "outputs": [],
   "source": [
    "#For loop to retrieve artist information by each 'artist_id'\n",
    "#Repeated for each list of ~20k artist codes\n",
    "start = timeit.default_timer()\n",
    "\n",
    "artist_info = []\n",
    "\n",
    "for code in artist_ids_60k_82k:\n",
    "    artist_results = sp.artist(code)\n",
    "    new_artist_dict = {}\n",
    "    new_artist_dict['artist_name'] = artist_results['name']\n",
    "    new_artist_dict['artist_id'] = artist_results['id']\n",
    "    new_artist_dict['artist_uri'] = artist_results['uri']\n",
    "    new_artist_dict['artist_genres'] = artist_results['genres']\n",
    "    new_artist_dict['artist_followers'] = artist_results['followers']['total']\n",
    "    new_artist_dict['artist_popularity'] = artist_results['popularity']\n",
    "    \n",
    "    artist_info.append(new_artist_dict)\n",
    "    time.sleep(0.1)\n",
    "\n",
    "stop = timeit.default_timer()\n",
    "print ('Time to run this code (in seconds):', stop - start)"
   ]
  },
  {
   "cell_type": "code",
   "execution_count": null,
   "metadata": {
    "hidden": true
   },
   "outputs": [],
   "source": [
    "#Creating DataFrame from lists\n",
    "#Repeated for each list of ~20k artist codes\n",
    "artist_info_60k_82k_df = pd.DataFrame(artist_info, columns=['artist_id', \n",
    "                                                            'artist_name', \n",
    "                                                            'artist_genres', \n",
    "                                                            'artist_followers', \n",
    "                                                            'artist_popularity', \n",
    "                                                            'artist_uri'])\n",
    "\n"
   ]
  },
  {
   "cell_type": "code",
   "execution_count": null,
   "metadata": {
    "hidden": true
   },
   "outputs": [],
   "source": [
    "#Save DataFrame to CSV\n",
    "#Repeated for each list of ~20k artist codes\n",
    "artist_info_60k_82k_df.to_csv(\"data/artist_info_60k_82k_df.csv\")"
   ]
  },
  {
   "cell_type": "markdown",
   "metadata": {
    "heading_collapsed": true
   },
   "source": [
    "### 3. Combine Artist Info DataFrames to CSV"
   ]
  },
  {
   "cell_type": "code",
   "execution_count": null,
   "metadata": {
    "hidden": true
   },
   "outputs": [],
   "source": [
    "#Read CSV files into DataFrames\n",
    "artist_info_0_20k_df2 = pd.read_csv('data/artist_info_0_20k_df.csv')\n",
    "artist_info_20k_40k_df2 = pd.read_csv('data/artist_info_20k_40k_df.csv')\n",
    "artist_info_40k_60k_df2 = pd.read_csv('data/artist_info_40k_60k_df.csv')\n",
    "artist_info_60k_82k_df2 = pd.read_csv('data/artist_info_60k_82k_df.csv')"
   ]
  },
  {
   "cell_type": "code",
   "execution_count": null,
   "metadata": {
    "hidden": true
   },
   "outputs": [],
   "source": [
    "#List of DataFrames\n",
    "artist_info_dataframes_list = [artist_info_0_20k_df2, \n",
    "                               artist_info_20k_40k_df2, \n",
    "                               artist_info_40k_60k_df2, \n",
    "                               artist_info_60k_82k_df2]"
   ]
  },
  {
   "cell_type": "code",
   "execution_count": null,
   "metadata": {
    "hidden": true
   },
   "outputs": [],
   "source": [
    "#Concatenate dataframes to create artist_info_df\n",
    "artist_info_df = pd.concat(artist_info_dataframes_list)"
   ]
  },
  {
   "cell_type": "code",
   "execution_count": null,
   "metadata": {
    "hidden": true
   },
   "outputs": [],
   "source": [
    "#Export DataFrame to CSV\n",
    "artist_info_df.to_csv(\"data/artist_info1_df.csv\")"
   ]
  },
  {
   "cell_type": "markdown",
   "metadata": {
    "heading_collapsed": true
   },
   "source": [
    "### 4. Retrieving Related Artists from Spotify API"
   ]
  },
  {
   "cell_type": "code",
   "execution_count": null,
   "metadata": {
    "hidden": true
   },
   "outputs": [],
   "source": [
    "#Creating artist_codes dataframe\n",
    "artist_codes = pd.read_csv('data/spotify-artist-codes-cleaned.csv')\n",
    "artist_codes = artist_codes.drop([\"Unnamed: 0\"], axis=1)"
   ]
  },
  {
   "cell_type": "code",
   "execution_count": null,
   "metadata": {
    "hidden": true
   },
   "outputs": [],
   "source": [
    "#Create lists of artists codes\n",
    "#Limiting list size to better manage retrieving Spotify data\n",
    "artist_ids_0_10k = artist_codes['artist_id'][0:10000].tolist()\n",
    "artist_ids_10k_20k = artist_codes['artist_id'][10000:20000].tolist()\n",
    "artist_ids_20k_30k = artist_codes['artist_id'][20000:30000].tolist()\n",
    "artist_ids_30k_40k = artist_codes['artist_id'][30000:40000].tolist()\n",
    "artist_ids_40k_50k = artist_codes['artist_id'][40000:50000].tolist()\n",
    "artist_ids_50k_60k = artist_codes['artist_id'][50000:60000].tolist()\n",
    "artist_ids_60k_70k = artist_codes['artist_id'][60000:70000].tolist()\n",
    "artist_ids_70k_82k = artist_codes['artist_id'][70000:].tolist()"
   ]
  },
  {
   "cell_type": "code",
   "execution_count": null,
   "metadata": {
    "hidden": true
   },
   "outputs": [],
   "source": [
    "#For loop to retrieve top_track information by each 'artist_id'\n",
    "#Repeated for each list of ~10k artist codes\n",
    "start = timeit.default_timer()\n",
    "\n",
    "related_artists = []\n",
    "\n",
    "for code in artist_ids_70k_82k:\n",
    "    related_artist_results = sp.artist_related_artists(code)['artists']\n",
    "    for artist in related_artist_results:    \n",
    "        new_artist_dict = {}\n",
    "        new_artist_dict['artist_id'] = code\n",
    "        new_artist_dict['related_artist_id'] = artist['id']\n",
    "        new_artist_dict['related_artist_name'] = artist['name']\n",
    "        related_artists.append(new_artist_dict)\n",
    "    time.sleep(0.1)\n",
    "    \n",
    "stop = timeit.default_timer()\n",
    "print ('Time to run this code (in seconds):', stop - start)"
   ]
  },
  {
   "cell_type": "code",
   "execution_count": null,
   "metadata": {
    "hidden": true
   },
   "outputs": [],
   "source": [
    "#Creating DataFrame from lists\n",
    "#Repeated for each list of ~20k artist codes\n",
    "related_artists_70k_82k_df = pd.DataFrame(related_artists, columns=['artist_id', 'related_artist_id', 'related_artist_name'])"
   ]
  },
  {
   "cell_type": "code",
   "execution_count": null,
   "metadata": {
    "hidden": true
   },
   "outputs": [],
   "source": [
    "#Save DataFrame to CSV\n",
    "#Repeated for each list of ~20k artist codes\n",
    "related_artists_70k_82k_df.to_csv(\"data/related_artists_70k_82k_df.csv\")"
   ]
  },
  {
   "cell_type": "markdown",
   "metadata": {
    "heading_collapsed": true
   },
   "source": [
    "### 5. Combine Related Artist DataFrames to CSV"
   ]
  },
  {
   "cell_type": "code",
   "execution_count": null,
   "metadata": {
    "hidden": true
   },
   "outputs": [],
   "source": [
    "#Read CSV files into DataFrames\n",
    "related_artists_0_10k_df2 = pd.read_csv('data/related_artists_0_10k_df.csv')\n",
    "related_artists_10k_20k_df2 = pd.read_csv('data/related_artists_10k_20k_df.csv')\n",
    "related_artists_20k_30k_df2 = pd.read_csv('data/related_artists_20k_30k_df.csv')\n",
    "related_artists_30k_40k_df2 = pd.read_csv('data/related_artists_30k_40k_df.csv')\n",
    "related_artists_40k_50k_df2 = pd.read_csv('data/related_artists_40k_50k_df.csv')\n",
    "related_artists_50k_60k_df2 = pd.read_csv('data/related_artists_50k_60k_df.csv')\n",
    "related_artists_60k_70k_df2 = pd.read_csv('data/related_artists_60k_70k_df.csv')\n",
    "related_artists_70k_82k_df2 = pd.read_csv('data/related_artists_70k_82k_df.csv')"
   ]
  },
  {
   "cell_type": "code",
   "execution_count": null,
   "metadata": {
    "hidden": true
   },
   "outputs": [],
   "source": [
    "#List of DataFrames\n",
    "related_artists_dataframes_list = [related_artists_0_10k_df2, \n",
    "                                   related_artists_10k_20k_df2,\n",
    "                                   related_artists_20k_30k_df2,\n",
    "                                   related_artists_30k_40k_df2,\n",
    "                                   related_artists_40k_50k_df2,\n",
    "                                   related_artists_50k_60k_df2,\n",
    "                                   related_artists_60k_70k_df2,\n",
    "                                   related_artists_70k_82k_df2]"
   ]
  },
  {
   "cell_type": "code",
   "execution_count": null,
   "metadata": {
    "hidden": true
   },
   "outputs": [],
   "source": [
    "#Concatenate dataframes to create artist_info_df\n",
    "related_artists_df = pd.concat(related_artists_dataframes_list)"
   ]
  },
  {
   "cell_type": "code",
   "execution_count": null,
   "metadata": {
    "hidden": true
   },
   "outputs": [],
   "source": [
    "#Export DataFrame to CSV\n",
    "related_artists_df.to_csv(\"data/related_artists_df.csv\")"
   ]
  },
  {
   "cell_type": "markdown",
   "metadata": {
    "heading_collapsed": true
   },
   "source": [
    "### 6. Create Artist ID List 2"
   ]
  },
  {
   "cell_type": "code",
   "execution_count": null,
   "metadata": {
    "hidden": true
   },
   "outputs": [],
   "source": [
    "artist_info_df = pd.read_csv('data/artist_info_df.csv')"
   ]
  },
  {
   "cell_type": "code",
   "execution_count": null,
   "metadata": {
    "hidden": true
   },
   "outputs": [],
   "source": [
    "related_artists_df = pd.read_csv('data/related_artists_df.csv')"
   ]
  },
  {
   "cell_type": "code",
   "execution_count": null,
   "metadata": {
    "hidden": true
   },
   "outputs": [],
   "source": [
    "related_artist_list = list(related_artists_df['related_artist_id'].unique())"
   ]
  },
  {
   "cell_type": "code",
   "execution_count": null,
   "metadata": {
    "hidden": true
   },
   "outputs": [],
   "source": [
    "start_artist_list = list(artist_info_df['artist_id'].unique())"
   ]
  },
  {
   "cell_type": "code",
   "execution_count": null,
   "metadata": {
    "hidden": true
   },
   "outputs": [],
   "source": [
    "unique_new_artist_list = [x for x in related_artist_list if x not in start_artist_list]"
   ]
  },
  {
   "cell_type": "code",
   "execution_count": null,
   "metadata": {
    "hidden": true
   },
   "outputs": [],
   "source": [
    "artist_list_2_df = pd.DataFrame(unique_new_artist_list, columns=['artist_id'])"
   ]
  },
  {
   "cell_type": "code",
   "execution_count": null,
   "metadata": {
    "hidden": true
   },
   "outputs": [],
   "source": [
    "artist_list_2_df.to_csv(\"data/artist_list_2.csv\")"
   ]
  },
  {
   "cell_type": "markdown",
   "metadata": {
    "heading_collapsed": true
   },
   "source": [
    "### 7. Retrieving Artist Info from Spotify API (Related Artist IDs)"
   ]
  },
  {
   "cell_type": "code",
   "execution_count": null,
   "metadata": {
    "hidden": true
   },
   "outputs": [],
   "source": [
    "#Creating artist_codes dataframe\n",
    "artist_codes2 = pd.read_csv('data/artist_list_2.csv')\n",
    "artist_codes2 = artist_codes2.drop([\"Unnamed: 0\"], axis=1)"
   ]
  },
  {
   "cell_type": "code",
   "execution_count": null,
   "metadata": {
    "hidden": true
   },
   "outputs": [],
   "source": [
    "#Create lists of artists codes\n",
    "#Limiting list size to better manage retrieving Spotify data\n",
    "artist_ids2_0_20k = artist_codes2['artist_id'][0:20000].tolist()\n",
    "artist_ids2_20k_40k = artist_codes2['artist_id'][20000:40000].tolist()\n",
    "artist_ids2_40k_60k = artist_codes2['artist_id'][40000:60000].tolist()\n",
    "artist_ids2_60k_80k = artist_codes2['artist_id'][60000:80000].tolist()\n",
    "artist_ids2_80k_100k = artist_codes2['artist_id'][80000:100000].tolist()\n",
    "artist_ids2_100k_120k = artist_codes2['artist_id'][100000:120000].tolist()\n",
    "artist_ids2_120k_140k = artist_codes2['artist_id'][120000:140000].tolist()\n",
    "artist_ids2_140k_160k = artist_codes2['artist_id'][140000:160000].tolist()\n",
    "artist_ids2_160k_180k = artist_codes2['artist_id'][160000:180000].tolist()\n",
    "artist_ids2_180k_200k = artist_codes2['artist_id'][180000:200000].tolist()\n",
    "artist_ids2_200k_220k = artist_codes2['artist_id'][200000:220000].tolist()\n",
    "artist_ids2_220k_240k = artist_codes2['artist_id'][220000:].tolist()"
   ]
  },
  {
   "cell_type": "code",
   "execution_count": null,
   "metadata": {
    "hidden": true
   },
   "outputs": [],
   "source": [
    "#For loop to retrieve artist information by each 'artist_id'\n",
    "#Repeated for each list of ~20k artist codes\n",
    "start = timeit.default_timer()\n",
    "\n",
    "artist_info = []\n",
    "\n",
    "for code in artist_ids2_220k_240k:\n",
    "    artist_results = sp.artist(code)\n",
    "    new_artist_dict = {}\n",
    "    new_artist_dict['artist_name'] = artist_results['name']\n",
    "    new_artist_dict['artist_id'] = artist_results['id']\n",
    "    new_artist_dict['artist_uri'] = artist_results['uri']\n",
    "    new_artist_dict['artist_genres'] = artist_results['genres']\n",
    "    new_artist_dict['artist_followers'] = artist_results['followers']['total']\n",
    "    new_artist_dict['artist_popularity'] = artist_results['popularity']\n",
    "    \n",
    "    artist_info.append(new_artist_dict)\n",
    "    time.sleep(0.1)\n",
    "\n",
    "stop = timeit.default_timer()\n",
    "print ('Time to run this code (in seconds):', stop - start)"
   ]
  },
  {
   "cell_type": "code",
   "execution_count": null,
   "metadata": {
    "hidden": true
   },
   "outputs": [],
   "source": [
    "#Creating DataFrame from lists\n",
    "#Repeated for each list of ~20k artist codes\n",
    "artist_info2_220k_240k_df = pd.DataFrame(artist_info, columns=['artist_id', \n",
    "                                                            'artist_name', \n",
    "                                                            'artist_genres', \n",
    "                                                            'artist_followers', \n",
    "                                                            'artist_popularity', \n",
    "                                                            'artist_uri'])"
   ]
  },
  {
   "cell_type": "code",
   "execution_count": null,
   "metadata": {
    "hidden": true
   },
   "outputs": [],
   "source": [
    "#Save DataFrame to CSV\n",
    "#Repeated for each list of ~20k artist codes\n",
    "artist_info2_220k_240k_df.to_csv(\"data/artist_info2_220k_240k_df.csv\")"
   ]
  },
  {
   "cell_type": "markdown",
   "metadata": {
    "heading_collapsed": true
   },
   "source": [
    "### 8. Combine Related Artist Artist Info DataFrames to CSV "
   ]
  },
  {
   "cell_type": "code",
   "execution_count": null,
   "metadata": {
    "hidden": true
   },
   "outputs": [],
   "source": [
    "#Read CSV files into DataFrames\n",
    "artist_info2_0_20k_df2 = pd.read_csv('data/artist_info2_0_20k_df.csv')\n",
    "artist_info2_20k_40k_df2 = pd.read_csv('data/artist_info2_20k_40k_df.csv')\n",
    "artist_info2_40k_60k_df2 = pd.read_csv('data/artist_info2_40k_60k_df.csv')\n",
    "artist_info2_60k_80k_df2 = pd.read_csv('data/artist_info2_60k_80k_df.csv')\n",
    "artist_info2_80k_100k_df2 = pd.read_csv('data/artist_info2_80k_100k_df.csv')\n",
    "artist_info2_100k_120k_df2 = pd.read_csv('data/artist_info2_100k_120k_df.csv')\n",
    "artist_info2_120k_140k_df2 = pd.read_csv('data/artist_info2_120k_140k_df.csv')\n",
    "artist_info2_140k_160k_df2 = pd.read_csv('data/artist_info2_140k_160k_df.csv')\n",
    "artist_info2_160k_180k_df2 = pd.read_csv('data/artist_info2_160k_180k_df.csv')\n",
    "artist_info2_180k_200k_df2 = pd.read_csv('data/artist_info2_180k_200k_df.csv')\n",
    "artist_info2_200k_220k_df2 = pd.read_csv('data/artist_info2_200k_220k_df.csv')\n",
    "artist_info2_220k_240k_df2 = pd.read_csv('data/artist_info2_220k_240k_df.csv')"
   ]
  },
  {
   "cell_type": "code",
   "execution_count": null,
   "metadata": {
    "hidden": true
   },
   "outputs": [],
   "source": [
    "#List of DataFrames\n",
    "artist_info2_dataframes_list = [artist_info2_0_20k_df2,\n",
    "                                artist_info2_20k_40k_df2,\n",
    "                                artist_info2_40k_60k_df2,\n",
    "                                artist_info2_60k_80k_df2,\n",
    "                                artist_info2_80k_100k_df2,\n",
    "                                artist_info2_100k_120k_df2,\n",
    "                                artist_info2_120k_140k_df2,\n",
    "                                artist_info2_140k_160k_df2,\n",
    "                                artist_info2_160k_180k_df2,\n",
    "                                artist_info2_180k_200k_df2,\n",
    "                                artist_info2_200k_220k_df2,\n",
    "                                artist_info2_220k_240k_df2]"
   ]
  },
  {
   "cell_type": "code",
   "execution_count": null,
   "metadata": {
    "hidden": true
   },
   "outputs": [],
   "source": [
    "#Concatenate dataframes to create artist_info_df\n",
    "artist_info2_df = pd.concat(artist_info2_dataframes_list)"
   ]
  },
  {
   "cell_type": "code",
   "execution_count": null,
   "metadata": {
    "hidden": true
   },
   "outputs": [],
   "source": [
    "#Export DataFrame to CSV\n",
    "artist_info2_df.to_csv(\"data/artist_info2_df.csv\")"
   ]
  },
  {
   "cell_type": "markdown",
   "metadata": {
    "heading_collapsed": true
   },
   "source": [
    "### 9. Combine Artist Info for List 1 & List 2 to Final CSV"
   ]
  },
  {
   "cell_type": "code",
   "execution_count": null,
   "metadata": {
    "hidden": true
   },
   "outputs": [],
   "source": [
    "#Creating artist_info1 dataframe\n",
    "artist_info1_df = pd.read_csv('data/artist_info1_df.csv')\n",
    "artist_info1_df = artist_info1_df.drop([\"Unnamed: 0\", \"Unnamed: 0.1\"], axis=1)"
   ]
  },
  {
   "cell_type": "code",
   "execution_count": null,
   "metadata": {
    "hidden": true
   },
   "outputs": [],
   "source": [
    "#Creating artist_info2 dataframe\n",
    "artist_info2_df = pd.read_csv('data/artist_info2_df.csv')\n",
    "artist_info2_df = artist_info2_df.drop([\"Unnamed: 0\", \"Unnamed: 0.1\"], axis=1)"
   ]
  },
  {
   "cell_type": "code",
   "execution_count": null,
   "metadata": {
    "hidden": true
   },
   "outputs": [],
   "source": [
    "#Concatenate dataframes to create artist_info_df\n",
    "artist_info_df = pd.concat([artist_info1_df, artist_info2_df])"
   ]
  },
  {
   "cell_type": "code",
   "execution_count": null,
   "metadata": {
    "hidden": true
   },
   "outputs": [],
   "source": [
    "#Export DataFrame to CSV\n",
    "artist_info_df.to_csv(\"data/spotify_artists.csv\")"
   ]
  }
 ],
 "metadata": {
  "kernelspec": {
   "display_name": "Python 3",
   "language": "python",
   "name": "python3"
  },
  "language_info": {
   "codemirror_mode": {
    "name": "ipython",
    "version": 3
   },
   "file_extension": ".py",
   "mimetype": "text/x-python",
   "name": "python",
   "nbconvert_exporter": "python",
   "pygments_lexer": "ipython3",
   "version": "3.7.3"
  },
  "varInspector": {
   "cols": {
    "lenName": 16,
    "lenType": 16,
    "lenVar": 40
   },
   "kernels_config": {
    "python": {
     "delete_cmd_postfix": "",
     "delete_cmd_prefix": "del ",
     "library": "var_list.py",
     "varRefreshCmd": "print(var_dic_list())"
    },
    "r": {
     "delete_cmd_postfix": ") ",
     "delete_cmd_prefix": "rm(",
     "library": "var_list.r",
     "varRefreshCmd": "cat(var_dic_list()) "
    }
   },
   "types_to_exclude": [
    "module",
    "function",
    "builtin_function_or_method",
    "instance",
    "_Feature"
   ],
   "window_display": false
  }
 },
 "nbformat": 4,
 "nbformat_minor": 2
}
