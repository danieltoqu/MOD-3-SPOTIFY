{
 "cells": [
  {
   "cell_type": "code",
   "execution_count": null,
   "metadata": {},
   "outputs": [],
   "source": [
    "H0:\n",
    "\n",
    "HA: "
   ]
  },
  {
   "cell_type": "markdown",
   "metadata": {},
   "source": [
    "### Importing libraries"
   ]
  },
  {
   "cell_type": "code",
   "execution_count": 1,
   "metadata": {},
   "outputs": [],
   "source": [
    "import pandas as pd\n",
    "import numpy as np\n",
    "import matplotlib.pyplot as plt\n",
    "\n",
    "import statsmodels.api as sm\n",
    "from statsmodels.formula.api import ols\n",
    "%matplotlib inline"
   ]
  },
  {
   "cell_type": "markdown",
   "metadata": {},
   "source": [
    "- Reading CSV file"
   ]
  },
  {
   "cell_type": "code",
   "execution_count": 2,
   "metadata": {},
   "outputs": [],
   "source": [
    "#Creating artist_codes dataframe\n",
    "artists = pd.read_csv('Data/spotify_artists_cleaned.csv')"
   ]
  },
  {
   "cell_type": "code",
   "execution_count": null,
   "metadata": {},
   "outputs": [],
   "source": [
    "artists.head()"
   ]
  },
  {
   "cell_type": "code",
   "execution_count": 3,
   "metadata": {},
   "outputs": [],
   "source": [
    "pop_artists = artists[(artists['pop']==True)]\n",
    "rock_artists = artists[(artists['rock']==True)]\n",
    "hiphop_artists = artists[(artists['hiphop']==True)]\n",
    "country_artists = artists[(artists['country']==True)]"
   ]
  },
  {
   "cell_type": "code",
   "execution_count": null,
   "metadata": {},
   "outputs": [],
   "source": [
    "stats.normaltest(pop_artists)"
   ]
  },
  {
   "cell_type": "code",
   "execution_count": 5,
   "metadata": {},
   "outputs": [
    {
     "name": "stdout",
     "output_type": "stream",
     "text": [
      "<class 'pandas.core.frame.DataFrame'>\n",
      "Int64Index: 25658 entries, 0 to 130957\n",
      "Data columns (total 24 columns):\n",
      "artist_id            25658 non-null object\n",
      "artist_name          25658 non-null object\n",
      "artist_genres        25658 non-null object\n",
      "artist_followers     25658 non-null float64\n",
      "artist_popularity    25658 non-null int64\n",
      "blues                25658 non-null bool\n",
      "children             25658 non-null bool\n",
      "classical            25658 non-null bool\n",
      "country              25658 non-null bool\n",
      "edm                  25658 non-null bool\n",
      "electronic           25658 non-null bool\n",
      "folk                 25658 non-null bool\n",
      "funk                 25658 non-null bool\n",
      "hiphop               25658 non-null bool\n",
      "indie                25658 non-null bool\n",
      "jazz                 25658 non-null bool\n",
      "latin                25658 non-null bool\n",
      "pop                  25658 non-null bool\n",
      "r&b                  25658 non-null bool\n",
      "rap                  25658 non-null bool\n",
      "reggae               25658 non-null bool\n",
      "rock                 25658 non-null bool\n",
      "soul                 25658 non-null bool\n",
      "soundtrack           25658 non-null bool\n",
      "dtypes: bool(19), float64(1), int64(1), object(3)\n",
      "memory usage: 1.6+ MB\n",
      "None\n",
      "<class 'pandas.core.frame.DataFrame'>\n",
      "Int64Index: 15521 entries, 6 to 130914\n",
      "Data columns (total 24 columns):\n",
      "artist_id            15521 non-null object\n",
      "artist_name          15521 non-null object\n",
      "artist_genres        15521 non-null object\n",
      "artist_followers     15521 non-null float64\n",
      "artist_popularity    15521 non-null int64\n",
      "blues                15521 non-null bool\n",
      "children             15521 non-null bool\n",
      "classical            15521 non-null bool\n",
      "country              15521 non-null bool\n",
      "edm                  15521 non-null bool\n",
      "electronic           15521 non-null bool\n",
      "folk                 15521 non-null bool\n",
      "funk                 15521 non-null bool\n",
      "hiphop               15521 non-null bool\n",
      "indie                15521 non-null bool\n",
      "jazz                 15521 non-null bool\n",
      "latin                15521 non-null bool\n",
      "pop                  15521 non-null bool\n",
      "r&b                  15521 non-null bool\n",
      "rap                  15521 non-null bool\n",
      "reggae               15521 non-null bool\n",
      "rock                 15521 non-null bool\n",
      "soul                 15521 non-null bool\n",
      "soundtrack           15521 non-null bool\n",
      "dtypes: bool(19), float64(1), int64(1), object(3)\n",
      "memory usage: 1015.5+ KB\n",
      "None\n",
      "<class 'pandas.core.frame.DataFrame'>\n",
      "Int64Index: 8373 entries, 2 to 130959\n",
      "Data columns (total 24 columns):\n",
      "artist_id            8373 non-null object\n",
      "artist_name          8373 non-null object\n",
      "artist_genres        8373 non-null object\n",
      "artist_followers     8373 non-null float64\n",
      "artist_popularity    8373 non-null int64\n",
      "blues                8373 non-null bool\n",
      "children             8373 non-null bool\n",
      "classical            8373 non-null bool\n",
      "country              8373 non-null bool\n",
      "edm                  8373 non-null bool\n",
      "electronic           8373 non-null bool\n",
      "folk                 8373 non-null bool\n",
      "funk                 8373 non-null bool\n",
      "hiphop               8373 non-null bool\n",
      "indie                8373 non-null bool\n",
      "jazz                 8373 non-null bool\n",
      "latin                8373 non-null bool\n",
      "pop                  8373 non-null bool\n",
      "r&b                  8373 non-null bool\n",
      "rap                  8373 non-null bool\n",
      "reggae               8373 non-null bool\n",
      "rock                 8373 non-null bool\n",
      "soul                 8373 non-null bool\n",
      "soundtrack           8373 non-null bool\n",
      "dtypes: bool(19), float64(1), int64(1), object(3)\n",
      "memory usage: 547.8+ KB\n",
      "None\n",
      "<class 'pandas.core.frame.DataFrame'>\n",
      "Int64Index: 1978 entries, 145 to 129887\n",
      "Data columns (total 24 columns):\n",
      "artist_id            1978 non-null object\n",
      "artist_name          1978 non-null object\n",
      "artist_genres        1978 non-null object\n",
      "artist_followers     1978 non-null float64\n",
      "artist_popularity    1978 non-null int64\n",
      "blues                1978 non-null bool\n",
      "children             1978 non-null bool\n",
      "classical            1978 non-null bool\n",
      "country              1978 non-null bool\n",
      "edm                  1978 non-null bool\n",
      "electronic           1978 non-null bool\n",
      "folk                 1978 non-null bool\n",
      "funk                 1978 non-null bool\n",
      "hiphop               1978 non-null bool\n",
      "indie                1978 non-null bool\n",
      "jazz                 1978 non-null bool\n",
      "latin                1978 non-null bool\n",
      "pop                  1978 non-null bool\n",
      "r&b                  1978 non-null bool\n",
      "rap                  1978 non-null bool\n",
      "reggae               1978 non-null bool\n",
      "rock                 1978 non-null bool\n",
      "soul                 1978 non-null bool\n",
      "soundtrack           1978 non-null bool\n",
      "dtypes: bool(19), float64(1), int64(1), object(3)\n",
      "memory usage: 129.4+ KB\n",
      "None\n"
     ]
    }
   ],
   "source": [
    "print(pop_artists.info())\n",
    "print(rock_artists.info())\n",
    "print(hiphop_artists.info())\n",
    "print(country_artists.info())"
   ]
  },
  {
   "cell_type": "code",
   "execution_count": null,
   "metadata": {},
   "outputs": [],
   "source": []
  },
  {
   "cell_type": "code",
   "execution_count": null,
   "metadata": {
    "scrolled": true
   },
   "outputs": [],
   "source": [
    "print(pop_artists.info())\n",
    "pop_artists.head()"
   ]
  },
  {
   "cell_type": "markdown",
   "metadata": {},
   "source": [
    "- Artists in numpy array"
   ]
  },
  {
   "cell_type": "code",
   "execution_count": 4,
   "metadata": {},
   "outputs": [],
   "source": [
    "pop_sample1 = np.array(pop_artists['artist_popularity'].sample(100))\n",
    "rock_sample1 = np.array(rock_artists['artist_popularity'].sample(100))\n",
    "hiphop_sample1 = np.array(hiphop_artists['artist_popularity'].sample(100))\n",
    "country_sample1 = np.array(country_artists['artist_popularity'].sample(100))"
   ]
  },
  {
   "cell_type": "code",
   "execution_count": null,
   "metadata": {},
   "outputs": [],
   "source": [
    "stats.normaltest(pop_sample1)"
   ]
  },
  {
   "cell_type": "code",
   "execution_count": null,
   "metadata": {},
   "outputs": [],
   "source": [
    "stats.normaltest(country_sample1)"
   ]
  },
  {
   "cell_type": "code",
   "execution_count": 6,
   "metadata": {},
   "outputs": [
    {
     "data": {
      "text/html": [
       "<div>\n",
       "<style scoped>\n",
       "    .dataframe tbody tr th:only-of-type {\n",
       "        vertical-align: middle;\n",
       "    }\n",
       "\n",
       "    .dataframe tbody tr th {\n",
       "        vertical-align: top;\n",
       "    }\n",
       "\n",
       "    .dataframe thead th {\n",
       "        text-align: right;\n",
       "    }\n",
       "</style>\n",
       "<table border=\"1\" class=\"dataframe\">\n",
       "  <thead>\n",
       "    <tr style=\"text-align: right;\">\n",
       "      <th></th>\n",
       "      <th>pop</th>\n",
       "      <th>rock</th>\n",
       "      <th>hiphop</th>\n",
       "      <th>country</th>\n",
       "    </tr>\n",
       "  </thead>\n",
       "  <tbody>\n",
       "    <tr>\n",
       "      <th>0</th>\n",
       "      <td>5</td>\n",
       "      <td>57</td>\n",
       "      <td>54</td>\n",
       "      <td>42</td>\n",
       "    </tr>\n",
       "    <tr>\n",
       "      <th>1</th>\n",
       "      <td>38</td>\n",
       "      <td>19</td>\n",
       "      <td>35</td>\n",
       "      <td>8</td>\n",
       "    </tr>\n",
       "    <tr>\n",
       "      <th>2</th>\n",
       "      <td>60</td>\n",
       "      <td>42</td>\n",
       "      <td>70</td>\n",
       "      <td>29</td>\n",
       "    </tr>\n",
       "    <tr>\n",
       "      <th>3</th>\n",
       "      <td>28</td>\n",
       "      <td>35</td>\n",
       "      <td>38</td>\n",
       "      <td>3</td>\n",
       "    </tr>\n",
       "    <tr>\n",
       "      <th>4</th>\n",
       "      <td>34</td>\n",
       "      <td>0</td>\n",
       "      <td>50</td>\n",
       "      <td>28</td>\n",
       "    </tr>\n",
       "  </tbody>\n",
       "</table>\n",
       "</div>"
      ],
      "text/plain": [
       "   pop  rock  hiphop  country\n",
       "0    5    57      54       42\n",
       "1   38    19      35        8\n",
       "2   60    42      70       29\n",
       "3   28    35      38        3\n",
       "4   34     0      50       28"
      ]
     },
     "execution_count": 6,
     "metadata": {},
     "output_type": "execute_result"
    }
   ],
   "source": [
    "sample_test_df = pd.DataFrame({'pop': pop_sample1, 'rock': rock_sample1, 'hiphop': hiphop_sample1, 'country': country_sample1})\n",
    "sample_test_df.head()"
   ]
  },
  {
   "cell_type": "code",
   "execution_count": 7,
   "metadata": {
    "scrolled": true
   },
   "outputs": [
    {
     "data": {
      "image/png": "[encoded data removed]",
      "text/plain": [
       "<Figure size 432x288 with 1 Axes>"
      ]
     },
     "metadata": {
      "needs_background": "light"
     },
     "output_type": "display_data"
    }
   ],
   "source": [
    "sample_test_df.boxplot(showmeans=True)\n",
    "plt.tight_layout()"
   ]
  },
  {
   "cell_type": "code",
   "execution_count": null,
   "metadata": {},
   "outputs": [],
   "source": [
    "print('Means of the samples are: ', \n",
    "      pop_sample1.mean(), \n",
    "      rock_sample1.mean(),\n",
    "      hiphop_sample1.mean(), '\\n',\n",
    "      country_sample1.mean()\n",
    "     )"
   ]
  },
  {
   "cell_type": "code",
   "execution_count": null,
   "metadata": {},
   "outputs": [],
   "source": [
    "print('STD of the samples are: ', \n",
    "      np.std(pop_sample1), \n",
    "      np.std(rock_sample1),\n",
    "      np.std(hiphop_sample1), '\\n',\n",
    "      np.std(country_sample1)\n",
    "     )"
   ]
  },
  {
   "cell_type": "code",
   "execution_count": null,
   "metadata": {},
   "outputs": [],
   "source": [
    "## sample sizes for different groups\n",
    "n1 = 100\n",
    "n2 = 100\n",
    "n3 = 100\n",
    "n4 = 100\n",
    "\n",
    "## number of groups\n",
    "t = 4"
   ]
  },
  {
   "cell_type": "code",
   "execution_count": null,
   "metadata": {},
   "outputs": [],
   "source": [
    "## for the first group\n",
    "y1_bar = pop_sample1.mean()\n",
    "ss1 = pop_sample1.var(ddof = 1)\n",
    "\n",
    "## for the second group\n",
    "y2_bar = rock_sample1.mean()\n",
    "ss2 = rock_sample1.var(ddof = 1)\n",
    "\n",
    "## for the third group\n",
    "y3_bar = hiphop_sample1.mean()\n",
    "ss3 = hiphop_sample1.var(ddof = 1)\n",
    "\n",
    "## for the last group\n",
    "y4_bar = country_sample1.mean()\n",
    "ss4 = country_sample1.var(ddof = 1)"
   ]
  },
  {
   "cell_type": "code",
   "execution_count": null,
   "metadata": {},
   "outputs": [],
   "source": [
    "## pooled variance\n",
    "s_p = sum([ss1, ss2, ss3, ss4]) / (sum([n1, n2, n3, n4]) - 4)"
   ]
  },
  {
   "cell_type": "code",
   "execution_count": null,
   "metadata": {},
   "outputs": [],
   "source": [
    "y = np.sum([pop_sample1,rock_sample1,country_sample1,hiphop_sample1])\n",
    "\n",
    "y_bar = y/(n1 + n2 + n3 + n4)\n",
    "\n",
    "ns_means =(n1 + n2 + n3 + n4)*(np.sum([(y1_bar - y_bar)**2, \n",
    "                                       (y2_bar - y_bar)**2,\n",
    "                                       (y3_bar - y_bar)**2, \n",
    "                                       (y4_bar - y_bar)**2 ])) / (t-1)"
   ]
  },
  {
   "cell_type": "code",
   "execution_count": null,
   "metadata": {},
   "outputs": [],
   "source": [
    "mod = ols('weight ~ group', data=sample_test_df)"
   ]
  },
  {
   "cell_type": "markdown",
   "metadata": {},
   "source": [
    "### Notation"
   ]
  },
  {
   "cell_type": "markdown",
   "metadata": {},
   "source": [
    "- $K$: number of groups. \n",
    "    In this exercise, we have k = 4 (pop_sample1,rock_sample1, hiphop_sample1, country_sample1) \n",
    "    \n",
    "- $X_{ij}$: represents the $j$th observation in the $i$th group.\n",
    "    For example, we have 100 observations($j$th observations) for the group pop_sample1 (the $i$th group).\n",
    "    \n",
    "- $\\bar X_{i}$: represents the mean of the $i$th group.\n",
    "     For example, this is the mean of the $X_{ij}$ for pop_sample. Last, we will have K number of groups.\n",
    "     \n",
    "- $\\bar X$: represents the mean of all observations from the groups"
   ]
  },
  {
   "cell_type": "code",
   "execution_count": null,
   "metadata": {},
   "outputs": [],
   "source": []
  },
  {
   "cell_type": "code",
   "execution_count": 8,
   "metadata": {},
   "outputs": [],
   "source": [
    "import scipy.stats "
   ]
  },
  {
   "cell_type": "code",
   "execution_count": 13,
   "metadata": {},
   "outputs": [
    {
     "data": {
      "text/plain": [
       "0.0005883705569387221"
      ]
     },
     "execution_count": 13,
     "metadata": {},
     "output_type": "execute_result"
    }
   ],
   "source": [
    "1- scipy.stats.f.cdf(19, dfn = 2, dfd= 9)"
   ]
  },
  {
   "cell_type": "code",
   "execution_count": null,
   "metadata": {},
   "outputs": [],
   "source": []
  }
 ],
 "metadata": {
  "kernelspec": {
   "display_name": "Python 3",
   "language": "python",
   "name": "python3"
  },
  "language_info": {
   "codemirror_mode": {
    "name": "ipython",
    "version": 3
   },
   "file_extension": ".py",
   "mimetype": "text/x-python",
   "name": "python",
   "nbconvert_exporter": "python",
   "pygments_lexer": "ipython3",
   "version": "3.7.3"
  },
  "varInspector": {
   "cols": {
    "lenName": 16,
    "lenType": 16,
    "lenVar": 40
   },
   "kernels_config": {
    "python": {
     "delete_cmd_postfix": "",
     "delete_cmd_prefix": "del ",
     "library": "var_list.py",
     "varRefreshCmd": "print(var_dic_list())"
    },
    "r": {
     "delete_cmd_postfix": ") ",
     "delete_cmd_prefix": "rm(",
     "library": "var_list.r",
     "varRefreshCmd": "cat(var_dic_list()) "
    }
   },
   "types_to_exclude": [
    "module",
    "function",
    "builtin_function_or_method",
    "instance",
    "_Feature"
   ],
   "window_display": false
  }
 },
 "nbformat": 4,
 "nbformat_minor": 2
}
