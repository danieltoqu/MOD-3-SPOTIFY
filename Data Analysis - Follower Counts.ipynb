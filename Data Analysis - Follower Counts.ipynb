{
 "cells": [
  {
   "cell_type": "markdown",
   "metadata": {},
   "source": [
    "# Data Analysis - Follower Counts"
   ]
  },
  {
   "cell_type": "code",
   "execution_count": 172,
   "metadata": {},
   "outputs": [],
   "source": [
    "import pandas as pd\n",
    "import numpy as np\n",
    "import matplotlib.pyplot as plt\n",
    "import seaborn as sns\n",
    "import scipy\n",
    "import scipy.stats\n",
    "from scipy.stats import stats\n",
    "import statsmodels\n",
    "import statsmodels.api as sm\n",
    "from statsmodels.formula.api import ols\n",
    "%matplotlib inline"
   ]
  },
  {
   "cell_type": "code",
   "execution_count": 6,
   "metadata": {},
   "outputs": [],
   "source": [
    "#Creating artist_codes dataframe\n",
    "artists = pd.read_csv('Data/spotify_artists_cleaned.csv')"
   ]
  },
  {
   "cell_type": "code",
   "execution_count": 7,
   "metadata": {},
   "outputs": [],
   "source": [
    "#Limiting artist data to follower counts under 25,000\n",
    "artists = artists[(artists['artist_followers']<25000)]"
   ]
  },
  {
   "cell_type": "code",
   "execution_count": 8,
   "metadata": {
    "scrolled": true
   },
   "outputs": [
    {
     "name": "stdout",
     "output_type": "stream",
     "text": [
      "<class 'pandas.core.frame.DataFrame'>\n",
      "Int64Index: 45322 entries, 0 to 53243\n",
      "Data columns (total 25 columns):\n",
      "artist_id            45322 non-null object\n",
      "artist_name          45322 non-null object\n",
      "artist_genres        45322 non-null object\n",
      "artist_followers     45322 non-null float64\n",
      "artist_popularity    45322 non-null int64\n",
      "blues                45322 non-null bool\n",
      "children             45322 non-null bool\n",
      "classical            45322 non-null bool\n",
      "country              45322 non-null bool\n",
      "edm                  45322 non-null bool\n",
      "electronic           45322 non-null bool\n",
      "folk                 45322 non-null bool\n",
      "funk                 45322 non-null bool\n",
      "hiphop               45322 non-null bool\n",
      "indie                45322 non-null bool\n",
      "jazz                 45322 non-null bool\n",
      "latin                45322 non-null bool\n",
      "pop                  45322 non-null bool\n",
      "r&b                  45322 non-null bool\n",
      "rap                  45322 non-null bool\n",
      "reggae               45322 non-null bool\n",
      "rock                 45322 non-null bool\n",
      "soul                 45322 non-null bool\n",
      "soundtrack           45322 non-null bool\n",
      "genre_count          45322 non-null int64\n",
      "dtypes: bool(19), float64(1), int64(2), object(3)\n",
      "memory usage: 3.2+ MB\n",
      "None\n"
     ]
    },
    {
     "data": {
      "text/html": [
       "<div>\n",
       "<style scoped>\n",
       "    .dataframe tbody tr th:only-of-type {\n",
       "        vertical-align: middle;\n",
       "    }\n",
       "\n",
       "    .dataframe tbody tr th {\n",
       "        vertical-align: top;\n",
       "    }\n",
       "\n",
       "    .dataframe thead th {\n",
       "        text-align: right;\n",
       "    }\n",
       "</style>\n",
       "<table border=\"1\" class=\"dataframe\">\n",
       "  <thead>\n",
       "    <tr style=\"text-align: right;\">\n",
       "      <th></th>\n",
       "      <th>artist_id</th>\n",
       "      <th>artist_name</th>\n",
       "      <th>artist_genres</th>\n",
       "      <th>artist_followers</th>\n",
       "      <th>artist_popularity</th>\n",
       "      <th>blues</th>\n",
       "      <th>children</th>\n",
       "      <th>classical</th>\n",
       "      <th>country</th>\n",
       "      <th>edm</th>\n",
       "      <th>...</th>\n",
       "      <th>jazz</th>\n",
       "      <th>latin</th>\n",
       "      <th>pop</th>\n",
       "      <th>r&amp;b</th>\n",
       "      <th>rap</th>\n",
       "      <th>reggae</th>\n",
       "      <th>rock</th>\n",
       "      <th>soul</th>\n",
       "      <th>soundtrack</th>\n",
       "      <th>genre_count</th>\n",
       "    </tr>\n",
       "  </thead>\n",
       "  <tbody>\n",
       "    <tr>\n",
       "      <th>0</th>\n",
       "      <td>4tN3rZ7cChj4Wns2Wt2Nj6</td>\n",
       "      <td>2 AM</td>\n",
       "      <td>antiviralpop,kpop,minecraft</td>\n",
       "      <td>2075.0</td>\n",
       "      <td>41</td>\n",
       "      <td>False</td>\n",
       "      <td>False</td>\n",
       "      <td>False</td>\n",
       "      <td>False</td>\n",
       "      <td>False</td>\n",
       "      <td>...</td>\n",
       "      <td>False</td>\n",
       "      <td>False</td>\n",
       "      <td>True</td>\n",
       "      <td>False</td>\n",
       "      <td>False</td>\n",
       "      <td>False</td>\n",
       "      <td>False</td>\n",
       "      <td>False</td>\n",
       "      <td>False</td>\n",
       "      <td>1</td>\n",
       "    </tr>\n",
       "    <tr>\n",
       "      <th>1</th>\n",
       "      <td>3LsQKoRgMc8VEkQn66jfAQ</td>\n",
       "      <td>2:54</td>\n",
       "      <td>metropopolis</td>\n",
       "      <td>10158.0</td>\n",
       "      <td>19</td>\n",
       "      <td>False</td>\n",
       "      <td>False</td>\n",
       "      <td>False</td>\n",
       "      <td>False</td>\n",
       "      <td>False</td>\n",
       "      <td>...</td>\n",
       "      <td>False</td>\n",
       "      <td>False</td>\n",
       "      <td>True</td>\n",
       "      <td>False</td>\n",
       "      <td>False</td>\n",
       "      <td>False</td>\n",
       "      <td>False</td>\n",
       "      <td>False</td>\n",
       "      <td>False</td>\n",
       "      <td>1</td>\n",
       "    </tr>\n",
       "    <tr>\n",
       "      <th>2</th>\n",
       "      <td>733SPLVnEyXs6GxUEnJ7bx</td>\n",
       "      <td>11/5</td>\n",
       "      <td>gfunk,hyphy</td>\n",
       "      <td>14489.0</td>\n",
       "      <td>29</td>\n",
       "      <td>False</td>\n",
       "      <td>False</td>\n",
       "      <td>False</td>\n",
       "      <td>False</td>\n",
       "      <td>False</td>\n",
       "      <td>...</td>\n",
       "      <td>False</td>\n",
       "      <td>False</td>\n",
       "      <td>False</td>\n",
       "      <td>False</td>\n",
       "      <td>False</td>\n",
       "      <td>False</td>\n",
       "      <td>False</td>\n",
       "      <td>False</td>\n",
       "      <td>False</td>\n",
       "      <td>1</td>\n",
       "    </tr>\n",
       "    <tr>\n",
       "      <th>4</th>\n",
       "      <td>1h2OVSKRdJHnVqyCKqCLkf</td>\n",
       "      <td>?uestlove</td>\n",
       "      <td>phillyrap</td>\n",
       "      <td>16178.0</td>\n",
       "      <td>34</td>\n",
       "      <td>False</td>\n",
       "      <td>False</td>\n",
       "      <td>False</td>\n",
       "      <td>False</td>\n",
       "      <td>False</td>\n",
       "      <td>...</td>\n",
       "      <td>False</td>\n",
       "      <td>False</td>\n",
       "      <td>False</td>\n",
       "      <td>False</td>\n",
       "      <td>True</td>\n",
       "      <td>False</td>\n",
       "      <td>False</td>\n",
       "      <td>False</td>\n",
       "      <td>False</td>\n",
       "      <td>1</td>\n",
       "    </tr>\n",
       "    <tr>\n",
       "      <th>6</th>\n",
       "      <td>2McJOiKebPtBGqyEYyZQFN</td>\n",
       "      <td>[:SITD:]</td>\n",
       "      <td>aggrotech,darkwave,ebm,electroindustrial,futur...</td>\n",
       "      <td>13580.0</td>\n",
       "      <td>36</td>\n",
       "      <td>False</td>\n",
       "      <td>False</td>\n",
       "      <td>False</td>\n",
       "      <td>False</td>\n",
       "      <td>False</td>\n",
       "      <td>...</td>\n",
       "      <td>False</td>\n",
       "      <td>False</td>\n",
       "      <td>True</td>\n",
       "      <td>False</td>\n",
       "      <td>False</td>\n",
       "      <td>False</td>\n",
       "      <td>False</td>\n",
       "      <td>False</td>\n",
       "      <td>False</td>\n",
       "      <td>1</td>\n",
       "    </tr>\n",
       "  </tbody>\n",
       "</table>\n",
       "<p>5 rows × 25 columns</p>\n",
       "</div>"
      ],
      "text/plain": [
       "                artist_id artist_name  \\\n",
       "0  4tN3rZ7cChj4Wns2Wt2Nj6        2 AM   \n",
       "1  3LsQKoRgMc8VEkQn66jfAQ        2:54   \n",
       "2  733SPLVnEyXs6GxUEnJ7bx        11/5   \n",
       "4  1h2OVSKRdJHnVqyCKqCLkf   ?uestlove   \n",
       "6  2McJOiKebPtBGqyEYyZQFN    [:SITD:]   \n",
       "\n",
       "                                       artist_genres  artist_followers  \\\n",
       "0                        antiviralpop,kpop,minecraft            2075.0   \n",
       "1                                       metropopolis           10158.0   \n",
       "2                                        gfunk,hyphy           14489.0   \n",
       "4                                          phillyrap           16178.0   \n",
       "6  aggrotech,darkwave,ebm,electroindustrial,futur...           13580.0   \n",
       "\n",
       "   artist_popularity  blues  children  classical  country    edm  ...   jazz  \\\n",
       "0                 41  False     False      False    False  False  ...  False   \n",
       "1                 19  False     False      False    False  False  ...  False   \n",
       "2                 29  False     False      False    False  False  ...  False   \n",
       "4                 34  False     False      False    False  False  ...  False   \n",
       "6                 36  False     False      False    False  False  ...  False   \n",
       "\n",
       "   latin    pop    r&b    rap  reggae   rock   soul  soundtrack  genre_count  \n",
       "0  False   True  False  False   False  False  False       False            1  \n",
       "1  False   True  False  False   False  False  False       False            1  \n",
       "2  False  False  False  False   False  False  False       False            1  \n",
       "4  False  False  False   True   False  False  False       False            1  \n",
       "6  False   True  False  False   False  False  False       False            1  \n",
       "\n",
       "[5 rows x 25 columns]"
      ]
     },
     "execution_count": 8,
     "metadata": {},
     "output_type": "execute_result"
    }
   ],
   "source": [
    "print(artists.info())\n",
    "artists.head()"
   ]
  },
  {
   "cell_type": "markdown",
   "metadata": {},
   "source": [
    "## 1. Examine Follower Data"
   ]
  },
  {
   "cell_type": "code",
   "execution_count": 9,
   "metadata": {},
   "outputs": [
    {
     "name": "stdout",
     "output_type": "stream",
     "text": [
      "3659\n",
      "5331\n",
      "10542\n",
      "659\n"
     ]
    }
   ],
   "source": [
    "#Create dataframes filtered by pop, rock, hiphop, and country genres\n",
    "pop_artists = artists[(artists['pop']==True)]\n",
    "rock_artists = artists[(artists['rock']==True)]\n",
    "hiphop_artists = artists[(artists['hiphop']==True)]\n",
    "country_artists = artists[(artists['country']==True)]\n",
    "#Print count of rows\n",
    "print(len(hiphop_artists))\n",
    "print(len(rock_artists))\n",
    "print(len(pop_artists))\n",
    "print(len(country_artists))"
   ]
  },
  {
   "cell_type": "code",
   "execution_count": 189,
   "metadata": {},
   "outputs": [
    {
     "data": {
      "image/png": "[encoded data removed]",
      "text/plain": [
       "<Figure size 720x720 with 4 Axes>"
      ]
     },
     "metadata": {
      "needs_background": "light"
     },
     "output_type": "display_data"
    }
   ],
   "source": [
    "fig = plt.figure(figsize=(10,10))\n",
    "\n",
    "ax1 = fig.add_subplot(2,2,1)\n",
    "ax1 = sns.distplot(pop_artists.artist_followers, kde=True)\n",
    "ax1.set_title('Pop Followers')\n",
    "\n",
    "ax2 = fig.add_subplot(2,2,2)\n",
    "ax2 = sns.distplot(hiphop_artists.artist_followers, kde=True)\n",
    "ax2.set_title('Hip Hop Followers')\n",
    "\n",
    "ax3 = fig.add_subplot(2,2,3)\n",
    "ax3 = sns.distplot(rock_artists.artist_followers, kde=True)\n",
    "ax3.set_title('Rock Followers')\n",
    "\n",
    "ax4 = fig.add_subplot(2,2,4)\n",
    "ax4 = sns.distplot(country_artists.artist_followers, kde=True)\n",
    "ax4.set_title('Country Followers')\n",
    "\n",
    "plt.show()"
   ]
  },
  {
   "cell_type": "code",
   "execution_count": 10,
   "metadata": {},
   "outputs": [],
   "source": [
    "#Create test sample array for each genre\n",
    "hiphop_test_sample = np.array(hiphop_artists['artist_followers'].sample(500))\n",
    "rock_test_sample = np.array(rock_artists['artist_followers'].sample(500))\n",
    "pop_test_sample = np.array(pop_artists['artist_followers'].sample(500))\n",
    "country_test_sample = np.array(country_artists['artist_followers'].sample(500))"
   ]
  },
  {
   "cell_type": "code",
   "execution_count": 11,
   "metadata": {},
   "outputs": [
    {
     "data": {
      "text/html": [
       "<div>\n",
       "<style scoped>\n",
       "    .dataframe tbody tr th:only-of-type {\n",
       "        vertical-align: middle;\n",
       "    }\n",
       "\n",
       "    .dataframe tbody tr th {\n",
       "        vertical-align: top;\n",
       "    }\n",
       "\n",
       "    .dataframe thead th {\n",
       "        text-align: right;\n",
       "    }\n",
       "</style>\n",
       "<table border=\"1\" class=\"dataframe\">\n",
       "  <thead>\n",
       "    <tr style=\"text-align: right;\">\n",
       "      <th></th>\n",
       "      <th>hiphop</th>\n",
       "      <th>rock</th>\n",
       "      <th>pop</th>\n",
       "      <th>country</th>\n",
       "    </tr>\n",
       "  </thead>\n",
       "  <tbody>\n",
       "    <tr>\n",
       "      <th>0</th>\n",
       "      <td>2392.0</td>\n",
       "      <td>10464.0</td>\n",
       "      <td>273.0</td>\n",
       "      <td>4507.0</td>\n",
       "    </tr>\n",
       "    <tr>\n",
       "      <th>1</th>\n",
       "      <td>1866.0</td>\n",
       "      <td>1686.0</td>\n",
       "      <td>1345.0</td>\n",
       "      <td>205.0</td>\n",
       "    </tr>\n",
       "    <tr>\n",
       "      <th>2</th>\n",
       "      <td>1250.0</td>\n",
       "      <td>933.0</td>\n",
       "      <td>17709.0</td>\n",
       "      <td>1308.0</td>\n",
       "    </tr>\n",
       "    <tr>\n",
       "      <th>3</th>\n",
       "      <td>610.0</td>\n",
       "      <td>4189.0</td>\n",
       "      <td>151.0</td>\n",
       "      <td>1072.0</td>\n",
       "    </tr>\n",
       "    <tr>\n",
       "      <th>4</th>\n",
       "      <td>467.0</td>\n",
       "      <td>9221.0</td>\n",
       "      <td>13502.0</td>\n",
       "      <td>462.0</td>\n",
       "    </tr>\n",
       "  </tbody>\n",
       "</table>\n",
       "</div>"
      ],
      "text/plain": [
       "   hiphop     rock      pop  country\n",
       "0  2392.0  10464.0    273.0   4507.0\n",
       "1  1866.0   1686.0   1345.0    205.0\n",
       "2  1250.0    933.0  17709.0   1308.0\n",
       "3   610.0   4189.0    151.0   1072.0\n",
       "4   467.0   9221.0  13502.0    462.0"
      ]
     },
     "execution_count": 11,
     "metadata": {},
     "output_type": "execute_result"
    }
   ],
   "source": [
    "#Create dataframe of test sample arrays\n",
    "followers_test_sample_df = pd.DataFrame({\"hiphop\": hiphop_test_sample,\n",
    "                                         'rock': rock_test_sample,\n",
    "                                         'pop': pop_test_sample,\n",
    "                                         'country': country_test_sample,\n",
    "                                        })\n",
    "followers_test_sample_df.head()"
   ]
  },
  {
   "cell_type": "code",
   "execution_count": 12,
   "metadata": {},
   "outputs": [
    {
     "data": {
      "image/png": "[encoded data removed]",
      "text/plain": [
       "<Figure size 432x288 with 1 Axes>"
      ]
     },
     "metadata": {
      "needs_background": "light"
     },
     "output_type": "display_data"
    }
   ],
   "source": [
    "#Boxplot\n",
    "followers_test_sample_df.boxplot(showmeans=True)\n",
    "plt.tight_layout()"
   ]
  },
  {
   "cell_type": "code",
   "execution_count": 13,
   "metadata": {},
   "outputs": [
    {
     "name": "stdout",
     "output_type": "stream",
     "text": [
      "Means of the samples are:  5190.72 4861.732 5457.554 5118.41\n"
     ]
    }
   ],
   "source": [
    "#Print means\n",
    "print('Means of the samples are: ', \n",
    "      hiphop_test_sample.mean(), \n",
    "      rock_test_sample.mean(),\n",
    "      pop_test_sample.mean(),\n",
    "      country_test_sample.mean()\n",
    "     )"
   ]
  },
  {
   "cell_type": "code",
   "execution_count": 14,
   "metadata": {},
   "outputs": [
    {
     "name": "stdout",
     "output_type": "stream",
     "text": [
      "STD of the samples are:  6184.929343622285 5745.437579521337 6161.129034445229 5783.414949828519\n"
     ]
    }
   ],
   "source": [
    "#Print standard deviation\n",
    "print('STD of the samples are: ', \n",
    "      np.std(hiphop_test_sample), \n",
    "      np.std(rock_test_sample),\n",
    "      np.std(pop_test_sample),\n",
    "      np.std(country_test_sample)\n",
    "     )"
   ]
  },
  {
   "cell_type": "markdown",
   "metadata": {},
   "source": [
    "## 2. ANOVA Test"
   ]
  },
  {
   "cell_type": "markdown",
   "metadata": {},
   "source": [
    "$H_{0}$: $\\mu_{pop} = \\mu_{rock} = \\mu_{hiphop} = \\mu_{country}$ \n",
    "\n",
    "All mean followers count of Pop, Rock, HipHop, and Country genres are equal.\n",
    "\n",
    "$H_{a}$: not all means are equal.\n",
    "\n",
    "$\\alpha = 0.05$"
   ]
  },
  {
   "cell_type": "code",
   "execution_count": 15,
   "metadata": {},
   "outputs": [
    {
     "name": "stdout",
     "output_type": "stream",
     "text": [
      "731.8000000000001\n",
      "1066.2\n",
      "2108.4\n",
      "131.8\n"
     ]
    }
   ],
   "source": [
    "#Taking a sample of 20% of the size of each genre dataframe\n",
    "print(len(hiphop_artists)*.2)\n",
    "print(len(rock_artists)*.2)\n",
    "print(len(pop_artists)*.2)\n",
    "print(len(country_artists)*.2)"
   ]
  },
  {
   "cell_type": "code",
   "execution_count": 126,
   "metadata": {},
   "outputs": [],
   "source": [
    "#Create test sample array for each genre\n",
    "hiphop_sample = np.array(hiphop_artists['artist_followers'].sample(732))\n",
    "rock_sample = np.array(rock_artists['artist_followers'].sample(1066))\n",
    "pop_sample = np.array(pop_artists['artist_followers'].sample(2108))\n",
    "country_sample = np.array(country_artists['artist_followers'].sample(132))"
   ]
  },
  {
   "cell_type": "code",
   "execution_count": 191,
   "metadata": {},
   "outputs": [
    {
     "data": {
      "image/png": "[encoded data removed]",
      "text/plain": [
       "<Figure size 720x720 with 4 Axes>"
      ]
     },
     "metadata": {
      "needs_background": "light"
     },
     "output_type": "display_data"
    }
   ],
   "source": [
    "fig = plt.figure(figsize=(10,10))\n",
    "\n",
    "ax1 = fig.add_subplot(2,2,1)\n",
    "ax1 = sns.distplot(pop_sample, kde=True)\n",
    "ax1.set_title('Pop Sample Followers')\n",
    "\n",
    "ax2 = fig.add_subplot(2,2,2)\n",
    "ax2 = sns.distplot(hiphop_sample, kde=True)\n",
    "ax2.set_title('Hip Hop Sample Followers')\n",
    "\n",
    "ax3 = fig.add_subplot(2,2,3)\n",
    "ax3 = sns.distplot(rock_sample, kde=True)\n",
    "ax3.set_title('Rock Sample Followers')\n",
    "\n",
    "ax4 = fig.add_subplot(2,2,4)\n",
    "ax4 = sns.distplot(country_sample, kde=True)\n",
    "ax4.set_title('Country Sample Followers')\n",
    "\n",
    "plt.show()"
   ]
  },
  {
   "cell_type": "code",
   "execution_count": 138,
   "metadata": {},
   "outputs": [],
   "source": [
    "#Defining variables\n",
    "\n",
    "#List of samples\n",
    "sample_list = [hiphop_sample,\n",
    "               rock_sample, \n",
    "               pop_sample, \n",
    "               country_sample]\n",
    "\n",
    "#Number of groups\n",
    "k = len(sample_list)\n",
    "\n",
    "#Sample size of each group\n",
    "n1 = len(hiphop_sample)\n",
    "n2 = len(rock_sample)\n",
    "n3 = len(pop_sample)\n",
    "n4 = len(country_sample)\n",
    "\n",
    "#Total sample size\n",
    "n = n1 + n2 + n3 + n4\n",
    "\n",
    "#Concatenate all samples to an array\n",
    "x_all = np.concatenate([hiphop_sample, \n",
    "                        rock_sample, \n",
    "                        pop_sample, \n",
    "                        country_sample])\n",
    "\n",
    "#Mean for all groups combined\n",
    "x_bar = x_all.mean()\n"
   ]
  },
  {
   "cell_type": "code",
   "execution_count": 139,
   "metadata": {},
   "outputs": [],
   "source": [
    "ss_between = np.sum([len(sample)*(sample.mean() - x_bar)**2 for sample in sample_list])\n",
    "df_between = k - 1\n",
    "\n",
    "ss_within = np.sum([((sample - sample.mean())**2).sum() for sample in sample_list])\n",
    "df_within = n - k\n",
    "\n",
    "ss_total = np.sum([((sample - x_bar)**2).sum() for sample in sample_list])\n",
    "df_total = n - 1\n"
   ]
  },
  {
   "cell_type": "code",
   "execution_count": 140,
   "metadata": {},
   "outputs": [
    {
     "name": "stdout",
     "output_type": "stream",
     "text": [
      "F-Score: 3.28360795341051\n"
     ]
    }
   ],
   "source": [
    "ms_between = ss_between / df_between\n",
    "ms_within = ss_within / df_within\n",
    "\n",
    "f_score = ms_between / ms_within\n",
    "print('F-Score:', f_score)"
   ]
  },
  {
   "cell_type": "code",
   "execution_count": 141,
   "metadata": {},
   "outputs": [
    {
     "name": "stdout",
     "output_type": "stream",
     "text": [
      "P-Value: 0.019976003020497957\n"
     ]
    }
   ],
   "source": [
    "p_value = 1 - scipy.stats.f.cdf(f_score, df_between, df_within)\n",
    "print('P-Value:', p_value)"
   ]
  },
  {
   "cell_type": "code",
   "execution_count": 142,
   "metadata": {},
   "outputs": [
    {
     "name": "stdout",
     "output_type": "stream",
     "text": [
      "F-Score: 3.2836079534105043\n",
      "P-Value: 0.019976003020498345\n"
     ]
    }
   ],
   "source": [
    "#Checking results with a stats package\n",
    "F_statistic, pVal = stats.f_oneway(hiphop_sample,\n",
    "                                   rock_sample, \n",
    "                                   pop_sample, \n",
    "                                   country_sample)\n",
    "print('F-Score:', F_statistic)\n",
    "print('P-Value:', pVal)"
   ]
  },
  {
   "cell_type": "markdown",
   "metadata": {},
   "source": [
    "## 3. Tukey's Test"
   ]
  },
  {
   "cell_type": "markdown",
   "metadata": {},
   "source": [
    "$H_{0}$: $\\mu_{1} = \\mu_{2}$ \n",
    "\n",
    "Mean followers count of each pairwise combination of Pop, Rock, HipHop, and Country genres are equal.\n",
    "\n",
    "$H_{a}$: $\\mu_{1} ≠ \\mu_{2}$\n",
    "\n",
    "$\\alpha = 0.05$\n",
    "\n",
    "\n",
    "This method tests at P<0.05 (correcting for the fact that multiple comparisons are being made which would normally increase the probability of a significant difference being identified). A results of ’reject = True’ means that a significant difference has been observed."
   ]
  },
  {
   "cell_type": "code",
   "execution_count": 72,
   "metadata": {},
   "outputs": [],
   "source": [
    "hiphop_df = pd.DataFrame(hiphop_sample)\n",
    "hiphop_df = hiphop_df.rename(columns={0: 'followers'})\n",
    "hiphop_df['genre'] = 'hiphop'\n",
    "hiphop_df['id'] = 0\n",
    "\n",
    "rock_df = pd.DataFrame(rock_sample)\n",
    "rock_df = rock_df.rename(columns={0: 'followers'})\n",
    "rock_df['genre'] = 'rock'\n",
    "rock_df['id'] = 1\n",
    "\n",
    "pop_df = pd.DataFrame(pop_sample)\n",
    "pop_df = pop_df.rename(columns={0: 'followers'})\n",
    "pop_df['genre'] = 'pop'\n",
    "pop_df['id'] = 2\n",
    "\n",
    "country_df = pd.DataFrame(country_sample)\n",
    "country_df = country_df.rename(columns={0: 'followers'})\n",
    "country_df['genre'] = 'country'\n",
    "country_df['id'] = 3\n",
    "\n",
    "combined_sample_df = pd.concat([hiphop_df, \n",
    "                                rock_df, \n",
    "                                pop_df, \n",
    "                                country_df], axis=0)"
   ]
  },
  {
   "cell_type": "code",
   "execution_count": 78,
   "metadata": {},
   "outputs": [],
   "source": [
    "from statsmodels.stats.multicomp import (pairwise_tukeyhsd,\n",
    "                                         MultiComparison)"
   ]
  },
  {
   "cell_type": "code",
   "execution_count": 79,
   "metadata": {},
   "outputs": [],
   "source": [
    "MultiComp = MultiComparison(combined_sample_df['followers'],\n",
    "                            combined_sample_df['genre'])"
   ]
  },
  {
   "cell_type": "code",
   "execution_count": 80,
   "metadata": {},
   "outputs": [
    {
     "name": "stdout",
     "output_type": "stream",
     "text": [
      "    Multiple Comparison of Means - Tukey HSD, FWER=0.05    \n",
      "===========================================================\n",
      " group1 group2  meandiff p-adj    lower      upper   reject\n",
      "-----------------------------------------------------------\n",
      "country hiphop -248.4856    0.9 -1722.6643 1225.6931  False\n",
      "country    pop  454.1341 0.8168  -944.6076 1852.8757  False\n",
      "country   rock   -45.766    0.9 -1484.2288 1392.6967  False\n",
      " hiphop    pop  702.6197 0.0351    33.8076 1371.4317   True\n",
      " hiphop   rock  202.7196 0.8944  -545.6162  951.0553  False\n",
      "    pop   rock -499.9001 0.1252 -1085.8026   86.0024  False\n",
      "-----------------------------------------------------------\n"
     ]
    }
   ],
   "source": [
    "print(MultiComp.tukeyhsd().summary())"
   ]
  },
  {
   "cell_type": "markdown",
   "metadata": {},
   "source": [
    "The Tukey test results indicate that a significant difference has been observed between the hiphop and pop genres' follower count means."
   ]
  },
  {
   "cell_type": "markdown",
   "metadata": {
    "heading_collapsed": true
   },
   "source": [
    "## 4. Levene Test"
   ]
  },
  {
   "cell_type": "markdown",
   "metadata": {
    "hidden": true
   },
   "source": [
    "$H_{0}$: $\\mu_{1} = \\mu_{2}$ \n",
    "\n",
    "All mean followers count of each pairwise combination of Pop, Rock, HipHop, and Country genres are equal.\n",
    "\n",
    "$H_{a}$: $\\mu_{1} ≠ \\mu_{2}$\n",
    "\n",
    "$\\alpha = 0.05$\n",
    "\n",
    "Perform Levene test for equal variances.\n",
    "\n",
    "The Levene test tests the null hypothesis that all input samples are from populations with equal variances. Levene’s test is an alternative to Bartlett’s test bartlett in the case where there are significant deviations from normality."
   ]
  },
  {
   "cell_type": "code",
   "execution_count": 145,
   "metadata": {
    "hidden": true
   },
   "outputs": [
    {
     "data": {
      "text/plain": [
       "LeveneResult(statistic=4.795497837251067, pvalue=0.028615343257720215)"
      ]
     },
     "execution_count": 145,
     "metadata": {},
     "output_type": "execute_result"
    }
   ],
   "source": [
    "scipy.stats.levene(hiphop_sample, pop_sample)"
   ]
  },
  {
   "cell_type": "code",
   "execution_count": 144,
   "metadata": {
    "hidden": true,
    "scrolled": true
   },
   "outputs": [
    {
     "data": {
      "text/plain": [
       "LeveneResult(statistic=9.197530227369434, pvalue=0.002445348701443312)"
      ]
     },
     "execution_count": 144,
     "metadata": {},
     "output_type": "execute_result"
    }
   ],
   "source": [
    "scipy.stats.levene(hiphop_sample, pop_sample, center='mean')"
   ]
  },
  {
   "cell_type": "code",
   "execution_count": 151,
   "metadata": {
    "hidden": true
   },
   "outputs": [
    {
     "data": {
      "text/plain": [
       "LeveneResult(statistic=4.811485181304166, pvalue=0.028342999743326665)"
      ]
     },
     "execution_count": 151,
     "metadata": {},
     "output_type": "execute_result"
    }
   ],
   "source": [
    "scipy.stats.levene(rock_sample, pop_sample, center='mean')"
   ]
  },
  {
   "cell_type": "code",
   "execution_count": 152,
   "metadata": {
    "hidden": true
   },
   "outputs": [
    {
     "data": {
      "text/plain": [
       "LeveneResult(statistic=4.202855273454721, pvalue=0.04047225774466804)"
      ]
     },
     "execution_count": 152,
     "metadata": {},
     "output_type": "execute_result"
    }
   ],
   "source": [
    "scipy.stats.levene(country_sample, pop_sample, center='mean')"
   ]
  },
  {
   "cell_type": "code",
   "execution_count": null,
   "metadata": {
    "hidden": true
   },
   "outputs": [],
   "source": []
  },
  {
   "cell_type": "code",
   "execution_count": 146,
   "metadata": {
    "hidden": true
   },
   "outputs": [
    {
     "data": {
      "text/plain": [
       "LeveneResult(statistic=0.34677363413931284, pvalue=0.5560994824765572)"
      ]
     },
     "execution_count": 146,
     "metadata": {},
     "output_type": "execute_result"
    }
   ],
   "source": [
    "scipy.stats.levene(hiphop_sample, country_sample, center='mean')"
   ]
  },
  {
   "cell_type": "code",
   "execution_count": 147,
   "metadata": {
    "hidden": true
   },
   "outputs": [
    {
     "data": {
      "text/plain": [
       "LeveneResult(statistic=1.0047546866505364, pvalue=0.3162977698043068)"
      ]
     },
     "execution_count": 147,
     "metadata": {},
     "output_type": "execute_result"
    }
   ],
   "source": [
    "scipy.stats.levene(hiphop_sample, rock_sample, center='mean')"
   ]
  },
  {
   "cell_type": "code",
   "execution_count": 150,
   "metadata": {
    "hidden": true
   },
   "outputs": [
    {
     "data": {
      "text/plain": [
       "LeveneResult(statistic=1.2532110176492233, pvalue=0.26316484368638177)"
      ]
     },
     "execution_count": 150,
     "metadata": {},
     "output_type": "execute_result"
    }
   ],
   "source": [
    "scipy.stats.levene(country_sample, rock_sample, center='mean')"
   ]
  },
  {
   "cell_type": "markdown",
   "metadata": {
    "heading_collapsed": true
   },
   "source": [
    "## 5. Bartlett"
   ]
  },
  {
   "cell_type": "markdown",
   "metadata": {
    "hidden": true
   },
   "source": [
    "Perform Bartlett’s test for equal variances\n",
    "\n",
    "Bartlett’s test tests the null hypothesis that all input samples are from populations with equal variances. For samples from significantly non-normal populations, Levene’s test is more robust."
   ]
  },
  {
   "cell_type": "code",
   "execution_count": 155,
   "metadata": {
    "hidden": true
   },
   "outputs": [
    {
     "data": {
      "text/plain": [
       "BartlettResult(statistic=5.8767493484967295, pvalue=0.015342121233637816)"
      ]
     },
     "execution_count": 155,
     "metadata": {},
     "output_type": "execute_result"
    }
   ],
   "source": [
    "scipy.stats.bartlett(pop_sample, hiphop_sample)"
   ]
  },
  {
   "cell_type": "code",
   "execution_count": 118,
   "metadata": {
    "hidden": true
   },
   "outputs": [
    {
     "data": {
      "text/plain": [
       "BartlettResult(statistic=6.766503573231401, pvalue=0.009288463288885478)"
      ]
     },
     "execution_count": 118,
     "metadata": {},
     "output_type": "execute_result"
    }
   ],
   "source": [
    "scipy.stats.bartlett(pop_sample, rock_sample)"
   ]
  },
  {
   "cell_type": "code",
   "execution_count": 154,
   "metadata": {
    "hidden": true
   },
   "outputs": [
    {
     "data": {
      "text/plain": [
       "BartlettResult(statistic=4.69393405978733, pvalue=0.03026926872564815)"
      ]
     },
     "execution_count": 154,
     "metadata": {},
     "output_type": "execute_result"
    }
   ],
   "source": [
    "scipy.stats.bartlett(pop_sample, country_sample)"
   ]
  },
  {
   "cell_type": "code",
   "execution_count": null,
   "metadata": {
    "hidden": true
   },
   "outputs": [],
   "source": []
  },
  {
   "cell_type": "code",
   "execution_count": 156,
   "metadata": {
    "hidden": true
   },
   "outputs": [
    {
     "data": {
      "text/plain": [
       "BartlettResult(statistic=0.7051766834626334, pvalue=0.4010497014476849)"
      ]
     },
     "execution_count": 156,
     "metadata": {},
     "output_type": "execute_result"
    }
   ],
   "source": [
    "scipy.stats.bartlett(hiphop_sample, rock_sample)"
   ]
  },
  {
   "cell_type": "code",
   "execution_count": 157,
   "metadata": {
    "hidden": true
   },
   "outputs": [
    {
     "data": {
      "text/plain": [
       "BartlettResult(statistic=2.1278654269144033, pvalue=0.14464205804274166)"
      ]
     },
     "execution_count": 157,
     "metadata": {},
     "output_type": "execute_result"
    }
   ],
   "source": [
    "scipy.stats.bartlett(country_sample, rock_sample)"
   ]
  },
  {
   "cell_type": "code",
   "execution_count": 158,
   "metadata": {
    "hidden": true
   },
   "outputs": [
    {
     "data": {
      "text/plain": [
       "BartlettResult(statistic=1.0367026921472922, pvalue=0.3085895803687274)"
      ]
     },
     "execution_count": 158,
     "metadata": {},
     "output_type": "execute_result"
    }
   ],
   "source": [
    "scipy.stats.bartlett(country_sample, hiphop_sample)"
   ]
  },
  {
   "cell_type": "markdown",
   "metadata": {},
   "source": [
    "## 5. Welch's T-Test"
   ]
  },
  {
   "cell_type": "markdown",
   "metadata": {},
   "source": [
    "$H_{0}$: $\\mu_{pop} <= \\mu_{hiphop}$ \n",
    "\n",
    "All mean followers count of Pop equals mean follower count of HipHop.\n",
    "\n",
    "$H_{a}$: $\\mu_{pop} > \\mu_{hiphop}$\n",
    "\n",
    "$\\alpha = 0.05$"
   ]
  },
  {
   "cell_type": "code",
   "execution_count": 166,
   "metadata": {},
   "outputs": [
    {
     "data": {
      "text/plain": [
       "5266.291271347249"
      ]
     },
     "execution_count": 166,
     "metadata": {},
     "output_type": "execute_result"
    }
   ],
   "source": [
    "pop_sample.mean()"
   ]
  },
  {
   "cell_type": "code",
   "execution_count": 163,
   "metadata": {},
   "outputs": [
    {
     "data": {
      "text/plain": [
       "4615.581967213115"
      ]
     },
     "execution_count": 163,
     "metadata": {},
     "output_type": "execute_result"
    }
   ],
   "source": [
    "hiphop_sample.mean()"
   ]
  },
  {
   "cell_type": "code",
   "execution_count": 160,
   "metadata": {},
   "outputs": [
    {
     "data": {
      "text/plain": [
       "Ttest_indResult(statistic=2.6555828928605627, pvalue=0.008009498975059065)"
      ]
     },
     "execution_count": 160,
     "metadata": {},
     "output_type": "execute_result"
    }
   ],
   "source": [
    "scipy.stats.ttest_ind(pop_sample, hiphop_sample, equal_var=False)"
   ]
  },
  {
   "cell_type": "code",
   "execution_count": 159,
   "metadata": {},
   "outputs": [
    {
     "data": {
      "text/plain": [
       "Ttest_indResult(statistic=2.0740473804222535, pvalue=0.038189568839467475)"
      ]
     },
     "execution_count": 159,
     "metadata": {},
     "output_type": "execute_result"
    }
   ],
   "source": [
    "scipy.stats.ttest_ind(pop_sample, rock_sample, equal_var=False)"
   ]
  },
  {
   "cell_type": "code",
   "execution_count": 161,
   "metadata": {},
   "outputs": [
    {
     "data": {
      "text/plain": [
       "Ttest_indResult(statistic=1.7541258310565109, pvalue=0.08140160281359549)"
      ]
     },
     "execution_count": 161,
     "metadata": {},
     "output_type": "execute_result"
    }
   ],
   "source": [
    "scipy.stats.ttest_ind(pop_sample, country_sample, equal_var=False)"
   ]
  },
  {
   "cell_type": "markdown",
   "metadata": {},
   "source": [
    "According to the documentation for stats.ttest_ind() the output returned is for a two-tailed t-test. Therefore we must divide the p by 2 for a one-tailed test. "
   ]
  },
  {
   "cell_type": "code",
   "execution_count": 171,
   "metadata": {},
   "outputs": [
    {
     "name": "stdout",
     "output_type": "stream",
     "text": [
      "0.0040047494875295325\n",
      "0.019094784419733737\n",
      "0.04070080140679774\n"
     ]
    }
   ],
   "source": [
    "print(0.008009498975059065/2)\n",
    "print(0.038189568839467475/2)\n",
    "print(0.08140160281359549/2)"
   ]
  },
  {
   "cell_type": "code",
   "execution_count": null,
   "metadata": {},
   "outputs": [],
   "source": []
  },
  {
   "cell_type": "code",
   "execution_count": 110,
   "metadata": {},
   "outputs": [
    {
     "data": {
      "text/plain": [
       "Ttest_indResult(statistic=-0.7247323917962211, pvalue=0.4687235888708353)"
      ]
     },
     "execution_count": 110,
     "metadata": {},
     "output_type": "execute_result"
    }
   ],
   "source": [
    "scipy.stats.ttest_ind(hiphop_sample, rock_sample, equal_var=False)"
   ]
  },
  {
   "cell_type": "code",
   "execution_count": 111,
   "metadata": {},
   "outputs": [
    {
     "data": {
      "text/plain": [
       "Ttest_indResult(statistic=-0.4600250563277861, pvalue=0.6460425276528607)"
      ]
     },
     "execution_count": 111,
     "metadata": {},
     "output_type": "execute_result"
    }
   ],
   "source": [
    "scipy.stats.ttest_ind(hiphop_sample, country_sample, equal_var=False)"
   ]
  },
  {
   "cell_type": "code",
   "execution_count": 114,
   "metadata": {},
   "outputs": [
    {
     "data": {
      "text/plain": [
       "Ttest_indResult(statistic=-0.08682723759828766, pvalue=0.9309127466065095)"
      ]
     },
     "execution_count": 114,
     "metadata": {},
     "output_type": "execute_result"
    }
   ],
   "source": [
    "scipy.stats.ttest_ind(rock_sample, country_sample, equal_var=False)"
   ]
  }
 ],
 "metadata": {
  "kernelspec": {
   "display_name": "Python 3",
   "language": "python",
   "name": "python3"
  },
  "language_info": {
   "codemirror_mode": {
    "name": "ipython",
    "version": 3
   },
   "file_extension": ".py",
   "mimetype": "text/x-python",
   "name": "python",
   "nbconvert_exporter": "python",
   "pygments_lexer": "ipython3",
   "version": "3.7.3"
  },
  "varInspector": {
   "cols": {
    "lenName": 16,
    "lenType": 16,
    "lenVar": 40
   },
   "kernels_config": {
    "python": {
     "delete_cmd_postfix": "",
     "delete_cmd_prefix": "del ",
     "library": "var_list.py",
     "varRefreshCmd": "print(var_dic_list())"
    },
    "r": {
     "delete_cmd_postfix": ") ",
     "delete_cmd_prefix": "rm(",
     "library": "var_list.r",
     "varRefreshCmd": "cat(var_dic_list()) "
    }
   },
   "types_to_exclude": [
    "module",
    "function",
    "builtin_function_or_method",
    "instance",
    "_Feature"
   ],
   "window_display": false
  }
 },
 "nbformat": 4,
 "nbformat_minor": 2
}
